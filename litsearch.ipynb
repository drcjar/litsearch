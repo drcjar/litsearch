{
 "cells": [
  {
   "cell_type": "code",
   "execution_count": 1,
   "metadata": {
    "collapsed": true
   },
   "outputs": [],
   "source": [
    "from Bio import Entrez\n",
    "from Bio import Medline\n",
    "from tqdm import tqdm\n",
    "\n",
    "import sqlite3"
   ]
  },
  {
   "cell_type": "code",
   "execution_count": 2,
   "metadata": {
    "collapsed": true
   },
   "outputs": [],
   "source": [
    "def get_count(term):\n",
    "    \"\"\"\n",
    "    Use pubmed api to get a count of number of results for a search term\n",
    "    \"\"\"\n",
    "    \n",
    "    Entrez.email = \"carl.reynolds@imperial.ac.uk\"\n",
    "    count_handle = Entrez.esearch(db=\"pubmed\",\n",
    "                                  sort=\"relevance\",\n",
    "                                  retmode=\"xml\",\n",
    "                                  rettype=\"count\",\n",
    "                                  #field=\"DP\",\n",
    "                                  term=term)\n",
    "    count_results = Entrez.read(count_handle)\n",
    "    count = int(count_results[\"Count\"])\n",
    "    \n",
    "    return count"
   ]
  },
  {
   "cell_type": "code",
   "execution_count": 3,
   "metadata": {
    "collapsed": true
   },
   "outputs": [],
   "source": [
    "def chunked_pmids(term, chunksize=1000):\n",
    "    \"\"\"\n",
    "    Use pubmed api to fetch blocks of pmids for a search term\n",
    "    \"\"\"\n",
    "    \n",
    "    count = get_count(term)\n",
    "    \n",
    "    retmax_requests = list(range(0, count, chunksize))\n",
    "                \n",
    "    pmids = []\n",
    "    \n",
    "    print(\"{} blocks of to process\".format(len(retmax_requests)))\n",
    "    \n",
    "    for i, retmax in enumerate(retmax_requests):\n",
    "        \n",
    "        print(\"Processing block {}\".format(i))\n",
    "        \n",
    "        pmid_handle = Entrez.esearch(db=\"pubmed\",\n",
    "                                     sort=\"relevance\",\n",
    "                                     retmode=\"xml\",\n",
    "                                     usehistory='y',\n",
    "                                     retstart=retmax,\n",
    "                                     retmax=chunksize,\n",
    "                                     #field=\"DP\",\n",
    "                                     term=term)\n",
    "        pmids.append(Entrez.read(pmid_handle)[\"IdList\"])\n",
    "            \n",
    "    return pmids"
   ]
  },
  {
   "cell_type": "code",
   "execution_count": 4,
   "metadata": {
    "collapsed": true
   },
   "outputs": [],
   "source": [
    "def fetch_medline(pmids):\n",
    "    \"\"\"\n",
    "    Use pubmed api to fetch medline record for pmids\n",
    "    \"\"\"\n",
    "    \n",
    "    Entrez.email = \"carl.reynolds@imperial.ac.uk\"\n",
    "    handle = Entrez.efetch(db='pubmed',\n",
    "                           id=pmids,\n",
    "                           rettype='medline',\n",
    "                           retmode='text')\n",
    "    records = Medline.parse(handle)\n",
    "    \n",
    "    return records"
   ]
  },
  {
   "cell_type": "code",
   "execution_count": 5,
   "metadata": {
    "collapsed": true
   },
   "outputs": [],
   "source": [
    "def getpapers(pmid_chunks):\n",
    "    \"\"\"\n",
    "    Fetch_medline(chunk) returns a generator object of medline records. we iterate through it saving the records \n",
    "    to a list. We make a dict of the list indexed by the pubmed id. \n",
    "    \"\"\"\n",
    "    \n",
    "    papers = []\n",
    "    \n",
    "    print(\"fetching medline records:\")\n",
    "    \n",
    "    for chunk in tqdm(pmid_chunks):\n",
    "        records = fetch_medline(chunk)\n",
    "        for record in records:\n",
    "            try:\n",
    "                  papers.append((record['PMID'], (', '.join(record['AU'])), record['DP'], \n",
    "                                 record['TI'], record['JT'], (', '.join(record['MH'])), \n",
    "                                 (', '.join(record['PT'])), record['AB']))            \n",
    "            except: continue\n",
    "            \n",
    "    return papers\n"
   ]
  },
  {
   "cell_type": "code",
   "execution_count": 6,
   "metadata": {
    "collapsed": true
   },
   "outputs": [],
   "source": [
    "def save_papers(papers):\n",
    "    conn = sqlite3.connect('papers.db')\n",
    "    c = conn.cursor()\n",
    "    \n",
    "    # Drop table if already exists\n",
    "    c.execute(\"DROP TABLE IF EXISTS papers\")\n",
    "    \n",
    "    # Create table\n",
    "    c.execute('''CREATE TABLE papers\n",
    "             (pmid, author, date, title, journal, key_words, pub_type, abstract)''')\n",
    "\n",
    "    # Insert a rows of data\n",
    "    c.executemany('INSERT INTO papers VALUES (?,?,?,?,?,?,?,?)', papers)\n",
    "\n",
    "    # Save (commit) the changes\n",
    "    conn.commit()\n",
    "\n",
    "    # We can also close the connection if we are done with it.\n",
    "    # Just be sure any changes have been committed or they will be lost.\n",
    "    conn.close()\n",
    "    "
   ]
  },
  {
   "cell_type": "code",
   "execution_count": 7,
   "metadata": {
    "collapsed": true
   },
   "outputs": [],
   "source": [
    "def fetch_papers(year):\n",
    "    \n",
    "    print(\"{} records to fetch\".format(get_count(year)))\n",
    "    pmid_chunks = chunked_pmids(year, 500)\n",
    "    papers = getpapers(pmid_chunks)\n",
    "    \n",
    "    return papers"
   ]
  },
  {
   "cell_type": "code",
   "execution_count": 8,
   "metadata": {
    "collapsed": false
   },
   "outputs": [
    {
     "name": "stdout",
     "output_type": "stream",
     "text": [
      "7150 records to fetch\n",
      "15 blocks of to process\n",
      "Processing block 0\n",
      "Processing block 1\n",
      "Processing block 2\n",
      "Processing block 3\n",
      "Processing block 4\n",
      "Processing block 5\n",
      "Processing block 6\n",
      "Processing block 7\n",
      "Processing block 8\n",
      "Processing block 9\n",
      "Processing block 10\n",
      "Processing block 11\n",
      "Processing block 12\n",
      "Processing block 13\n",
      "Processing block 14\n"
     ]
    },
    {
     "name": "stderr",
     "output_type": "stream",
     "text": [
      "\r",
      "  0%|          | 0/15 [00:00<?, ?it/s]"
     ]
    },
    {
     "name": "stdout",
     "output_type": "stream",
     "text": [
      "fetching medline records:\n"
     ]
    },
    {
     "name": "stderr",
     "output_type": "stream",
     "text": [
      "100%|██████████| 15/15 [00:44<00:00,  2.26s/it]\n"
     ]
    }
   ],
   "source": [
    "papers = fetch_papers(\"Idiopathic Pulmonary Fibrosis\")"
   ]
  },
  {
   "cell_type": "code",
   "execution_count": 9,
   "metadata": {
    "collapsed": false
   },
   "outputs": [],
   "source": [
    "save_papers(papers)"
   ]
  },
  {
   "cell_type": "code",
   "execution_count": 10,
   "metadata": {
    "collapsed": false,
    "scrolled": true
   },
   "outputs": [
    {
     "name": "stdout",
     "output_type": "stream",
     "text": [
      "('14272497', 'KOCH B', '1965 Apr 10', 'FAMILIAL FIBROCYSTIC PULMONARY DYSPLASIA: OBSERVATIONS IN ONE FAMILY.', 'Canadian Medical Association journal', '*Carcinoma, *Carcinoma, Bronchogenic, *Carcinoma, Squamous Cell, *Cyanosis, *Diagnosis, *Dyspnea, *Genetics, Medical, Humans, *Hypertension, *Hypertension, Pulmonary, *Idiopathic Pulmonary Fibrosis, *Joint Diseases, *Lung, *Lung Diseases, *Lung Neoplasms, *Osteoarthropathy, Secondary Hypertrophic, *Pathology, *Polycythemia, *Pulmonary Fibrosis, *Sweating', 'Journal Article', 'At least 31 cases of familial fibrocystic pulmonary dysplasia, within 10 families, have been described in the world literature. The mode of genetic transmission of this disease, however, has been uncertain until now. The author observed three unequivocal and five probable cases of familial fibrocystic pulmonary dysplasia among 56 members of one family. Diagnostic criteria included progressive dyspnea and cyanosis, digital clubbing, pulmonary hypertension, negative sweat tests, polycythemia, arterial hypoxia and hypocapnia, chest radiographs showing diffuse bilateral pulmonary fibrosis, and diffuse fibrocystic pulmonary dysplasia at postmortem examination (two cases). Among the three unequivocal cases one father-to-son transmission was observed. Non-sex-linked dominant transmission of familial fibrocystic pulmonary dysplasia is thereby proved for the first time. One patient also developed a bronchial carcinoma in addition to fibrocystic pulmonary dysplasia; this is considered to be a cause-and-effect relationship and not a coincidental complication.')\n",
      "('5697349', 'Fox B, Risdon RA', '1968 Jul', 'Carcinoma of the lung and diffuse interstitial pulmonary fibrosis.', 'Journal of clinical pathology', 'Adenocarcinoma/*etiology, Arthritis, Rheumatoid/complications, Bronchial Neoplasms/etiology, Humans, Lung Neoplasms/*etiology/pathology, Male, Middle Aged, Pulmonary Fibrosis/*complications/pathology', 'Journal Article', \"The clinical and histopathological findings are presented in two cases of diffuse interstitial pulmonary fibrosis in which carcinoma of the lung developed. In one case with rheumatoid arthritis and diffuse interstitial pulmonary fibrosis there was ;malignant pulmonary adenomatosis', an association which does not appear to have been reported before. In the second case idiopathic diffuse interstitial pulmonary fibrosis was complicated by large cell anaplastic carcinoma of the lung. It is suggested that in both cases the development of carcinoma of the lung was a complication of the epithelial hyperplasia and scarring that occurs in diffuse interstitial pulmonary fibrosis. It is also suggested that carcinoma found in the main bronchi in patients with diffuse interstitial pulmonary fibrosis should not be regarded as coincidental unless careful search has excluded a carcinomatous change in the periphery of the scarred lungs.\")\n",
      "('1179039', 'Roncoroni AJ, Casas JC, Puy RJ, Goldman E, Olmedo G', '1975', 'Idiopathic interstitial pulmonary fibrosis with hypercapnia.', 'Respiration; international review of thoracic diseases', 'Adult, Autopsy, Humans, Hypercapnia/*complications, Lung/anatomy & histology/pathology, Lung Volume Measurements, Male, Organ Size, Pulmonary Fibrosis/*complications/pathology', 'Case Reports, Journal Article', 'A 38-year-old patient with effort dyspnea, somnolence, cianosis and cor pulmonale is presented. Chest roentgenograms and lung function studies suggested the diagnosis of pulmonary fibrosis. The patient showed also severe hypercapnia with normal resting ventilation and ventilatory response to exercise lower than usual for this condition. Autopsy confirmed the clinical diagnosis. This subject may belong to the growing group of patients where CO2 retention is not explained by their pulmonary pathology.')\n",
      "('1226868', 'Weingartner L', '1975 Jan', \"[The significance of immunologic phenomenons in pulmonary diseases of children (author's transl)].\", 'Zeitschrift fur Erkrankungen der Atmungsorgane', 'Adolescent, Adult, Age Factors, Autoimmune Diseases/classification, Child, Child, Preschool, Diagnosis, Differential, Female, Humans, Lung Diseases/classification/diagnostic imaging/*immunology, Male, Radiography, Respiratory Hypersensitivity/classification', 'Journal Article', 'Under special conditions the lung develops reactions of hypersensitivity, e.g. by the contact with antigens consisting of foreign proteins, organic dusts or different pathogen organisms. It must be distinguished between uncomplicated allergic and autoimmune diseases. The exact separation is difficult, because transitions from one state to the other are possible. The autoimmunisation is a very complicated phenomenon, where endogensou cells are effective as auto-antigens and induce the development of auto-antibodies. From the pathological-anatomical point of view thate are no typical structural changes in the lung, which define a disease as a special autoimmune disease. But the prevalence of round cells in inflamed tissue, the appearance of granuloma with epithelial cells point to immunological phenomenons. Examples for allergic diseases are: \"Asthma bronchiale, pigeon-breeder disease, mite-allergy, farmer\\'s lung, drug-induced allergy\", and for autoimmune diseases: \"Lupus erythematosus, rheumatoid arthritis, polyarteritis nodosa, idiopathic pulmonary hemosiderosis, idiopathic pulmonary fibrosis.\" The drug-therapy consists of corticoids and immune-suppressive drugs.')\n",
      "('1149770', 'Tzivoni D, Licht A, Eliakim M', '1975 Jan', 'Acute idiopathic pericarditis in the aged.', 'European journal of cardiology', 'Acute Disease, Age Factors, Aged, Aspirin/therapeutic use, Coronary Disease/diagnostic imaging, Diagnosis, Differential, Female, Humans, Male, Middle Aged, *Pericarditis/diagnostic imaging/drug therapy, Prednisone/therapeutic use, Quinidine/therapeutic use, Radiography', 'Journal Article', 'Eleven elderly patients with idiopathic pericarditis are reported. All but one were older than 60 yr. Evidence of ischemic cardiovascular disease was present in 8 patients. The initial diagnosis was heart failure with pulmonary complications in 4 cases and myocardial infarction in 3. Respiratory infection preceded the onset of pericarditis in 5 cases. Presenting symptoms were typical precordial pain, fever and dyspnea. Pericardial friction was found in 7 cases and transient rhythm disturbances in 5. Four patients had ST elevation and 3 had ST depression in their electrocardiograms. Other findings included an increased sedimentation rate, leukocytosis, elevated venous pressure and normal SGOT levels. Antibiotics were of no avail but prednisone had a dramatic effect. Two patients had a relapsing course lasting 2 yr or more. One patient, who died at the age of 75 from bleeding ulcer, had patent coronary arteries and mild perimyocardial fibrosis. The diagnosis of idiopathic pericarditis in the aged is difficult because the disease simulates ischemic heart disease in patients who frequently have evidence of arteriosclerotic cardiovascular involvment.')\n"
     ]
    }
   ],
   "source": [
    "conn = sqlite3.connect('papers.db')\n",
    "c = conn.cursor()\n",
    "\n",
    "for row in c.execute('SELECT * FROM papers ORDER BY date LIMIT 5'):\n",
    "        print(row)\n"
   ]
  }
 ],
 "metadata": {
  "kernelspec": {
   "display_name": "Python 3",
   "language": "python",
   "name": "python3"
  },
  "language_info": {
   "codemirror_mode": {
    "name": "ipython",
    "version": 3
   },
   "file_extension": ".py",
   "mimetype": "text/x-python",
   "name": "python",
   "nbconvert_exporter": "python",
   "pygments_lexer": "ipython3",
   "version": "3.5.2"
  }
 },
 "nbformat": 4,
 "nbformat_minor": 2
}
