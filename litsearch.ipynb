{
 "cells": [
  {
   "cell_type": "markdown",
   "metadata": {},
   "source": [
    "### A notebook to support academic question exploration and literature search / what do you do when you search the literature?\n",
    "\n",
    "0. Define a research question e.g Is occupational **asbestos exposure** an underecognised **cause** of IPF? \n",
    "1. Consider the different possible ways of answering the question (methods). Different study designs and ways of measuring asbestos exposure e.g Epidemiological, observational, cross-sectional, cohort, case-control, post-mortem and explant studies, ecological, toxicology, animal models, molecular disease models, exposure assessment, occupational hygeinst measurements, minerologic analysis (tissue, BAL etc)\n",
    "2. Generate search terms e.g \"IPF\", \"case-control\", \"occupational\", \"asbestos\" (? && mesh terms)\n",
    "3. Carry out search using search terms and e.g pubmed, google scholar, scopus, biorxiv, web of science, clinicaltrials.gov, ?google books\n",
    "4. Search results == Candidate Papers\n",
    "5. Extract title | journal | author | location | year | abstract | key words | full text && save result (as .bib) (prob want to export to jabref)\n",
    "6. Review Candidate Papers to identify Relevant Papers \n",
    "7. Use Relevant Papers to identify more Candidate papers. Search also by author, cited by, cite, [triangle closing](https://en.wikipedia.org/wiki/Triadic_closure) e.g https://github.com/hinnefe2/bibcheck.py and other means (?tensorflow/scikit-learn,nltk)\n",
    "8. Use the Relevant Papers collected for whatever it is they are relevant for (usually to help compose a written document in which they are cited)\n",
    "9. ?django app times\n",
    "\n",
    "meta: github/stack exchange etc to check out other peoples search strategies. this is likely to be formulated as a machine learning problem somewhere."
   ]
  },
  {
   "cell_type": "markdown",
   "metadata": {},
   "source": [
    "#### interesting related I found includes: https://www.projectcredo.com/, http://citationexplorer.hoppmann.me/, lict from a previous nhshackday, https://github.com/jvoytek/pubmedbrain/blob/f5170a2e3540e0c2aa665559c86048dfb1583f16/documents/Voytek-brainSCANrPreprint.pdf, https://github.com/graeham/hackathon/blob/master/paperGraph.py"
   ]
  },
  {
   "cell_type": "markdown",
   "metadata": {},
   "source": [
    "### search github for relevant stuff with the following 'webbit' \n",
    "> https://github.com/search?l=Python&q=http%3A%2F%2Feutils.ncbi.nlm.nih.gov%2Fentrez%2Feutils%2Fesearch.fcgi++stars%3A%3E5&ref=advsearch&type=Code&utf8=%E2%9C%93\n",
    "\n",
    "gists and interwebs inc stackoverflow also helpful"
   ]
  },
  {
   "cell_type": "markdown",
   "metadata": {},
   "source": [
    "tempting to dive into django a la https://github.com/afouchet/OpenReview but probably not essential and now is not optimal timing"
   ]
  },
  {
   "cell_type": "markdown",
   "metadata": {},
   "source": [
    "https://github.com/gui11aume looks well documented, poss useful template\n",
    "https://github.com/swcarpentry/2013-08-23-harvard/blob/b2097bc20833e0a58b2e73eecd1227d61bd5a00a/lessons/misc-biopython/eutils.md looks like nice intro to biopython utils and https://gist.github.com/bonzanini/5a4c39e4c02502a8451d, https://gist.github.com/ehazlett/1104507, https://gist.github.com/vtrubets/ef1dabb397ea6a05ce5b4e767ed15af9 (for use of icite), https://gist.github.com/mcfrank/c1ec74df1427278cbe53, http://stackoverflow.com/questions/17409107/obtaining-data-from-pubmed-using-python, https://github.com/bwallace/abstrackr-web/tree/master/abstrackr, http://www.billconnelly.net/?p=44"
   ]
  },
  {
   "cell_type": "markdown",
   "metadata": {},
   "source": [
    "### let's tackle pubmed first"
   ]
  },
  {
   "cell_type": "code",
   "execution_count": 1,
   "metadata": {
    "collapsed": false
   },
   "outputs": [
    {
     "data": {
      "text/plain": [
       "'\\nNotebook to support academic question exploration and literature search.\\n\\nThanks to https://marcobonzanini.wordpress.com/2015/01/12/searching-pubmed-with-python/ and \\nhttp://www.fredtrotter.com/2014/11/14/hacking-on-the-pubmed-api/ and vtrubets\\nhttps://gist.github.com/vtrubets/ef1dabb397ea6a05ce5b4e767ed15af9 \\n\\nPubmed advanced search is helpful for designing search/experimenting \\nhttps://www.ncbi.nlm.nih.gov/pubmed/advanced\\n\\nDocs for NCBI esearch:\\nhttps://www.ncbi.nlm.nih.gov/books/NBK25499/#chapter4.ESearch\\nhttps://www.nlm.nih.gov/bsd/mms/medlineelements.html\\n'"
      ]
     },
     "execution_count": 1,
     "metadata": {},
     "output_type": "execute_result"
    }
   ],
   "source": [
    "\"\"\"\n",
    "Notebook to support academic question exploration and literature search.\n",
    "\n",
    "Thanks to https://marcobonzanini.wordpress.com/2015/01/12/searching-pubmed-with-python/ and \n",
    "http://www.fredtrotter.com/2014/11/14/hacking-on-the-pubmed-api/ and vtrubets\n",
    "https://gist.github.com/vtrubets/ef1dabb397ea6a05ce5b4e767ed15af9 \n",
    "\n",
    "Pubmed advanced search is helpful for designing search/experimenting \n",
    "https://www.ncbi.nlm.nih.gov/pubmed/advanced\n",
    "\n",
    "Docs for NCBI esearch:\n",
    "https://www.ncbi.nlm.nih.gov/books/NBK25499/#chapter4.ESearch\n",
    "https://www.nlm.nih.gov/bsd/mms/medlineelements.html\n",
    "\"\"\"\n"
   ]
  },
  {
   "cell_type": "code",
   "execution_count": 2,
   "metadata": {
    "collapsed": false
   },
   "outputs": [],
   "source": [
    "from Bio import Entrez\n",
    "from Bio import Medline\n",
    "from tqdm import tqdm\n",
    "import json\n",
    "import requests\n",
    "import pandas as pd\n",
    "import pickle \n",
    "import matplotlib.pyplot as plt\n",
    "%matplotlib inline"
   ]
  },
  {
   "cell_type": "code",
   "execution_count": 3,
   "metadata": {
    "collapsed": false
   },
   "outputs": [],
   "source": [
    "def get_chunked_pmids(term, chunksize=50):\n",
    "    \"\"\"\n",
    "    Return a list of Pubmed ids from pubmed search in chunks\n",
    "    \"\"\"\n",
    "    Entrez.email = \"carl.reynolds@imperial.ac.uk\"\n",
    "    count_handle = Entrez.esearch(db=\"pubmed\",\n",
    "                                  term=term,\n",
    "                                  retmode=\"xml\",\n",
    "                                  rettype=\"count\")\n",
    "    count_results = Entrez.read(count_handle)\n",
    "    count = int(count_results[\"Count\"])\n",
    "\n",
    "    retmax_requests = list(range(chunksize, count, chunksize))\n",
    "    retmax_requests.append(count - retmax_requests[len(retmax_requests) - 1])\n",
    "\n",
    "    for i, retmax in enumerate(retmax_requests):\n",
    "        pmid_handle = Entrez.esearch(db=\"pubmed\",\n",
    "                                     term=term,\n",
    "                                     sort=\"relevance\",\n",
    "                                     retmode=\"xml\",\n",
    "                                     usehistory='y',\n",
    "                                     retstart=retmax,\n",
    "                                     retmax=chunksize)\n",
    "        results = Entrez.read(pmid_handle)\n",
    "        yield results[\"IdList\"]"
   ]
  },
  {
   "cell_type": "code",
   "execution_count": 4,
   "metadata": {
    "collapsed": false
   },
   "outputs": [],
   "source": [
    "def get_pubmed_summaries(pubmed_id):\n",
    "    \"\"\"\n",
    "    Use the Pubmed API to return the summary of a pubmed article\n",
    "    \"\"\"\n",
    "    Entrez.email = \"carl.reynolds@imperial.ac.uk\"\n",
    "    pubmed_id = ', '.join(map(str, pubmed_id))\n",
    "    handle = Entrez.esummary(db='pubmed', \n",
    "                             id=pubmed_id, \n",
    "                             retmode='json', \n",
    "                             rettype='abstract')\n",
    "    return json.loads(handle.read())['result']\n",
    "  "
   ]
  },
  {
   "cell_type": "code",
   "execution_count": 5,
   "metadata": {
    "collapsed": true
   },
   "outputs": [],
   "source": [
    "def get_pubmed_keywords(pubmed_id):\n",
    "    \"\"\"\n",
    "    Use the Pubmed API to return the medline record and extract the key words of a pubmed article.\n",
    "    Return {pmid:[list of keywords]}.\n",
    "    \"\"\"\n",
    "    Entrez.email = \"carl.reynolds@imperial.ac.uk\"\n",
    "    handle = Entrez.efetch(db='pubmed',\n",
    "                           id=pubmed_id,\n",
    "                           rettype='medline',\n",
    "                           retmode='text')\n",
    "    records = Medline.parse(handle)\n",
    "    kw = []\n",
    "    keywords = {}\n",
    "    for record in records:\n",
    "        pmid = record.get('PMID','?')\n",
    "        mh = record.get('MH','?')\n",
    "        for w in mh: \n",
    "            if w not in kw:\n",
    "                kw.append(w)\n",
    "        kw.sort()\n",
    "        keywords[pmid] = kw\n",
    "    return keywords"
   ]
  },
  {
   "cell_type": "code",
   "execution_count": 6,
   "metadata": {
    "collapsed": true
   },
   "outputs": [],
   "source": [
    "def get_pubmed_abstracts(pubmed_id):\n",
    "    \"\"\"\n",
    "    Use the Pubmed API to return the medline record and extract the abstract of a pubmed article.\n",
    "    Return {pmid:abstract}.\n",
    "    \"\"\"\n",
    "    Entrez.email = \"carl.reynolds@imperial.ac.uk\"\n",
    "    handle = Entrez.efetch(db='pubmed',\n",
    "                           id=pubmed_id,\n",
    "                           rettype='medline',\n",
    "                           retmode='text')\n",
    "    records = Medline.parse(handle)\n",
    "    abstracts = {}\n",
    "    for record in records:\n",
    "        pmid = record.get('PMID','?')\n",
    "        ab = record.get('AB','?')\n",
    "        abstracts[pmid] = ab\n",
    "    return abstracts"
   ]
  },
  {
   "cell_type": "code",
   "execution_count": 7,
   "metadata": {
    "collapsed": true
   },
   "outputs": [],
   "source": [
    "def get_pubmed_pubtypes(pubmed_id):\n",
    "    \"\"\"\n",
    "    Use the Pubmed API to return the medline record and extract the abstract of a pubmed article.\n",
    "    Return {pmid:pubtype}.\n",
    "    \"\"\"\n",
    "    Entrez.email = \"carl.reynolds@imperial.ac.uk\"\n",
    "    handle = Entrez.efetch(db='pubmed',\n",
    "                           id=pubmed_id,\n",
    "                           rettype='medline',\n",
    "                           retmode='text')\n",
    "    records = Medline.parse(handle)\n",
    "    pubtypes = {}\n",
    "    for record in records:\n",
    "        pmid = record.get('PMID','?')\n",
    "        pt = record.get('PT','?')\n",
    "        pubtypes[pmid] = pt\n",
    "    return pubtypes"
   ]
  },
  {
   "cell_type": "code",
   "execution_count": 8,
   "metadata": {
    "collapsed": false
   },
   "outputs": [],
   "source": [
    "def get_citation_information(pubmed_id):\n",
    "    \"\"\"\n",
    "    Use the special citation api to return relative citation ratios\n",
    "    \"\"\"\n",
    "    pubmed_id = ','.join(pubmed_id)\n",
    "    citation_search = 'https://icite.od.nih.gov/api/pubs?pmids={0}'.format(pubmed_id)\n",
    "    response = requests.get(citation_search).content\n",
    "    str_response = response.decode('utf-8')\n",
    "    \n",
    "    try:\n",
    "        data = json.loads(str_response)['data']\n",
    "    except KeyError:\n",
    "        data = False\n",
    "         \n",
    "    citations = {}\n",
    "    \n",
    "    if data:\n",
    "        for record in data:\n",
    "            pmid = record.get('pmid')\n",
    "            rcr = record.get('relative_citation_ratio')\n",
    "            citations[pmid] = rcr\n",
    "            \n",
    "    return citations\n",
    "        "
   ]
  },
  {
   "cell_type": "code",
   "execution_count": 9,
   "metadata": {
    "collapsed": false
   },
   "outputs": [],
   "source": [
    "def lit_search(term):\n",
    "    \"\"\"\n",
    "    Search pubmed for a term and collect information about the results\n",
    "    \"\"\"\n",
    "    pmid_blocks = get_chunked_pmids(term, chunksize=200)\n",
    "    summaries = []\n",
    "    pubtypes = []\n",
    "    abstracts = []\n",
    "    keywords = []\n",
    "    rcrs = []\n",
    "    litsearch_results = [summaries, pubtypes, abstracts, keywords, rcrs]\n",
    "    for i, block in enumerate(pmid_blocks):\n",
    "        summaries.append(get_pubmed_summaries(block))\n",
    "        pubtypes.append(get_pubmed_pubtypes(block))\n",
    "        abstracts.append(get_pubmed_abstracts(block))\n",
    "        keywords.append(get_pubmed_keywords(block))\n",
    "        rcrs.append(get_citation_information(block))\n",
    "        print(\"Processed block {0}\".format(i))\n",
    "    pickle.dump( litsearch_results, open( \"litsearch_results_{0}.p\".format(term), \"wb\" ) )\n",
    "    return summaries, pubtypes, abstracts, keywords, rcrs\n",
    "        "
   ]
  },
  {
   "cell_type": "code",
   "execution_count": 10,
   "metadata": {
    "collapsed": false
   },
   "outputs": [],
   "source": [
    "def lit_search_for_topic(topic):\n",
    "    \"\"\"\n",
    "    Search pubmed for a term and collect information about the results\n",
    "    \"\"\"\n",
    "\n",
    "    summaries = get_pubmed_summaries(topic)\n",
    "    pubtypes = get_pubmed_pubtypes(topic)\n",
    "    abstracts = get_pubmed_abstracts(topic)\n",
    "    keywords = get_pubmed_keywords(topic)\n",
    "    rcrs = get_citation_information(topic)\n",
    "    #pickle.dump( litsearch_results, open( \"litsearch_results_{0}.p\".format(term), \"wb\" ) )\n",
    "    \n",
    "    return summaries, pubtypes, abstracts, keywords, rcrs\n",
    "        "
   ]
  },
  {
   "cell_type": "code",
   "execution_count": 11,
   "metadata": {
    "collapsed": false
   },
   "outputs": [],
   "source": [
    "def make_result_dataframe( term, summaries, pubtypes, abstracts, keywords, rcrs ):\n",
    "    \n",
    "    pmid_blocks = get_chunked_pmids(term, chunksize=200)\n",
    "    pmids = list(pmid_blocks)\n",
    "\n",
    "    d = {}\n",
    "\n",
    "    #for i, pmid in enumerate(pmids):\n",
    "    for i, summary in enumerate(summaries):\n",
    "        d[i] = pd.DataFrame(pmids[i], columns=['pmid'])\n",
    "        d[i]['title'] = d[i]['pmid'].map(lambda x: summaries[i].get(x)['title'])\n",
    "        d[i]['firstauthor'] = d[i]['pmid'].map(lambda x: summaries[i].get(x)['sortfirstauthor'])\n",
    "        d[i]['lastauthor'] = d[i]['pmid'].map(lambda x: summaries[i].get(x)['lastauthor'])\n",
    "        d[i]['journal'] = d[i]['pmid'].map(lambda x: summaries[i].get(x)['source'])\n",
    "        d[i]['pubdate'] = d[i]['pmid'].map(lambda x: summaries[i].get(x)['sortpubdate'])\n",
    "        d[i]['pubtype'] = d[i]['pmid'].map(lambda x: pubtypes[i].get(x))\n",
    "        d[i]['abstract'] = d[i]['pmid'].map(lambda x: abstracts[i].get(x))\n",
    "        d[i]['keywords'] = d[i]['pmid'].map(lambda x: keywords[i].get(x))\n",
    "        d[i]['rcr'] = d[i]['pmid'].astype(int).map(lambda x: rcrs[i].get(x))\n",
    "            \n",
    "    df = pd.concat(d.values(), ignore_index=True)\n",
    "    pd.set_option('max_colwidth',300)\n",
    "    return df"
   ]
  },
  {
   "cell_type": "code",
   "execution_count": 12,
   "metadata": {
    "collapsed": true
   },
   "outputs": [],
   "source": [
    "def make_result_dataframe_for_topic( topic, summaries, pubtypes, abstracts, keywords, rcrs ):\n",
    "    \n",
    "    df = pd.DataFrame(topic, columns=['pmid'])\n",
    "    df['title'] = df['pmid'].map(lambda x: summaries.get(x)['title'])\n",
    "    df['firstauthor'] = df['pmid'].map(lambda x: summaries.get(x)['sortfirstauthor'])\n",
    "    df['lastauthor'] = df['pmid'].map(lambda x: summaries.get(x)['lastauthor'])\n",
    "    df['journal'] = df['pmid'].map(lambda x: summaries.get(x)['source'])\n",
    "    df['pubdate'] = df['pmid'].map(lambda x: summaries.get(x)['sortpubdate'])\n",
    "    df['pubtype'] = df['pmid'].map(lambda x: pubtypes.get(x))\n",
    "    df['abstract'] = df['pmid'].map(lambda x: abstracts.get(x))\n",
    "    df['keywords'] = df['pmid'].map(lambda x: keywords.get(x))\n",
    "    df['rcr'] = df['pmid'].astype(int).map(lambda x: rcrs.get(x))\n",
    "    pd.set_option('max_colwidth',300)\n",
    "    return df"
   ]
  },
  {
   "cell_type": "code",
   "execution_count": 13,
   "metadata": {
    "collapsed": false
   },
   "outputs": [],
   "source": [
    "def save_results_as_csv(term, df):\n",
    "    name = term.replace(\" \", \"-\")\n",
    "    df.to_csv(name+\".csv\")"
   ]
  },
  {
   "cell_type": "code",
   "execution_count": 131,
   "metadata": {
    "collapsed": true
   },
   "outputs": [],
   "source": [
    "def explore_result_dataframe(df):\n",
    "    df.sort_values(by='rcr', ascending=False).head()\n",
    "    df.firstauthor.value_counts().head()\n",
    "    df.lastauthor.value_counts().head()\n",
    "    df.journal.value_counts().head()\n",
    "    df.pubtype.astype(str).value_counts().head()\n",
    "    df[df.abstract.str.contains('case-control')].head()\n",
    "    df.pubdate = pd.to_datetime(df.pubdate)\n",
    "    df.index = df.pubdate\n",
    "    df.groupby(df.pubdate.map(lambda x: x.year)).pmid.count().plot(kind='bar')"
   ]
  },
  {
   "cell_type": "code",
   "execution_count": 15,
   "metadata": {
    "collapsed": false
   },
   "outputs": [],
   "source": [
    "terms = ['idiopathic pulmonary fibrosis', 'cryptogenic fibrosing alveolitis',\n",
    "        'usual interstitial pneumonia', 'asbestosis']\n",
    "\n",
    "def litsearch_terms(terms):\n",
    "    for term in terms:\n",
    "        summaries, pubtypes, abstracts, keywords, rcrs = lit_search(term)\n",
    "        df = make_result_dataframe( term, summaries, pubtypes, abstracts, keywords, rcrs )\n",
    "        save_results_as_csv(term, df)\n",
    "        print(explore_result_dataframe(df))"
   ]
  },
  {
   "cell_type": "code",
   "execution_count": 16,
   "metadata": {
    "collapsed": false
   },
   "outputs": [],
   "source": [
    "topic_collection = {\"ipfjes_case_control_studies\" : ['23022860', '10968375', '24413348', '19782552', '17628464', \n",
    "                                                     '10841131', '8569361', '8087336', '15640309', '9571528', \n",
    "                                                     '18507288', '23022860', '2249047'], \n",
    "                    \"ipfjes_reviews\" : ['25621562', '24348069', '10193340', '11816818', '15331187', '16733403']}\n",
    "\n",
    "\n",
    "def litsearch_topics(topic_collection):\n",
    "    for topic in topic_collection:\n",
    "        summaries, pubtypes, abstracts, keywords, rcrs = lit_search_for_topic(topic_collection[topic])\n",
    "        df = make_result_dataframe_for_topic( topic_collection[topic], summaries, pubtypes, abstracts, keywords, rcrs )\n",
    "        save_results_as_csv(topic, df)\n",
    "    "
   ]
  },
  {
   "cell_type": "code",
   "execution_count": 17,
   "metadata": {
    "collapsed": false
   },
   "outputs": [],
   "source": [
    "litsearch_topics(topic_collection)\n",
    "    "
   ]
  },
  {
   "cell_type": "code",
   "execution_count": 101,
   "metadata": {
    "collapsed": false
   },
   "outputs": [],
   "source": [
    "df = pd.read_csv('ipfjes_case_control_studies.csv', usecols=['pmid','title','firstauthor','lastauthor',\n",
    "                                                             'journal','pubdate','pubtype',\n",
    "                                                             'abstract', 'keywords', 'rcr'])\n",
    "pd.set_option('max_colwidth',300)"
   ]
  },
  {
   "cell_type": "code",
   "execution_count": 102,
   "metadata": {
    "collapsed": false
   },
   "outputs": [
    {
     "data": {
      "text/html": [
       "<div>\n",
       "<table border=\"1\" class=\"dataframe\">\n",
       "  <thead>\n",
       "    <tr style=\"text-align: right;\">\n",
       "      <th></th>\n",
       "      <th>title</th>\n",
       "      <th>firstauthor</th>\n",
       "      <th>lastauthor</th>\n",
       "      <th>pubtype</th>\n",
       "      <th>keywords</th>\n",
       "    </tr>\n",
       "    <tr>\n",
       "      <th>pubdate</th>\n",
       "      <th></th>\n",
       "      <th></th>\n",
       "      <th></th>\n",
       "      <th></th>\n",
       "      <th></th>\n",
       "    </tr>\n",
       "  </thead>\n",
       "  <tbody>\n",
       "    <tr>\n",
       "      <th>1990</th>\n",
       "      <td>What causes cryptogenic fibrosing alveolitis? A case-control study of environmental exposure to dust.</td>\n",
       "      <td>Scott J</td>\n",
       "      <td>Britton J</td>\n",
       "      <td>['Journal Article']</td>\n",
       "      <td>['*Dust', '*Dust/analysis', '*Environmental Exposure', '*Metallurgy', '*Occupational Exposure', '*Wood', 'Adolescent', 'Adult', 'Age Distribution', 'Aged', 'Aged, 80 and over', \"Agricultural Workers' Diseases/epidemiology\", 'Agriculture', 'Autoantibodies/blood', 'Autopsy/statistics &amp; numerical d...</td>\n",
       "    </tr>\n",
       "    <tr>\n",
       "      <th>1994</th>\n",
       "      <td>Idiopathic pulmonary fibrosis. Epidemiologic approaches to occupational exposure.</td>\n",
       "      <td>Iwai K</td>\n",
       "      <td>Hosoda Y</td>\n",
       "      <td>['Comparative Study', 'Journal Article', \"Research Support, Non-U.S. Gov't\"]</td>\n",
       "      <td>['*Dust', '*Dust/analysis', '*Environmental Exposure', '*Metallurgy', '*Occupational Exposure', '*Wood', 'Adolescent', 'Adult', 'Age Distribution', 'Aged', 'Aged, 80 and over', \"Agricultural Workers' Diseases/epidemiology\", 'Agriculture', 'Autoantibodies/blood', 'Autopsy/statistics &amp; numerical d...</td>\n",
       "    </tr>\n",
       "    <tr>\n",
       "      <th>1996</th>\n",
       "      <td>Occupational exposure to metal or wood dust and aetiology of cryptogenic fibrosing alveolitis.</td>\n",
       "      <td>Hubbard R</td>\n",
       "      <td>Britton J</td>\n",
       "      <td>['Journal Article']</td>\n",
       "      <td>['*Dust', '*Dust/analysis', '*Environmental Exposure', '*Metallurgy', '*Occupational Exposure', '*Wood', 'Adolescent', 'Adult', 'Age Distribution', 'Aged', 'Aged, 80 and over', \"Agricultural Workers' Diseases/epidemiology\", 'Agriculture', 'Autoantibodies/blood', 'Autopsy/statistics &amp; numerical d...</td>\n",
       "    </tr>\n",
       "    <tr>\n",
       "      <th>1998</th>\n",
       "      <td>Case-control study of idiopathic pulmonary fibrosis and environmental exposures.</td>\n",
       "      <td>Mullen J</td>\n",
       "      <td>Godar T</td>\n",
       "      <td>['Comparative Study', 'Journal Article']</td>\n",
       "      <td>['*Dust', '*Dust/analysis', '*Environmental Exposure', '*Metallurgy', '*Occupational Exposure', '*Wood', 'Adolescent', 'Adult', 'Age Distribution', 'Aged', 'Aged, 80 and over', \"Agricultural Workers' Diseases/epidemiology\", 'Agriculture', 'Autoantibodies/blood', 'Autopsy/statistics &amp; numerical d...</td>\n",
       "    </tr>\n",
       "    <tr>\n",
       "      <th>2000</th>\n",
       "      <td>Risk of cryptogenic fibrosing alveolitis in metal workers.</td>\n",
       "      <td>Hubbard R</td>\n",
       "      <td>Britton J</td>\n",
       "      <td>['Letter', \"Research Support, Non-U.S. Gov't\"]</td>\n",
       "      <td>['*Dust', '*Dust/analysis', '*Environmental Exposure', '*Metallurgy', '*Occupational Exposure', '*Wood', 'Adolescent', 'Adult', 'Age Distribution', 'Aged', 'Aged, 80 and over', \"Agricultural Workers' Diseases/epidemiology\", 'Agriculture', 'Autoantibodies/blood', 'Autopsy/statistics &amp; numerical d...</td>\n",
       "    </tr>\n",
       "    <tr>\n",
       "      <th>2000</th>\n",
       "      <td>Occupational and environmental risk factors for idiopathic pulmonary fibrosis: a multicenter case-control study. Collaborating Centers.</td>\n",
       "      <td>Baumgartner KB</td>\n",
       "      <td>Waldron JA</td>\n",
       "      <td>['Journal Article', 'Multicenter Study', \"Research Support, U.S. Gov't, P.H.S.\"]</td>\n",
       "      <td>['*Dust', '*Dust/analysis', '*Environmental Exposure', '*Metallurgy', '*Occupational Exposure', '*Wood', 'Adolescent', 'Adult', 'Age Distribution', 'Aged', 'Aged, 80 and over', \"Agricultural Workers' Diseases/epidemiology\", 'Agriculture', 'Autoantibodies/blood', 'Autopsy/statistics &amp; numerical d...</td>\n",
       "    </tr>\n",
       "    <tr>\n",
       "      <th>2005</th>\n",
       "      <td>Occupational and environmental factors and idiopathic pulmonary fibrosis in Japan.</td>\n",
       "      <td>Miyake Y</td>\n",
       "      <td>Tanaka H</td>\n",
       "      <td>['Journal Article', 'Multicenter Study', \"Research Support, Non-U.S. Gov't\"]</td>\n",
       "      <td>['*Dust', '*Dust/analysis', '*Environmental Exposure', '*Metallurgy', '*Occupational Exposure', '*Wood', 'Adolescent', 'Adult', 'Age Distribution', 'Aged', 'Aged, 80 and over', \"Agricultural Workers' Diseases/epidemiology\", 'Agriculture', 'Autoantibodies/blood', 'Autopsy/statistics &amp; numerical d...</td>\n",
       "    </tr>\n",
       "    <tr>\n",
       "      <th>2007</th>\n",
       "      <td>Occupational exposure and severe pulmonary fibrosis.</td>\n",
       "      <td>Gustafson T</td>\n",
       "      <td>Torén K</td>\n",
       "      <td>['Journal Article', 'Multicenter Study']</td>\n",
       "      <td>['*Dust', '*Dust/analysis', '*Environmental Exposure', '*Metallurgy', '*Occupational Exposure', '*Wood', 'Adolescent', 'Adult', 'Age Distribution', 'Aged', 'Aged, 80 and over', \"Agricultural Workers' Diseases/epidemiology\", 'Agriculture', 'Autoantibodies/blood', 'Autopsy/statistics &amp; numerical d...</td>\n",
       "    </tr>\n",
       "    <tr>\n",
       "      <th>2008</th>\n",
       "      <td>Occupational risks for idiopathic pulmonary fibrosis mortality in the United States.</td>\n",
       "      <td>Pinheiro GA</td>\n",
       "      <td>Wassell JT</td>\n",
       "      <td>['Journal Article']</td>\n",
       "      <td>['*Dust', '*Dust/analysis', '*Environmental Exposure', '*Metallurgy', '*Occupational Exposure', '*Wood', 'Adolescent', 'Adult', 'Age Distribution', 'Aged', 'Aged, 80 and over', \"Agricultural Workers' Diseases/epidemiology\", 'Agriculture', 'Autoantibodies/blood', 'Autopsy/statistics &amp; numerical d...</td>\n",
       "    </tr>\n",
       "    <tr>\n",
       "      <th>2010</th>\n",
       "      <td>Risk factors for idiopathic pulmonary fibrosis in a Mexican population. A case-control study.</td>\n",
       "      <td>García-Sancho Figueroa MC</td>\n",
       "      <td>Selman M</td>\n",
       "      <td>['Journal Article', \"Research Support, Non-U.S. Gov't\"]</td>\n",
       "      <td>['*Dust', '*Dust/analysis', '*Environmental Exposure', '*Metallurgy', '*Occupational Exposure', '*Wood', 'Adolescent', 'Adult', 'Age Distribution', 'Aged', 'Aged, 80 and over', \"Agricultural Workers' Diseases/epidemiology\", 'Agriculture', 'Autoantibodies/blood', 'Autopsy/statistics &amp; numerical d...</td>\n",
       "    </tr>\n",
       "    <tr>\n",
       "      <th>2012</th>\n",
       "      <td>Occupational and environmental risk factors for idiopathic pulmonary fibrosis in Egypt: a multicenter case-control study.</td>\n",
       "      <td>Awadalla NJ</td>\n",
       "      <td>Wahby I</td>\n",
       "      <td>['Journal Article', 'Multicenter Study']</td>\n",
       "      <td>['*Dust', '*Dust/analysis', '*Environmental Exposure', '*Metallurgy', '*Occupational Exposure', '*Wood', 'Adolescent', 'Adult', 'Age Distribution', 'Aged', 'Aged, 80 and over', \"Agricultural Workers' Diseases/epidemiology\", 'Agriculture', 'Autoantibodies/blood', 'Autopsy/statistics &amp; numerical d...</td>\n",
       "    </tr>\n",
       "    <tr>\n",
       "      <th>2012</th>\n",
       "      <td>Occupational and environmental risk factors for idiopathic pulmonary fibrosis in Egypt: a multicenter case-control study.</td>\n",
       "      <td>Awadalla NJ</td>\n",
       "      <td>Wahby I</td>\n",
       "      <td>['Journal Article', 'Multicenter Study']</td>\n",
       "      <td>['*Dust', '*Dust/analysis', '*Environmental Exposure', '*Metallurgy', '*Occupational Exposure', '*Wood', 'Adolescent', 'Adult', 'Age Distribution', 'Aged', 'Aged, 80 and over', \"Agricultural Workers' Diseases/epidemiology\", 'Agriculture', 'Autoantibodies/blood', 'Autopsy/statistics &amp; numerical d...</td>\n",
       "    </tr>\n",
       "    <tr>\n",
       "      <th>2014</th>\n",
       "      <td>Effects of smoking, gender and occupational exposure on the risk of severe pulmonary fibrosis: a population-based case-control study.</td>\n",
       "      <td>Ekström M</td>\n",
       "      <td>Torén K</td>\n",
       "      <td>['Journal Article', \"Research Support, Non-U.S. Gov't\"]</td>\n",
       "      <td>['*Dust', '*Dust/analysis', '*Environmental Exposure', '*Metallurgy', '*Occupational Exposure', '*Wood', 'Adolescent', 'Adult', 'Age Distribution', 'Aged', 'Aged, 80 and over', \"Agricultural Workers' Diseases/epidemiology\", 'Agriculture', 'Autoantibodies/blood', 'Autopsy/statistics &amp; numerical d...</td>\n",
       "    </tr>\n",
       "  </tbody>\n",
       "</table>\n",
       "</div>"
      ],
      "text/plain": [
       "                                                                                                                                           title  \\\n",
       "pubdate                                                                                                                                            \n",
       "1990                                       What causes cryptogenic fibrosing alveolitis? A case-control study of environmental exposure to dust.   \n",
       "1994                                                           Idiopathic pulmonary fibrosis. Epidemiologic approaches to occupational exposure.   \n",
       "1996                                              Occupational exposure to metal or wood dust and aetiology of cryptogenic fibrosing alveolitis.   \n",
       "1998                                                            Case-control study of idiopathic pulmonary fibrosis and environmental exposures.   \n",
       "2000                                                                                  Risk of cryptogenic fibrosing alveolitis in metal workers.   \n",
       "2000     Occupational and environmental risk factors for idiopathic pulmonary fibrosis: a multicenter case-control study. Collaborating Centers.   \n",
       "2005                                                          Occupational and environmental factors and idiopathic pulmonary fibrosis in Japan.   \n",
       "2007                                                                                        Occupational exposure and severe pulmonary fibrosis.   \n",
       "2008                                                        Occupational risks for idiopathic pulmonary fibrosis mortality in the United States.   \n",
       "2010                                               Risk factors for idiopathic pulmonary fibrosis in a Mexican population. A case-control study.   \n",
       "2012                   Occupational and environmental risk factors for idiopathic pulmonary fibrosis in Egypt: a multicenter case-control study.   \n",
       "2012                   Occupational and environmental risk factors for idiopathic pulmonary fibrosis in Egypt: a multicenter case-control study.   \n",
       "2014       Effects of smoking, gender and occupational exposure on the risk of severe pulmonary fibrosis: a population-based case-control study.   \n",
       "\n",
       "                       firstauthor  lastauthor  \\\n",
       "pubdate                                          \n",
       "1990                       Scott J   Britton J   \n",
       "1994                        Iwai K    Hosoda Y   \n",
       "1996                     Hubbard R   Britton J   \n",
       "1998                      Mullen J     Godar T   \n",
       "2000                     Hubbard R   Britton J   \n",
       "2000                Baumgartner KB  Waldron JA   \n",
       "2005                      Miyake Y    Tanaka H   \n",
       "2007                   Gustafson T     Torén K   \n",
       "2008                   Pinheiro GA  Wassell JT   \n",
       "2010     García-Sancho Figueroa MC    Selman M   \n",
       "2012                   Awadalla NJ     Wahby I   \n",
       "2012                   Awadalla NJ     Wahby I   \n",
       "2014                     Ekström M     Torén K   \n",
       "\n",
       "                                                                                  pubtype  \\\n",
       "pubdate                                                                                     \n",
       "1990                                                                  ['Journal Article']   \n",
       "1994         ['Comparative Study', 'Journal Article', \"Research Support, Non-U.S. Gov't\"]   \n",
       "1996                                                                  ['Journal Article']   \n",
       "1998                                             ['Comparative Study', 'Journal Article']   \n",
       "2000                                       ['Letter', \"Research Support, Non-U.S. Gov't\"]   \n",
       "2000     ['Journal Article', 'Multicenter Study', \"Research Support, U.S. Gov't, P.H.S.\"]   \n",
       "2005         ['Journal Article', 'Multicenter Study', \"Research Support, Non-U.S. Gov't\"]   \n",
       "2007                                             ['Journal Article', 'Multicenter Study']   \n",
       "2008                                                                  ['Journal Article']   \n",
       "2010                              ['Journal Article', \"Research Support, Non-U.S. Gov't\"]   \n",
       "2012                                             ['Journal Article', 'Multicenter Study']   \n",
       "2012                                             ['Journal Article', 'Multicenter Study']   \n",
       "2014                              ['Journal Article', \"Research Support, Non-U.S. Gov't\"]   \n",
       "\n",
       "                                                                                                                                                                                                                                                                                                            keywords  \n",
       "pubdate                                                                                                                                                                                                                                                                                                               \n",
       "1990     ['*Dust', '*Dust/analysis', '*Environmental Exposure', '*Metallurgy', '*Occupational Exposure', '*Wood', 'Adolescent', 'Adult', 'Age Distribution', 'Aged', 'Aged, 80 and over', \"Agricultural Workers' Diseases/epidemiology\", 'Agriculture', 'Autoantibodies/blood', 'Autopsy/statistics & numerical d...  \n",
       "1994     ['*Dust', '*Dust/analysis', '*Environmental Exposure', '*Metallurgy', '*Occupational Exposure', '*Wood', 'Adolescent', 'Adult', 'Age Distribution', 'Aged', 'Aged, 80 and over', \"Agricultural Workers' Diseases/epidemiology\", 'Agriculture', 'Autoantibodies/blood', 'Autopsy/statistics & numerical d...  \n",
       "1996     ['*Dust', '*Dust/analysis', '*Environmental Exposure', '*Metallurgy', '*Occupational Exposure', '*Wood', 'Adolescent', 'Adult', 'Age Distribution', 'Aged', 'Aged, 80 and over', \"Agricultural Workers' Diseases/epidemiology\", 'Agriculture', 'Autoantibodies/blood', 'Autopsy/statistics & numerical d...  \n",
       "1998     ['*Dust', '*Dust/analysis', '*Environmental Exposure', '*Metallurgy', '*Occupational Exposure', '*Wood', 'Adolescent', 'Adult', 'Age Distribution', 'Aged', 'Aged, 80 and over', \"Agricultural Workers' Diseases/epidemiology\", 'Agriculture', 'Autoantibodies/blood', 'Autopsy/statistics & numerical d...  \n",
       "2000     ['*Dust', '*Dust/analysis', '*Environmental Exposure', '*Metallurgy', '*Occupational Exposure', '*Wood', 'Adolescent', 'Adult', 'Age Distribution', 'Aged', 'Aged, 80 and over', \"Agricultural Workers' Diseases/epidemiology\", 'Agriculture', 'Autoantibodies/blood', 'Autopsy/statistics & numerical d...  \n",
       "2000     ['*Dust', '*Dust/analysis', '*Environmental Exposure', '*Metallurgy', '*Occupational Exposure', '*Wood', 'Adolescent', 'Adult', 'Age Distribution', 'Aged', 'Aged, 80 and over', \"Agricultural Workers' Diseases/epidemiology\", 'Agriculture', 'Autoantibodies/blood', 'Autopsy/statistics & numerical d...  \n",
       "2005     ['*Dust', '*Dust/analysis', '*Environmental Exposure', '*Metallurgy', '*Occupational Exposure', '*Wood', 'Adolescent', 'Adult', 'Age Distribution', 'Aged', 'Aged, 80 and over', \"Agricultural Workers' Diseases/epidemiology\", 'Agriculture', 'Autoantibodies/blood', 'Autopsy/statistics & numerical d...  \n",
       "2007     ['*Dust', '*Dust/analysis', '*Environmental Exposure', '*Metallurgy', '*Occupational Exposure', '*Wood', 'Adolescent', 'Adult', 'Age Distribution', 'Aged', 'Aged, 80 and over', \"Agricultural Workers' Diseases/epidemiology\", 'Agriculture', 'Autoantibodies/blood', 'Autopsy/statistics & numerical d...  \n",
       "2008     ['*Dust', '*Dust/analysis', '*Environmental Exposure', '*Metallurgy', '*Occupational Exposure', '*Wood', 'Adolescent', 'Adult', 'Age Distribution', 'Aged', 'Aged, 80 and over', \"Agricultural Workers' Diseases/epidemiology\", 'Agriculture', 'Autoantibodies/blood', 'Autopsy/statistics & numerical d...  \n",
       "2010     ['*Dust', '*Dust/analysis', '*Environmental Exposure', '*Metallurgy', '*Occupational Exposure', '*Wood', 'Adolescent', 'Adult', 'Age Distribution', 'Aged', 'Aged, 80 and over', \"Agricultural Workers' Diseases/epidemiology\", 'Agriculture', 'Autoantibodies/blood', 'Autopsy/statistics & numerical d...  \n",
       "2012     ['*Dust', '*Dust/analysis', '*Environmental Exposure', '*Metallurgy', '*Occupational Exposure', '*Wood', 'Adolescent', 'Adult', 'Age Distribution', 'Aged', 'Aged, 80 and over', \"Agricultural Workers' Diseases/epidemiology\", 'Agriculture', 'Autoantibodies/blood', 'Autopsy/statistics & numerical d...  \n",
       "2012     ['*Dust', '*Dust/analysis', '*Environmental Exposure', '*Metallurgy', '*Occupational Exposure', '*Wood', 'Adolescent', 'Adult', 'Age Distribution', 'Aged', 'Aged, 80 and over', \"Agricultural Workers' Diseases/epidemiology\", 'Agriculture', 'Autoantibodies/blood', 'Autopsy/statistics & numerical d...  \n",
       "2014     ['*Dust', '*Dust/analysis', '*Environmental Exposure', '*Metallurgy', '*Occupational Exposure', '*Wood', 'Adolescent', 'Adult', 'Age Distribution', 'Aged', 'Aged, 80 and over', \"Agricultural Workers' Diseases/epidemiology\", 'Agriculture', 'Autoantibodies/blood', 'Autopsy/statistics & numerical d...  "
      ]
     },
     "execution_count": 102,
     "metadata": {},
     "output_type": "execute_result"
    }
   ],
   "source": [
    "# clearly pubmed does not capture case-control studies as type observational\n",
    "# mesh headings (keywords) look good though\n",
    "\n",
    "df.pubdate = pd.to_datetime(df.pubdate)\n",
    "df.index = df.pubdate.map(lambda x: x.year)\n",
    "df = df.sort_values(by = 'pubdate', ascending=True)\n",
    "df = df[['title','firstauthor', 'lastauthor', 'pubtype', 'keywords']]\n",
    "df"
   ]
  },
  {
   "cell_type": "code",
   "execution_count": 122,
   "metadata": {
    "collapsed": false
   },
   "outputs": [
    {
     "name": "stdout",
     "output_type": "stream",
     "text": [
      "['*Dust', '*Dust/analysis', '*Environmental Exposure', '*Metallurgy', '*Occupational Exposure', '*Wood', 'Adolescent', 'Adult', 'Age Distribution', 'Aged', 'Aged, 80 and over', \"Agricultural Workers' Diseases/epidemiology\", 'Agriculture', 'Autoantibodies/blood', 'Autopsy/statistics & numerical data', 'Carcinoma, Squamous Cell/*complications', 'Case-Control Studies', 'Chi-Square Distribution', 'Confidence Intervals', 'Connecticut/epidemiology', 'Death Certificates', 'Diabetes Mellitus, Type 2/*complications', 'Dust', 'Dust/*adverse effects', 'Dust/adverse effects', 'Egypt/epidemiology', 'Environmental Exposure/*adverse effects', 'Epidemiologic Methods', 'Female', 'Humans', 'Idiopathic Pulmonary Fibrosis/*epidemiology', 'Idiopathic Pulmonary Fibrosis/*etiology', 'Incidence', 'Industry', 'Japan/epidemiology', 'Logistic Models', 'Lung Neoplasms/*complications', 'Male', 'Metals', 'Metals/*adverse effects', 'Metals/adverse effects', 'Mexico', 'Middle Aged', 'Multivariate Analysis', 'Occupational Diseases/*etiology', 'Occupational Diseases/*etiology/immunology', 'Occupational Diseases/*mortality', 'Occupational Diseases/epidemiology/*etiology', 'Occupational Exposure', 'Occupational Exposure/*adverse effects', 'Occupational Exposure/*adverse effects/statistics & numerical data', 'Occupations', 'Odds Ratio', 'Prognosis', 'Pulmonary Fibrosis/*epidemiology/etiology', 'Pulmonary Fibrosis/*epidemiology/etiology/pathology', 'Pulmonary Fibrosis/*etiology', 'Pulmonary Fibrosis/*etiology/immunology', 'Pulmonary Fibrosis/*mortality', 'Pulmonary Fibrosis/epidemiology/*etiology', 'Regression Analysis', 'Retrospective Studies', 'Risk', 'Risk Assessment', 'Risk Factors', 'Severity of Illness Index', 'Sex Distribution', 'Sex Factors', 'Smoking/*adverse effects', 'Smoking/adverse effects', 'Surveys and Questionnaires', 'Sweden/epidemiology', 'Time Factors', 'United Kingdom/epidemiology', 'United States/epidemiology', 'Wood', 'Wood/*adverse effects']\n"
     ]
    }
   ],
   "source": [
    "print(df1.iloc[3].keywords)"
   ]
  },
  {
   "cell_type": "code",
   "execution_count": 124,
   "metadata": {
    "collapsed": true
   },
   "outputs": [],
   "source": [
    "df = pd.read_csv('idiopathic-pulmonary-fibrosis.csv', usecols=['pmid','title','firstauthor','lastauthor',\n",
    "                                                             'journal','pubdate','pubtype',\n",
    "                                                             'abstract', 'keywords', 'rcr'])"
   ]
  },
  {
   "cell_type": "code",
   "execution_count": 141,
   "metadata": {
    "collapsed": false
   },
   "outputs": [
    {
     "name": "stdout",
     "output_type": "stream",
     "text": [
      "Number of pubmed IPF papers per year\n"
     ]
    },
    {
     "data": {
      "image/png": "[encoded data removed]",
      "text/plain": [
       "<matplotlib.figure.Figure at 0x7f2e5d74aa20>"
      ]
     },
     "metadata": {},
     "output_type": "display_data"
    }
   ],
   "source": [
    "print ('Number of pubmed IPF papers per year')\n",
    "explore_result_dataframe(df)"
   ]
  },
  {
   "cell_type": "code",
   "execution_count": 142,
   "metadata": {
    "collapsed": false
   },
   "outputs": [
    {
     "name": "stdout",
     "output_type": "stream",
     "text": [
      "Top 5 first authors for IPF\n"
     ]
    },
    {
     "data": {
      "text/plain": [
       "Raghu G        44\n",
       "Cottin V       42\n",
       "Selman M       27\n",
       "Behr J         26\n",
       "Antoniou KM    24\n",
       "Name: firstauthor, dtype: int64"
      ]
     },
     "execution_count": 142,
     "metadata": {},
     "output_type": "execute_result"
    }
   ],
   "source": [
    "print ('Top 5 first authors for IPF')\n",
    "df.firstauthor.value_counts().head()\n"
   ]
  },
  {
   "cell_type": "code",
   "execution_count": 143,
   "metadata": {
    "collapsed": false
   },
   "outputs": [
    {
     "name": "stdout",
     "output_type": "stream",
     "text": [
      "Top 5 last authors for IPF\n"
     ]
    },
    {
     "data": {
      "text/plain": [
       "Collard HR    45\n",
       "Wells AU      43\n",
       "Bouros D      42\n",
       "Raghu G       41\n",
       "Crystal RG    39\n",
       "Name: lastauthor, dtype: int64"
      ]
     },
     "execution_count": 143,
     "metadata": {},
     "output_type": "execute_result"
    }
   ],
   "source": [
    "print ('Top 5 last authors for IPF')\n",
    "df.lastauthor.value_counts().head()\n"
   ]
  },
  {
   "cell_type": "code",
   "execution_count": 145,
   "metadata": {
    "collapsed": false
   },
   "outputs": [
    {
     "name": "stdout",
     "output_type": "stream",
     "text": [
      "Top 5 journals for IPF\n"
     ]
    },
    {
     "data": {
      "text/plain": [
       "Am J Respir Crit Care Med    398\n",
       "Chest                        273\n",
       "Eur Respir J                 268\n",
       "Respir Med                   158\n",
       "Thorax                       144\n",
       "Name: journal, dtype: int64"
      ]
     },
     "execution_count": 145,
     "metadata": {},
     "output_type": "execute_result"
    }
   ],
   "source": [
    "print ('Top 5 journals for IPF')\n",
    "df.journal.value_counts().head()\n"
   ]
  },
  {
   "cell_type": "code",
   "execution_count": 139,
   "metadata": {
    "collapsed": false
   },
   "outputs": [
    {
     "data": {
      "text/html": [
       "<div>\n",
       "<table border=\"1\" class=\"dataframe\">\n",
       "  <thead>\n",
       "    <tr style=\"text-align: right;\">\n",
       "      <th></th>\n",
       "      <th>pmid</th>\n",
       "      <th>title</th>\n",
       "      <th>firstauthor</th>\n",
       "      <th>lastauthor</th>\n",
       "      <th>journal</th>\n",
       "      <th>pubdate</th>\n",
       "      <th>pubtype</th>\n",
       "      <th>abstract</th>\n",
       "      <th>keywords</th>\n",
       "      <th>rcr</th>\n",
       "    </tr>\n",
       "    <tr>\n",
       "      <th>pubdate</th>\n",
       "      <th></th>\n",
       "      <th></th>\n",
       "      <th></th>\n",
       "      <th></th>\n",
       "      <th></th>\n",
       "      <th></th>\n",
       "      <th></th>\n",
       "      <th></th>\n",
       "      <th></th>\n",
       "      <th></th>\n",
       "    </tr>\n",
       "  </thead>\n",
       "  <tbody>\n",
       "    <tr>\n",
       "      <th>2011-03-15</th>\n",
       "      <td>21471066</td>\n",
       "      <td>An official ATS/ERS/JRS/ALAT statement: idiopathic pulmonary fibrosis: evidence-based guidelines for diagnosis and management.</td>\n",
       "      <td>Raghu G</td>\n",
       "      <td>Schünemann HJ</td>\n",
       "      <td>Am J Respir Crit Care Med</td>\n",
       "      <td>2011-03-15</td>\n",
       "      <td>['Journal Article', 'Practice Guideline', \"Research Support, Non-U.S. Gov't\"]</td>\n",
       "      <td>This document is an international evidence-based guideline on the diagnosis and management of idiopathic pulmonary fibrosis, and is a collaborative effort of the American Thoracic Society, the European Respiratory Society, the Japanese Respiratory Society, and the Latin American Thoracic Associa...</td>\n",
       "      <td>['*Activities of Daily Living', '*Airway Remodeling', '*Anti-Inflammatory Agents, Non-Steroidal/administration &amp; dosage/adverse effects', '*Bronchoalveolar Lavage Fluid', '*Cell Cycle', '*Cell Differentiation/drug effects/genetics', '*Cell Movement', '*Decision Support Techniques', '*Diagnostic ...</td>\n",
       "      <td>102.409113</td>\n",
       "    </tr>\n",
       "    <tr>\n",
       "      <th>2014-05-29</th>\n",
       "      <td>24836310</td>\n",
       "      <td>Efficacy and safety of nintedanib in idiopathic pulmonary fibrosis.</td>\n",
       "      <td>Richeldi L</td>\n",
       "      <td>Collard HR</td>\n",
       "      <td>N Engl J Med</td>\n",
       "      <td>2014-05-29</td>\n",
       "      <td>['Clinical Trial, Phase III', 'Journal Article', 'Multicenter Study', 'Randomized Controlled Trial', \"Research Support, Non-U.S. Gov't\"]</td>\n",
       "      <td>BACKGROUND: Nintedanib (formerly known as BIBF 1120) is an intracellular inhibitor that targets multiple tyrosine kinases. A phase 2 trial suggested that treatment with 150 mg of nintedanib twice daily reduced lung-function decline and acute exacerbations in patients with idiopathic pulmonary fi...</td>\n",
       "      <td>['*Activities of Daily Living', '*Aging', '*Apoptosis', '*Attitude to Health', '*Autophagy', '*Biomarkers', '*Capnography', '*Cell Aging', '*Cell Transformation, Neoplastic', '*Communication', '*Comorbidity', '*Consensus', '*DNA Methylation', '*Disease Management', '*Disease Progression', '*Drug...</td>\n",
       "      <td>62.965059</td>\n",
       "    </tr>\n",
       "    <tr>\n",
       "      <th>2008-01-01</th>\n",
       "      <td>18161745</td>\n",
       "      <td>Cellular and molecular mechanisms of fibrosis.</td>\n",
       "      <td>Wynn TA</td>\n",
       "      <td>Wynn TA</td>\n",
       "      <td>J Pathol</td>\n",
       "      <td>2008-01-01</td>\n",
       "      <td>['Journal Article', 'Research Support, N.I.H., Intramural', 'Review']</td>\n",
       "      <td>Fibrosis is defined by the overgrowth, hardening, and/or scarring of various tissues and is attributed to excess deposition of extracellular matrix components including collagen. Fibrosis is the end result of chronic inflammatory reactions induced by a variety of stimuli including persistent inf...</td>\n",
       "      <td>['*Adenovirus Infections, Human', '*Antibiotics, Antineoplastic', '*Apoptosis', '*Asian Continental Ancestry Group', '*Bleomycin', '*Bronchoscopy', '*Cell Hypoxia', '*Cell Movement', '*Cell Proliferation', '*Coronary Artery Bypass', '*DNA Methylation/drug effects', '*Dental Technicians', '*Disea...</td>\n",
       "      <td>53.192960</td>\n",
       "    </tr>\n",
       "    <tr>\n",
       "      <th>2013-09-15</th>\n",
       "      <td>24032382</td>\n",
       "      <td>An official American Thoracic Society/European Respiratory Society statement: Update of the international multidisciplinary classification of the idiopathic interstitial pneumonias.</td>\n",
       "      <td>Travis WD</td>\n",
       "      <td>Valeyre D</td>\n",
       "      <td>Am J Respir Crit Care Med</td>\n",
       "      <td>2013-09-15</td>\n",
       "      <td>['Journal Article', 'Practice Guideline', \"Research Support, Non-U.S. Gov't\"]</td>\n",
       "      <td>BACKGROUND: In 2002 the American Thoracic Society/European Respiratory Society (ATS/ERS) classification of idiopathic interstitial pneumonias (IIPs) defined seven specific entities, and provided standardized terminology and diagnostic criteria. In addition, the historical \"gold standard\" of hist...</td>\n",
       "      <td>['*Apoptosis', '*Attitude to Health', '*Autophagy/drug effects', '*Breath Tests', '*Bronchiectasis/drug therapy', '*Bronchoalveolar Lavage', '*Clinical Trials as Topic', '*Congresses as Topic', '*Cordyceps', '*DNA Damage', '*Drug Discovery', '*Dust/analysis', '*Epithelial-Mesenchymal Transition'...</td>\n",
       "      <td>51.915389</td>\n",
       "    </tr>\n",
       "    <tr>\n",
       "      <th>2015-07-15</th>\n",
       "      <td>26177183</td>\n",
       "      <td>An Official ATS/ERS/JRS/ALAT Clinical Practice Guideline: Treatment of Idiopathic Pulmonary Fibrosis. An Update of the 2011 Clinical Practice Guideline.</td>\n",
       "      <td>Raghu G</td>\n",
       "      <td>Schünemann HJ</td>\n",
       "      <td>Am J Respir Crit Care Med</td>\n",
       "      <td>2015-07-15</td>\n",
       "      <td>['Journal Article', 'Practice Guideline']</td>\n",
       "      <td>BACKGROUND: This document updates the American Thoracic Society/European Respiratory Society/Japanese Respiratory Society/Latin American Thoracic Association guideline on idiopathic pulmonary fibrosis treatment. METHODS: Systematic reviews and, when appropriate, meta-analyses were performed to s...</td>\n",
       "      <td>['*Activities of Daily Living', '*Airway Remodeling', '*Anti-Inflammatory Agents, Non-Steroidal/administration &amp; dosage/adverse effects', '*Bronchoalveolar Lavage Fluid', '*Cell Cycle', '*Cell Differentiation/drug effects/genetics', '*Cell Movement', '*Decision Support Techniques', '*Diagnostic ...</td>\n",
       "      <td>32.391134</td>\n",
       "    </tr>\n",
       "  </tbody>\n",
       "</table>\n",
       "</div>"
      ],
      "text/plain": [
       "                pmid  \\\n",
       "pubdate                \n",
       "2011-03-15  21471066   \n",
       "2014-05-29  24836310   \n",
       "2008-01-01  18161745   \n",
       "2013-09-15  24032382   \n",
       "2015-07-15  26177183   \n",
       "\n",
       "                                                                                                                                                                                            title  \\\n",
       "pubdate                                                                                                                                                                                             \n",
       "2011-03-15                                                         An official ATS/ERS/JRS/ALAT statement: idiopathic pulmonary fibrosis: evidence-based guidelines for diagnosis and management.   \n",
       "2014-05-29                                                                                                                    Efficacy and safety of nintedanib in idiopathic pulmonary fibrosis.   \n",
       "2008-01-01                                                                                                                                         Cellular and molecular mechanisms of fibrosis.   \n",
       "2013-09-15  An official American Thoracic Society/European Respiratory Society statement: Update of the international multidisciplinary classification of the idiopathic interstitial pneumonias.   \n",
       "2015-07-15                               An Official ATS/ERS/JRS/ALAT Clinical Practice Guideline: Treatment of Idiopathic Pulmonary Fibrosis. An Update of the 2011 Clinical Practice Guideline.   \n",
       "\n",
       "           firstauthor     lastauthor                    journal    pubdate  \\\n",
       "pubdate                                                                       \n",
       "2011-03-15     Raghu G  Schünemann HJ  Am J Respir Crit Care Med 2011-03-15   \n",
       "2014-05-29  Richeldi L     Collard HR               N Engl J Med 2014-05-29   \n",
       "2008-01-01     Wynn TA        Wynn TA                   J Pathol 2008-01-01   \n",
       "2013-09-15   Travis WD      Valeyre D  Am J Respir Crit Care Med 2013-09-15   \n",
       "2015-07-15     Raghu G  Schünemann HJ  Am J Respir Crit Care Med 2015-07-15   \n",
       "\n",
       "                                                                                                                                             pubtype  \\\n",
       "pubdate                                                                                                                                                \n",
       "2011-03-15                                                             ['Journal Article', 'Practice Guideline', \"Research Support, Non-U.S. Gov't\"]   \n",
       "2014-05-29  ['Clinical Trial, Phase III', 'Journal Article', 'Multicenter Study', 'Randomized Controlled Trial', \"Research Support, Non-U.S. Gov't\"]   \n",
       "2008-01-01                                                                     ['Journal Article', 'Research Support, N.I.H., Intramural', 'Review']   \n",
       "2013-09-15                                                             ['Journal Article', 'Practice Guideline', \"Research Support, Non-U.S. Gov't\"]   \n",
       "2015-07-15                                                                                                 ['Journal Article', 'Practice Guideline']   \n",
       "\n",
       "                                                                                                                                                                                                                                                                                                               abstract  \\\n",
       "pubdate                                                                                                                                                                                                                                                                                                                   \n",
       "2011-03-15  This document is an international evidence-based guideline on the diagnosis and management of idiopathic pulmonary fibrosis, and is a collaborative effort of the American Thoracic Society, the European Respiratory Society, the Japanese Respiratory Society, and the Latin American Thoracic Associa...   \n",
       "2014-05-29  BACKGROUND: Nintedanib (formerly known as BIBF 1120) is an intracellular inhibitor that targets multiple tyrosine kinases. A phase 2 trial suggested that treatment with 150 mg of nintedanib twice daily reduced lung-function decline and acute exacerbations in patients with idiopathic pulmonary fi...   \n",
       "2008-01-01  Fibrosis is defined by the overgrowth, hardening, and/or scarring of various tissues and is attributed to excess deposition of extracellular matrix components including collagen. Fibrosis is the end result of chronic inflammatory reactions induced by a variety of stimuli including persistent inf...   \n",
       "2013-09-15  BACKGROUND: In 2002 the American Thoracic Society/European Respiratory Society (ATS/ERS) classification of idiopathic interstitial pneumonias (IIPs) defined seven specific entities, and provided standardized terminology and diagnostic criteria. In addition, the historical \"gold standard\" of hist...   \n",
       "2015-07-15  BACKGROUND: This document updates the American Thoracic Society/European Respiratory Society/Japanese Respiratory Society/Latin American Thoracic Association guideline on idiopathic pulmonary fibrosis treatment. METHODS: Systematic reviews and, when appropriate, meta-analyses were performed to s...   \n",
       "\n",
       "                                                                                                                                                                                                                                                                                                               keywords  \\\n",
       "pubdate                                                                                                                                                                                                                                                                                                                   \n",
       "2011-03-15  ['*Activities of Daily Living', '*Airway Remodeling', '*Anti-Inflammatory Agents, Non-Steroidal/administration & dosage/adverse effects', '*Bronchoalveolar Lavage Fluid', '*Cell Cycle', '*Cell Differentiation/drug effects/genetics', '*Cell Movement', '*Decision Support Techniques', '*Diagnostic ...   \n",
       "2014-05-29  ['*Activities of Daily Living', '*Aging', '*Apoptosis', '*Attitude to Health', '*Autophagy', '*Biomarkers', '*Capnography', '*Cell Aging', '*Cell Transformation, Neoplastic', '*Communication', '*Comorbidity', '*Consensus', '*DNA Methylation', '*Disease Management', '*Disease Progression', '*Drug...   \n",
       "2008-01-01  ['*Adenovirus Infections, Human', '*Antibiotics, Antineoplastic', '*Apoptosis', '*Asian Continental Ancestry Group', '*Bleomycin', '*Bronchoscopy', '*Cell Hypoxia', '*Cell Movement', '*Cell Proliferation', '*Coronary Artery Bypass', '*DNA Methylation/drug effects', '*Dental Technicians', '*Disea...   \n",
       "2013-09-15  ['*Apoptosis', '*Attitude to Health', '*Autophagy/drug effects', '*Breath Tests', '*Bronchiectasis/drug therapy', '*Bronchoalveolar Lavage', '*Clinical Trials as Topic', '*Congresses as Topic', '*Cordyceps', '*DNA Damage', '*Drug Discovery', '*Dust/analysis', '*Epithelial-Mesenchymal Transition'...   \n",
       "2015-07-15  ['*Activities of Daily Living', '*Airway Remodeling', '*Anti-Inflammatory Agents, Non-Steroidal/administration & dosage/adverse effects', '*Bronchoalveolar Lavage Fluid', '*Cell Cycle', '*Cell Differentiation/drug effects/genetics', '*Cell Movement', '*Decision Support Techniques', '*Diagnostic ...   \n",
       "\n",
       "                   rcr  \n",
       "pubdate                 \n",
       "2011-03-15  102.409113  \n",
       "2014-05-29   62.965059  \n",
       "2008-01-01   53.192960  \n",
       "2013-09-15   51.915389  \n",
       "2015-07-15   32.391134  "
      ]
     },
     "execution_count": 139,
     "metadata": {},
     "output_type": "execute_result"
    }
   ],
   "source": [
    "df.sort_values(by='rcr', ascending=False).head()\n"
   ]
  }
 ],
 "metadata": {
  "kernelspec": {
   "display_name": "Python 3",
   "language": "python",
   "name": "python3"
  },
  "language_info": {
   "codemirror_mode": {
    "name": "ipython",
    "version": 3
   },
   "file_extension": ".py",
   "mimetype": "text/x-python",
   "name": "python",
   "nbconvert_exporter": "python",
   "pygments_lexer": "ipython3",
   "version": "3.5.2"
  }
 },
 "nbformat": 4,
 "nbformat_minor": 2
}
