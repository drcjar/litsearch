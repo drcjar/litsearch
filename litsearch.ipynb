{
 "cells": [
  {
   "cell_type": "markdown",
   "metadata": {},
   "source": [
    "### A notebook to support academic question exploration and literature search / what do you do when you search the literature?\n",
    "\n",
    "0. Define a research question e.g Is occupational **asbestos exposure** an underecognised **cause** of IPF? \n",
    "1. Consider the different possible ways of answering the question (methods). Different study designs and ways of measuring asbestos exposure e.g Epidemiological, observational, cross-sectional, cohort, case-control, post-mortem and explant studies, ecological, toxicology, animal models, molecular disease models, exposure assessment, occupational hygeinst measurements, minerologic analysis (tissue, BAL etc)\n",
    "2. Generate search terms e.g \"IPF\", \"case-control\", \"occupational\", \"asbestos\" (? && mesh terms)\n",
    "3. Carry out search using search terms and e.g pubmed, embase, google scholar, scopus, biorxiv, web of science, clinicaltrials.gov, ?google books\n",
    "4. Search results == Candidate Papers\n",
    "5. Extract title | journal | author | location | year | abstract | key words | full text && save result (as .bib) (prob want to export to jabref)\n",
    "6. Review Candidate Papers to identify Relevant Papers \n",
    "7. Use Relevant Papers to identify more Candidate papers. Search also by author, cited by, cite, [triangle closing](https://en.wikipedia.org/wiki/Triadic_closure) e.g https://github.com/hinnefe2/bibcheck.py and other means (?tensorflow/scikit-learn,nltk)\n",
    "8. Use the Relevant Papers collected for whatever it is they are relevant for (usually to help compose a written document in which they are cited)\n",
    "9. ?django app times\n",
    "\n",
    "meta: github/stack exchange etc to check out other peoples search strategies. this is likely to be formulated as a machine learning problem somewhere."
   ]
  },
  {
   "cell_type": "markdown",
   "metadata": {},
   "source": [
    "#### interesting related I found includes: https://www.projectcredo.com/, http://citationexplorer.hoppmann.me/, lict from a previous nhshackday, https://github.com/jvoytek/pubmedbrain/blob/f5170a2e3540e0c2aa665559c86048dfb1583f16/documents/Voytek-brainSCANrPreprint.pdf, https://github.com/graeham/hackathon/blob/master/paperGraph.py"
   ]
  },
  {
   "cell_type": "markdown",
   "metadata": {},
   "source": [
    "### search github for relevant stuff with the following 'webbit' \n",
    "> https://github.com/search?l=Python&q=http%3A%2F%2Feutils.ncbi.nlm.nih.gov%2Fentrez%2Feutils%2Fesearch.fcgi++stars%3A%3E5&ref=advsearch&type=Code&utf8=%E2%9C%93\n",
    "\n",
    "gists and interwebs inc stackoverflow also helpful"
   ]
  },
  {
   "cell_type": "markdown",
   "metadata": {},
   "source": [
    "tempting to dive into django a la https://github.com/afouchet/OpenReview but probably not essential and now is not optimal timing"
   ]
  },
  {
   "cell_type": "markdown",
   "metadata": {},
   "source": [
    "https://github.com/gui11aume looks well documented, poss useful template\n",
    "https://github.com/swcarpentry/2013-08-23-harvard/blob/b2097bc20833e0a58b2e73eecd1227d61bd5a00a/lessons/misc-biopython/eutils.md looks like nice intro to biopython utils and https://gist.github.com/bonzanini/5a4c39e4c02502a8451d, https://gist.github.com/ehazlett/1104507, https://gist.github.com/vtrubets/ef1dabb397ea6a05ce5b4e767ed15af9 (for use of icite), https://gist.github.com/mcfrank/c1ec74df1427278cbe53, http://stackoverflow.com/questions/17409107/obtaining-data-from-pubmed-using-python, https://github.com/bwallace/abstrackr-web/tree/master/abstrackr, http://www.billconnelly.net/?p=44"
   ]
  },
  {
   "cell_type": "markdown",
   "metadata": {},
   "source": [
    "### let's tackle pubmed first"
   ]
  },
  {
   "cell_type": "code",
   "execution_count": 30,
   "metadata": {
    "collapsed": false
   },
   "outputs": [
    {
     "data": {
      "text/plain": [
       "'\\nNotebook to support academic question exploration and literature search.\\n\\nThanks to https://marcobonzanini.wordpress.com/2015/01/12/searching-pubmed-with-python/ and \\nhttp://www.fredtrotter.com/2014/11/14/hacking-on-the-pubmed-api/ and vtrubets\\nhttps://gist.github.com/vtrubets/ef1dabb397ea6a05ce5b4e767ed15af9 \\n\\nPubmed advanced search is helpful for designing search/experimenting \\nhttps://www.ncbi.nlm.nih.gov/pubmed/advanced\\n\\nDocs for NCBI esearch:\\nhttps://www.ncbi.nlm.nih.gov/books/NBK25499/#chapter4.ESearch\\nhttps://www.nlm.nih.gov/bsd/mms/medlineelements.html\\n'"
      ]
     },
     "execution_count": 30,
     "metadata": {},
     "output_type": "execute_result"
    }
   ],
   "source": [
    "\"\"\"\n",
    "Notebook to support academic question exploration and literature search.\n",
    "\n",
    "Thanks to https://marcobonzanini.wordpress.com/2015/01/12/searching-pubmed-with-python/ and \n",
    "http://www.fredtrotter.com/2014/11/14/hacking-on-the-pubmed-api/ and vtrubets\n",
    "https://gist.github.com/vtrubets/ef1dabb397ea6a05ce5b4e767ed15af9 \n",
    "\n",
    "Pubmed advanced search is helpful for designing search/experimenting \n",
    "https://www.ncbi.nlm.nih.gov/pubmed/advanced\n",
    "\n",
    "Docs for NCBI esearch:\n",
    "https://www.ncbi.nlm.nih.gov/books/NBK25499/#chapter4.ESearch\n",
    "https://www.nlm.nih.gov/bsd/mms/medlineelements.html\n",
    "\"\"\"\n"
   ]
  },
  {
   "cell_type": "code",
   "execution_count": 31,
   "metadata": {
    "collapsed": false
   },
   "outputs": [],
   "source": [
    "from Bio import Entrez\n",
    "from Bio import Medline\n",
    "from tqdm import tqdm\n",
    "from collections import Counter\n",
    "import json\n",
    "import requests\n",
    "import re\n",
    "import pandas as pd\n",
    "import pickle \n",
    "import matplotlib.pyplot as plt\n",
    "%matplotlib inline"
   ]
  },
  {
   "cell_type": "code",
   "execution_count": 32,
   "metadata": {
    "collapsed": false
   },
   "outputs": [],
   "source": [
    "def get_chunked_pmids(term, chunksize=50):\n",
    "    \"\"\"\n",
    "    Return a list of Pubmed ids from pubmed search in chunks\n",
    "    \"\"\"\n",
    "    Entrez.email = \"carl.reynolds@imperial.ac.uk\"\n",
    "    count_handle = Entrez.esearch(db=\"pubmed\",\n",
    "                                  term=term,\n",
    "                                  retmode=\"xml\",\n",
    "                                  rettype=\"count\")\n",
    "    count_results = Entrez.read(count_handle)\n",
    "    count = int(count_results[\"Count\"])\n",
    "\n",
    "    retmax_requests = list(range(chunksize, count, chunksize))\n",
    "    retmax_requests.append(count - retmax_requests[len(retmax_requests) - 1])\n",
    "\n",
    "    for i, retmax in enumerate(retmax_requests):\n",
    "        pmid_handle = Entrez.esearch(db=\"pubmed\",\n",
    "                                     term=term,\n",
    "                                     sort=\"relevance\",\n",
    "                                     retmode=\"xml\",\n",
    "                                     usehistory='y',\n",
    "                                     retstart=retmax,\n",
    "                                     retmax=chunksize)\n",
    "        results = Entrez.read(pmid_handle)\n",
    "        yield results[\"IdList\"]"
   ]
  },
  {
   "cell_type": "code",
   "execution_count": 33,
   "metadata": {
    "collapsed": false
   },
   "outputs": [],
   "source": [
    "def get_pubmed_summaries(pubmed_id):\n",
    "    \"\"\"\n",
    "    Use the Pubmed API to return the summary of a pubmed article\n",
    "    \"\"\"\n",
    "    Entrez.email = \"carl.reynolds@imperial.ac.uk\"\n",
    "    pubmed_id = ', '.join(map(str, pubmed_id))\n",
    "    handle = Entrez.esummary(db='pubmed', \n",
    "                             id=pubmed_id, \n",
    "                             retmode='json', \n",
    "                             rettype='abstract')\n",
    "    return json.loads(handle.read())['result']\n",
    "  "
   ]
  },
  {
   "cell_type": "code",
   "execution_count": 34,
   "metadata": {
    "collapsed": false
   },
   "outputs": [],
   "source": [
    "def get_pubmed_keywords(pubmed_id):\n",
    "    \"\"\"\n",
    "    Use the Pubmed API to return the medline record and extract the key words of a pubmed article.\n",
    "    Return {pmid:[list of keywords]}.\n",
    "    \"\"\"\n",
    "    Entrez.email = \"carl.reynolds@imperial.ac.uk\"\n",
    "    handle = Entrez.efetch(db='pubmed',\n",
    "                           id=pubmed_id,\n",
    "                           rettype='medline',\n",
    "                           retmode='text')\n",
    "    records = Medline.parse(handle)\n",
    "    keywords = {}\n",
    "    for record in records:\n",
    "        pmid = record.get('PMID','?')\n",
    "        mh = record.get('MH','?')\n",
    "        keywords[pmid] = mh\n",
    "    return keywords"
   ]
  },
  {
   "cell_type": "code",
   "execution_count": 35,
   "metadata": {
    "collapsed": true
   },
   "outputs": [],
   "source": [
    "def get_pubmed_abstracts(pubmed_id):\n",
    "    \"\"\"\n",
    "    Use the Pubmed API to return the medline record and extract the abstract of a pubmed article.\n",
    "    Return {pmid:abstract}.\n",
    "    \"\"\"\n",
    "    Entrez.email = \"carl.reynolds@imperial.ac.uk\"\n",
    "    handle = Entrez.efetch(db='pubmed',\n",
    "                           id=pubmed_id,\n",
    "                           rettype='medline',\n",
    "                           retmode='text')\n",
    "    records = Medline.parse(handle)\n",
    "    abstracts = {}\n",
    "    for record in records:\n",
    "        pmid = record.get('PMID','?')\n",
    "        ab = record.get('AB','?')\n",
    "        abstracts[pmid] = ab\n",
    "    return abstracts"
   ]
  },
  {
   "cell_type": "code",
   "execution_count": 36,
   "metadata": {
    "collapsed": true
   },
   "outputs": [],
   "source": [
    "def get_pubmed_pubtypes(pubmed_id):\n",
    "    \"\"\"\n",
    "    Use the Pubmed API to return the medline record and extract the abstract of a pubmed article.\n",
    "    Return {pmid:pubtype}.\n",
    "    \"\"\"\n",
    "    Entrez.email = \"carl.reynolds@imperial.ac.uk\"\n",
    "    handle = Entrez.efetch(db='pubmed',\n",
    "                           id=pubmed_id,\n",
    "                           rettype='medline',\n",
    "                           retmode='text')\n",
    "    records = Medline.parse(handle)\n",
    "    pubtypes = {}\n",
    "    for record in records:\n",
    "        pmid = record.get('PMID','?')\n",
    "        pt = record.get('PT','?')\n",
    "        pubtypes[pmid] = pt\n",
    "    return pubtypes"
   ]
  },
  {
   "cell_type": "code",
   "execution_count": 37,
   "metadata": {
    "collapsed": false
   },
   "outputs": [],
   "source": [
    "def get_citation_information(pubmed_id):\n",
    "    \"\"\"\n",
    "    Use the special citation api to return relative citation ratios\n",
    "    \"\"\"\n",
    "    pubmed_id = ','.join(pubmed_id)\n",
    "    citation_search = 'https://icite.od.nih.gov/api/pubs?pmids={0}'.format(pubmed_id)\n",
    "    response = requests.get(citation_search).content\n",
    "    str_response = response.decode('utf-8')\n",
    "    \n",
    "    try:\n",
    "        data = json.loads(str_response)['data']\n",
    "    except KeyError:\n",
    "        data = False\n",
    "         \n",
    "    citations = {}\n",
    "    \n",
    "    if data:\n",
    "        for record in data:\n",
    "            pmid = record.get('pmid')\n",
    "            rcr = record.get('relative_citation_ratio')\n",
    "            citations[pmid] = rcr\n",
    "            \n",
    "    return citations\n",
    "        "
   ]
  },
  {
   "cell_type": "code",
   "execution_count": 175,
   "metadata": {
    "collapsed": false
   },
   "outputs": [],
   "source": [
    "def get_pmids_for_papers_citing(pubmed_id):\n",
    "    \"\"\"\n",
    "    Use the Pubmed API to return a list of pmids for a paper citing a particular pmid\n",
    "    Return list of pmids}.\n",
    "    \"\"\"\n",
    "    Entrez.email = \"carl.reynolds@imperial.ac.uk\"\n",
    "    handle = Entrez.elink(dbfrom=\"pubmed\",\n",
    "                          id=pubmed_id,\n",
    "                          linkname=\"pubmed_pubmed_citedin\")\n",
    "    records = Entrez.read(handle)\n",
    "    list_of_pmids_citing = []\n",
    "    \n",
    "    if records[0][\"LinkSetDb\"]:\n",
    "        for link in records[0][\"LinkSetDb\"][0][\"Link\"]:\n",
    "            list_of_pmids_citing.append(link[\"Id\"]) \n",
    "  \n",
    "    return list_of_pmids_citing "
   ]
  },
  {
   "cell_type": "code",
   "execution_count": 198,
   "metadata": {
    "collapsed": true
   },
   "outputs": [],
   "source": [
    "def get_citing_pmids(pubmed_id):\n",
    "    \"\"\"\n",
    "    Use the Pubmed API to return a list of pmids for a paper citing a pmid\n",
    "    in a list of pmids\n",
    "    Return {pmid:list_of_citing_pmids}\n",
    "    \"\"\"\n",
    "    citing = {}\n",
    "    for pmid in pubmed_id:\n",
    "        citing[pmid] = get_pmids_for_papers_citing(pmid)\n",
    "  \n",
    "    return citing"
   ]
  },
  {
   "cell_type": "code",
   "execution_count": 38,
   "metadata": {
    "collapsed": false
   },
   "outputs": [],
   "source": [
    "def lit_search(term):\n",
    "    \"\"\"\n",
    "    Search pubmed for a term and collect information about the results\n",
    "    \"\"\"\n",
    "    pmid_blocks = get_chunked_pmids(term, chunksize=200)\n",
    "    summaries = []\n",
    "    pubtypes = []\n",
    "    abstracts = []\n",
    "    keywords = []\n",
    "    rcrs = []\n",
    "    litsearch_results = [summaries, pubtypes, abstracts, keywords, rcrs]\n",
    "    for i, block in enumerate(pmid_blocks):\n",
    "        summaries.append(get_pubmed_summaries(block))\n",
    "        pubtypes.append(get_pubmed_pubtypes(block))\n",
    "        abstracts.append(get_pubmed_abstracts(block))\n",
    "        keywords.append(get_pubmed_keywords(block))\n",
    "        rcrs.append(get_citation_information(block))\n",
    "        print(\"Processed block {0}\".format(i))\n",
    "    pickle.dump( litsearch_results, open( \"litsearch_results_{0}.p\".format(term), \"wb\" ) )\n",
    "    return summaries, pubtypes, abstracts, keywords, rcrs\n",
    "        "
   ]
  },
  {
   "cell_type": "code",
   "execution_count": 197,
   "metadata": {
    "collapsed": false
   },
   "outputs": [],
   "source": [
    "def lit_search_for_topic(topic):\n",
    "    \"\"\"\n",
    "    Search pubmed for a term and collect information about the results\n",
    "    \"\"\"\n",
    "\n",
    "    summaries = get_pubmed_summaries(topic)\n",
    "    pubtypes = get_pubmed_pubtypes(topic)\n",
    "    abstracts = get_pubmed_abstracts(topic)\n",
    "    keywords = get_pubmed_keywords(topic)\n",
    "    rcrs = get_citation_information(topic)\n",
    "    citing = get_citing_pmids(topic)\n",
    "\n",
    "    #citing = {}\n",
    "    #for pmid in topic:\n",
    "    #    citing[pmid] = get_pmids_for_papers_citing(pmid)\n",
    "    #pickle.dump( litsearch_results, open( \"litsearch_results_{0}.p\".format(term), \"wb\" ) )\n",
    "    \n",
    "    return summaries, pubtypes, abstracts, keywords, rcrs, citing\n",
    "        "
   ]
  },
  {
   "cell_type": "code",
   "execution_count": 178,
   "metadata": {
    "collapsed": false
   },
   "outputs": [],
   "source": [
    "def make_result_dataframe( term, summaries, pubtypes, abstracts, keywords, rcrs ):\n",
    "    \n",
    "    pmid_blocks = get_chunked_pmids(term, chunksize=200)\n",
    "    pmids = list(pmid_blocks)\n",
    "\n",
    "    d = {}\n",
    "\n",
    "    #for i, pmid in enumerate(pmids):\n",
    "    for i, summary in enumerate(summaries):\n",
    "        d[i] = pd.DataFrame(pmids[i], columns=['pmid'])\n",
    "        d[i]['title'] = d[i]['pmid'].map(lambda x: summaries[i].get(x)['title'])\n",
    "        d[i]['firstauthor'] = d[i]['pmid'].map(lambda x: summaries[i].get(x)['sortfirstauthor'])\n",
    "        d[i]['lastauthor'] = d[i]['pmid'].map(lambda x: summaries[i].get(x)['lastauthor'])\n",
    "        d[i]['journal'] = d[i]['pmid'].map(lambda x: summaries[i].get(x)['source'])\n",
    "        d[i]['pubdate'] = d[i]['pmid'].map(lambda x: summaries[i].get(x)['sortpubdate'])\n",
    "        d[i]['pubtype'] = d[i]['pmid'].map(lambda x: pubtypes[i].get(x))\n",
    "        d[i]['abstract'] = d[i]['pmid'].map(lambda x: abstracts[i].get(x))\n",
    "        d[i]['keywords'] = d[i]['pmid'].map(lambda x: keywords[i].get(x))\n",
    "        d[i]['rcr'] = d[i]['pmid'].astype(int).map(lambda x: rcrs[i].get(x))\n",
    "            \n",
    "    df = pd.concat(d.values(), ignore_index=True)\n",
    "    pd.set_option('max_colwidth',300)\n",
    "    return df"
   ]
  },
  {
   "cell_type": "code",
   "execution_count": 185,
   "metadata": {
    "collapsed": true
   },
   "outputs": [],
   "source": [
    "def make_result_dataframe_for_topic( topic, summaries, pubtypes, abstracts, keywords, rcrs, citing ):\n",
    "    \n",
    "    df = pd.DataFrame(topic, columns=['pmid'])\n",
    "    df['title'] = df['pmid'].map(lambda x: summaries.get(x)['title'])\n",
    "    df['firstauthor'] = df['pmid'].map(lambda x: summaries.get(x)['sortfirstauthor'])\n",
    "    df['lastauthor'] = df['pmid'].map(lambda x: summaries.get(x)['lastauthor'])\n",
    "    df['journal'] = df['pmid'].map(lambda x: summaries.get(x)['source'])\n",
    "    df['pubdate'] = df['pmid'].map(lambda x: summaries.get(x)['sortpubdate'])\n",
    "    df['pubtype'] = df['pmid'].map(lambda x: pubtypes.get(x))\n",
    "    df['abstract'] = df['pmid'].map(lambda x: abstracts.get(x))\n",
    "    df['keywords'] = df['pmid'].map(lambda x: keywords.get(x))\n",
    "    df['rcr'] = df['pmid'].astype(int).map(lambda x: rcrs.get(x))\n",
    "    df['citedby'] =  df['pmid'].map(lambda x: citing.get(x))\n",
    "    pd.set_option('max_colwidth',300)\n",
    "    return df"
   ]
  },
  {
   "cell_type": "code",
   "execution_count": 180,
   "metadata": {
    "collapsed": false
   },
   "outputs": [],
   "source": [
    "def save_results_as_csv(term, df):\n",
    "    name = term.replace(\" \", \"-\")\n",
    "    df.to_csv(name+\".csv\")"
   ]
  },
  {
   "cell_type": "code",
   "execution_count": 181,
   "metadata": {
    "collapsed": true
   },
   "outputs": [],
   "source": [
    "def explore_result_dataframe(df):\n",
    "    df.sort_values(by='rcr', ascending=False).head()\n",
    "    df.firstauthor.value_counts().head()\n",
    "    df.lastauthor.value_counts().head()\n",
    "    df.journal.value_counts().head()\n",
    "    df.pubtype.astype(str).value_counts().head()\n",
    "    df[df.abstract.str.contains('case-control')].head()\n",
    "    df.pubdate = pd.to_datetime(df.pubdate)\n",
    "    df.index = df.pubdate\n",
    "    df.groupby(df.pubdate.map(lambda x: x.year)).pmid.count().plot(kind='bar')"
   ]
  },
  {
   "cell_type": "code",
   "execution_count": 182,
   "metadata": {
    "collapsed": false
   },
   "outputs": [],
   "source": [
    "terms = ['idiopathic pulmonary fibrosis', 'cryptogenic fibrosing alveolitis',\n",
    "        'usual interstitial pneumonia', 'asbestosis']\n",
    "\n",
    "def litsearch_terms(terms):\n",
    "    for term in terms:\n",
    "        summaries, pubtypes, abstracts, keywords, rcrs = lit_search(term)\n",
    "        df = make_result_dataframe( term, summaries, pubtypes, abstracts, keywords, rcrs )\n",
    "        save_results_as_csv(term, df)\n",
    "        print(explore_result_dataframe(df))"
   ]
  },
  {
   "cell_type": "code",
   "execution_count": 183,
   "metadata": {
    "collapsed": false
   },
   "outputs": [],
   "source": [
    "topic_collection = {\"ipfjes_case_control_studies\" : ['23022860', '10968375', '24413348', '19782552', '17628464', \n",
    "                                                     '10841131', '8569361', '8087336', '15640309', '9571528', \n",
    "                                                     '18507288', '23022860', '2249047'], \n",
    "                    \"ipfjes_reviews\" : ['25621562', '24348069', '10193340', '11816818', '15331187', '16733403']}\n",
    "\n",
    "\n",
    "def litsearch_topics(topic_collection):\n",
    "    for topic in topic_collection:\n",
    "        print('begining topic {0} analaysis'.format(topic))\n",
    "        summaries, pubtypes, abstracts, keywords, rcrs, citing = lit_search_for_topic(topic_collection[topic])\n",
    "        df = make_result_dataframe_for_topic( topic_collection[topic], summaries, pubtypes, abstracts, keywords, rcrs, citing )\n",
    "        save_results_as_csv(topic, df)\n",
    "        print('csv of topic {0} saved'.format(topic))"
   ]
  },
  {
   "cell_type": "code",
   "execution_count": 46,
   "metadata": {
    "collapsed": false
   },
   "outputs": [],
   "source": [
    "#litsearch_terms(terms)"
   ]
  },
  {
   "cell_type": "code",
   "execution_count": 47,
   "metadata": {
    "collapsed": false
   },
   "outputs": [],
   "source": [
    "df = pd.read_csv('idiopathic-pulmonary-fibrosis.csv', usecols=['pmid','title','firstauthor','lastauthor',\n",
    "                                                             'journal','pubdate','pubtype',\n",
    "                                                             'abstract', 'keywords', 'rcr'])"
   ]
  },
  {
   "cell_type": "code",
   "execution_count": 48,
   "metadata": {
    "collapsed": false
   },
   "outputs": [
    {
     "name": "stdout",
     "output_type": "stream",
     "text": [
      "Number of pubmed IPF papers per year\n"
     ]
    },
    {
     "data": {
      "image/png": "[encoded data removed]",
      "text/plain": [
       "<matplotlib.figure.Figure at 0x7f2614c7a160>"
      ]
     },
     "metadata": {},
     "output_type": "display_data"
    }
   ],
   "source": [
    "print ('Number of pubmed IPF papers per year')\n",
    "explore_result_dataframe(df)"
   ]
  },
  {
   "cell_type": "code",
   "execution_count": 49,
   "metadata": {
    "collapsed": false
   },
   "outputs": [
    {
     "name": "stdout",
     "output_type": "stream",
     "text": [
      "Top 5 first authors for IPF\n"
     ]
    },
    {
     "data": {
      "text/plain": [
       "Raghu G        44\n",
       "Cottin V       42\n",
       "Selman M       27\n",
       "Behr J         27\n",
       "Antoniou KM    24\n",
       "Name: firstauthor, dtype: int64"
      ]
     },
     "execution_count": 49,
     "metadata": {},
     "output_type": "execute_result"
    }
   ],
   "source": [
    "print ('Top 5 first authors for IPF')\n",
    "df.firstauthor.value_counts().head()\n"
   ]
  },
  {
   "cell_type": "code",
   "execution_count": 50,
   "metadata": {
    "collapsed": false
   },
   "outputs": [
    {
     "name": "stdout",
     "output_type": "stream",
     "text": [
      "Top 5 last authors for IPF\n"
     ]
    },
    {
     "data": {
      "text/plain": [
       "Collard HR    46\n",
       "Wells AU      43\n",
       "Bouros D      42\n",
       "Raghu G       41\n",
       "Crystal RG    39\n",
       "Name: lastauthor, dtype: int64"
      ]
     },
     "execution_count": 50,
     "metadata": {},
     "output_type": "execute_result"
    }
   ],
   "source": [
    "print ('Top 5 last authors for IPF')\n",
    "df.lastauthor.value_counts().head()\n"
   ]
  },
  {
   "cell_type": "code",
   "execution_count": 51,
   "metadata": {
    "collapsed": false
   },
   "outputs": [
    {
     "name": "stdout",
     "output_type": "stream",
     "text": [
      "Top 5 journals for IPF\n"
     ]
    },
    {
     "data": {
      "text/plain": [
       "Am J Respir Crit Care Med    397\n",
       "Chest                        273\n",
       "Eur Respir J                 268\n",
       "Respir Med                   158\n",
       "Thorax                       144\n",
       "Name: journal, dtype: int64"
      ]
     },
     "execution_count": 51,
     "metadata": {},
     "output_type": "execute_result"
    }
   ],
   "source": [
    "print ('Top 5 journals for IPF')\n",
    "df.journal.value_counts().head()\n"
   ]
  },
  {
   "cell_type": "code",
   "execution_count": 52,
   "metadata": {
    "collapsed": false
   },
   "outputs": [
    {
     "data": {
      "text/html": [
       "<div>\n",
       "<table border=\"1\" class=\"dataframe\">\n",
       "  <thead>\n",
       "    <tr style=\"text-align: right;\">\n",
       "      <th></th>\n",
       "      <th>pmid</th>\n",
       "      <th>title</th>\n",
       "      <th>firstauthor</th>\n",
       "      <th>lastauthor</th>\n",
       "      <th>journal</th>\n",
       "      <th>pubdate</th>\n",
       "      <th>pubtype</th>\n",
       "      <th>abstract</th>\n",
       "      <th>keywords</th>\n",
       "      <th>rcr</th>\n",
       "    </tr>\n",
       "    <tr>\n",
       "      <th>pubdate</th>\n",
       "      <th></th>\n",
       "      <th></th>\n",
       "      <th></th>\n",
       "      <th></th>\n",
       "      <th></th>\n",
       "      <th></th>\n",
       "      <th></th>\n",
       "      <th></th>\n",
       "      <th></th>\n",
       "      <th></th>\n",
       "    </tr>\n",
       "  </thead>\n",
       "  <tbody>\n",
       "    <tr>\n",
       "      <th>2011-03-15</th>\n",
       "      <td>21471066</td>\n",
       "      <td>An official ATS/ERS/JRS/ALAT statement: idiopathic pulmonary fibrosis: evidence-based guidelines for diagnosis and management.</td>\n",
       "      <td>Raghu G</td>\n",
       "      <td>Schünemann HJ</td>\n",
       "      <td>Am J Respir Crit Care Med</td>\n",
       "      <td>2011-03-15</td>\n",
       "      <td>['Journal Article', 'Practice Guideline', \"Research Support, Non-U.S. Gov't\"]</td>\n",
       "      <td>This document is an international evidence-based guideline on the diagnosis and management of idiopathic pulmonary fibrosis, and is a collaborative effort of the American Thoracic Society, the European Respiratory Society, the Japanese Respiratory Society, and the Latin American Thoracic Associa...</td>\n",
       "      <td>['Europe', '*Evidence-Based Medicine', 'Humans', 'Idiopathic Pulmonary Fibrosis/*diagnosis/*therapy', 'International Cooperation', 'Japan', 'Latin America', 'Societies, Medical', 'United States']</td>\n",
       "      <td>102.409113</td>\n",
       "    </tr>\n",
       "    <tr>\n",
       "      <th>2014-05-29</th>\n",
       "      <td>24836310</td>\n",
       "      <td>Efficacy and safety of nintedanib in idiopathic pulmonary fibrosis.</td>\n",
       "      <td>Richeldi L</td>\n",
       "      <td>Collard HR</td>\n",
       "      <td>N Engl J Med</td>\n",
       "      <td>2014-05-29</td>\n",
       "      <td>['Clinical Trial, Phase III', 'Journal Article', 'Multicenter Study', 'Randomized Controlled Trial', \"Research Support, Non-U.S. Gov't\"]</td>\n",
       "      <td>BACKGROUND: Nintedanib (formerly known as BIBF 1120) is an intracellular inhibitor that targets multiple tyrosine kinases. A phase 2 trial suggested that treatment with 150 mg of nintedanib twice daily reduced lung-function decline and acute exacerbations in patients with idiopathic pulmonary fi...</td>\n",
       "      <td>['Aged', 'Disease Progression', 'Double-Blind Method', 'Enzyme Inhibitors/*administration &amp; dosage/adverse effects', 'Female', 'Humans', 'Idiopathic Pulmonary Fibrosis/*drug therapy/physiopathology', 'Indoles/*administration &amp; dosage/adverse effects', 'Male', 'Middle Aged', 'Protein Kinase Inhib...</td>\n",
       "      <td>62.965059</td>\n",
       "    </tr>\n",
       "    <tr>\n",
       "      <th>2014-05-29</th>\n",
       "      <td>24836310</td>\n",
       "      <td>Efficacy and safety of nintedanib in idiopathic pulmonary fibrosis.</td>\n",
       "      <td>Richeldi L</td>\n",
       "      <td>Collard HR</td>\n",
       "      <td>N Engl J Med</td>\n",
       "      <td>2014-05-29</td>\n",
       "      <td>['Clinical Trial, Phase III', 'Journal Article', 'Multicenter Study', 'Randomized Controlled Trial', \"Research Support, Non-U.S. Gov't\"]</td>\n",
       "      <td>BACKGROUND: Nintedanib (formerly known as BIBF 1120) is an intracellular inhibitor that targets multiple tyrosine kinases. A phase 2 trial suggested that treatment with 150 mg of nintedanib twice daily reduced lung-function decline and acute exacerbations in patients with idiopathic pulmonary fi...</td>\n",
       "      <td>['Aged', 'Disease Progression', 'Double-Blind Method', 'Enzyme Inhibitors/*administration &amp; dosage/adverse effects', 'Female', 'Humans', 'Idiopathic Pulmonary Fibrosis/*drug therapy/physiopathology', 'Indoles/*administration &amp; dosage/adverse effects', 'Male', 'Middle Aged', 'Protein Kinase Inhib...</td>\n",
       "      <td>62.965059</td>\n",
       "    </tr>\n",
       "    <tr>\n",
       "      <th>2008-01-01</th>\n",
       "      <td>18161745</td>\n",
       "      <td>Cellular and molecular mechanisms of fibrosis.</td>\n",
       "      <td>Wynn TA</td>\n",
       "      <td>Wynn TA</td>\n",
       "      <td>J Pathol</td>\n",
       "      <td>2008-01-01</td>\n",
       "      <td>['Journal Article', 'Research Support, N.I.H., Intramural', 'Review']</td>\n",
       "      <td>Fibrosis is defined by the overgrowth, hardening, and/or scarring of various tissues and is attributed to excess deposition of extracellular matrix components including collagen. Fibrosis is the end result of chronic inflammatory reactions induced by a variety of stimuli including persistent inf...</td>\n",
       "      <td>['Angiotensin II/physiology', 'Chemokines/immunology', 'Chemotaxis/immunology', 'Cytokines/immunology', 'Disease Progression', 'Fibroblasts/pathology', 'Fibrosis/*immunology/pathology', 'Humans', 'Immunity, Innate', 'Interleukins/immunology', 'Th1 Cells/immunology', 'Th2 Cells/immunology', 'Tran...</td>\n",
       "      <td>53.192960</td>\n",
       "    </tr>\n",
       "    <tr>\n",
       "      <th>2013-09-15</th>\n",
       "      <td>24032382</td>\n",
       "      <td>An official American Thoracic Society/European Respiratory Society statement: Update of the international multidisciplinary classification of the idiopathic interstitial pneumonias.</td>\n",
       "      <td>Travis WD</td>\n",
       "      <td>Valeyre D</td>\n",
       "      <td>Am J Respir Crit Care Med</td>\n",
       "      <td>2013-09-15</td>\n",
       "      <td>['Journal Article', 'Practice Guideline', \"Research Support, Non-U.S. Gov't\"]</td>\n",
       "      <td>BACKGROUND: In 2002 the American Thoracic Society/European Respiratory Society (ATS/ERS) classification of idiopathic interstitial pneumonias (IIPs) defined seven specific entities, and provided standardized terminology and diagnostic criteria. In addition, the historical \"gold standard\" of hist...</td>\n",
       "      <td>['Diagnosis, Differential', 'Europe', 'Humans', 'Idiopathic Interstitial Pneumonias/*classification/*diagnosis', 'Societies, Medical', 'United States']</td>\n",
       "      <td>51.915389</td>\n",
       "    </tr>\n",
       "  </tbody>\n",
       "</table>\n",
       "</div>"
      ],
      "text/plain": [
       "                pmid  \\\n",
       "pubdate                \n",
       "2011-03-15  21471066   \n",
       "2014-05-29  24836310   \n",
       "2014-05-29  24836310   \n",
       "2008-01-01  18161745   \n",
       "2013-09-15  24032382   \n",
       "\n",
       "                                                                                                                                                                                            title  \\\n",
       "pubdate                                                                                                                                                                                             \n",
       "2011-03-15                                                         An official ATS/ERS/JRS/ALAT statement: idiopathic pulmonary fibrosis: evidence-based guidelines for diagnosis and management.   \n",
       "2014-05-29                                                                                                                    Efficacy and safety of nintedanib in idiopathic pulmonary fibrosis.   \n",
       "2014-05-29                                                                                                                    Efficacy and safety of nintedanib in idiopathic pulmonary fibrosis.   \n",
       "2008-01-01                                                                                                                                         Cellular and molecular mechanisms of fibrosis.   \n",
       "2013-09-15  An official American Thoracic Society/European Respiratory Society statement: Update of the international multidisciplinary classification of the idiopathic interstitial pneumonias.   \n",
       "\n",
       "           firstauthor     lastauthor                    journal    pubdate  \\\n",
       "pubdate                                                                       \n",
       "2011-03-15     Raghu G  Schünemann HJ  Am J Respir Crit Care Med 2011-03-15   \n",
       "2014-05-29  Richeldi L     Collard HR               N Engl J Med 2014-05-29   \n",
       "2014-05-29  Richeldi L     Collard HR               N Engl J Med 2014-05-29   \n",
       "2008-01-01     Wynn TA        Wynn TA                   J Pathol 2008-01-01   \n",
       "2013-09-15   Travis WD      Valeyre D  Am J Respir Crit Care Med 2013-09-15   \n",
       "\n",
       "                                                                                                                                             pubtype  \\\n",
       "pubdate                                                                                                                                                \n",
       "2011-03-15                                                             ['Journal Article', 'Practice Guideline', \"Research Support, Non-U.S. Gov't\"]   \n",
       "2014-05-29  ['Clinical Trial, Phase III', 'Journal Article', 'Multicenter Study', 'Randomized Controlled Trial', \"Research Support, Non-U.S. Gov't\"]   \n",
       "2014-05-29  ['Clinical Trial, Phase III', 'Journal Article', 'Multicenter Study', 'Randomized Controlled Trial', \"Research Support, Non-U.S. Gov't\"]   \n",
       "2008-01-01                                                                     ['Journal Article', 'Research Support, N.I.H., Intramural', 'Review']   \n",
       "2013-09-15                                                             ['Journal Article', 'Practice Guideline', \"Research Support, Non-U.S. Gov't\"]   \n",
       "\n",
       "                                                                                                                                                                                                                                                                                                               abstract  \\\n",
       "pubdate                                                                                                                                                                                                                                                                                                                   \n",
       "2011-03-15  This document is an international evidence-based guideline on the diagnosis and management of idiopathic pulmonary fibrosis, and is a collaborative effort of the American Thoracic Society, the European Respiratory Society, the Japanese Respiratory Society, and the Latin American Thoracic Associa...   \n",
       "2014-05-29  BACKGROUND: Nintedanib (formerly known as BIBF 1120) is an intracellular inhibitor that targets multiple tyrosine kinases. A phase 2 trial suggested that treatment with 150 mg of nintedanib twice daily reduced lung-function decline and acute exacerbations in patients with idiopathic pulmonary fi...   \n",
       "2014-05-29  BACKGROUND: Nintedanib (formerly known as BIBF 1120) is an intracellular inhibitor that targets multiple tyrosine kinases. A phase 2 trial suggested that treatment with 150 mg of nintedanib twice daily reduced lung-function decline and acute exacerbations in patients with idiopathic pulmonary fi...   \n",
       "2008-01-01  Fibrosis is defined by the overgrowth, hardening, and/or scarring of various tissues and is attributed to excess deposition of extracellular matrix components including collagen. Fibrosis is the end result of chronic inflammatory reactions induced by a variety of stimuli including persistent inf...   \n",
       "2013-09-15  BACKGROUND: In 2002 the American Thoracic Society/European Respiratory Society (ATS/ERS) classification of idiopathic interstitial pneumonias (IIPs) defined seven specific entities, and provided standardized terminology and diagnostic criteria. In addition, the historical \"gold standard\" of hist...   \n",
       "\n",
       "                                                                                                                                                                                                                                                                                                               keywords  \\\n",
       "pubdate                                                                                                                                                                                                                                                                                                                   \n",
       "2011-03-15                                                                                                          ['Europe', '*Evidence-Based Medicine', 'Humans', 'Idiopathic Pulmonary Fibrosis/*diagnosis/*therapy', 'International Cooperation', 'Japan', 'Latin America', 'Societies, Medical', 'United States']   \n",
       "2014-05-29  ['Aged', 'Disease Progression', 'Double-Blind Method', 'Enzyme Inhibitors/*administration & dosage/adverse effects', 'Female', 'Humans', 'Idiopathic Pulmonary Fibrosis/*drug therapy/physiopathology', 'Indoles/*administration & dosage/adverse effects', 'Male', 'Middle Aged', 'Protein Kinase Inhib...   \n",
       "2014-05-29  ['Aged', 'Disease Progression', 'Double-Blind Method', 'Enzyme Inhibitors/*administration & dosage/adverse effects', 'Female', 'Humans', 'Idiopathic Pulmonary Fibrosis/*drug therapy/physiopathology', 'Indoles/*administration & dosage/adverse effects', 'Male', 'Middle Aged', 'Protein Kinase Inhib...   \n",
       "2008-01-01  ['Angiotensin II/physiology', 'Chemokines/immunology', 'Chemotaxis/immunology', 'Cytokines/immunology', 'Disease Progression', 'Fibroblasts/pathology', 'Fibrosis/*immunology/pathology', 'Humans', 'Immunity, Innate', 'Interleukins/immunology', 'Th1 Cells/immunology', 'Th2 Cells/immunology', 'Tran...   \n",
       "2013-09-15                                                                                                                                                      ['Diagnosis, Differential', 'Europe', 'Humans', 'Idiopathic Interstitial Pneumonias/*classification/*diagnosis', 'Societies, Medical', 'United States']   \n",
       "\n",
       "                   rcr  \n",
       "pubdate                 \n",
       "2011-03-15  102.409113  \n",
       "2014-05-29   62.965059  \n",
       "2014-05-29   62.965059  \n",
       "2008-01-01   53.192960  \n",
       "2013-09-15   51.915389  "
      ]
     },
     "execution_count": 52,
     "metadata": {},
     "output_type": "execute_result"
    }
   ],
   "source": [
    "df.sort_values(by='rcr', ascending=False).head()\n"
   ]
  },
  {
   "cell_type": "code",
   "execution_count": 186,
   "metadata": {
    "collapsed": false
   },
   "outputs": [
    {
     "name": "stdout",
     "output_type": "stream",
     "text": [
      "begining topic ipfjes_reviews analaysis\n",
      "csv of topic ipfjes_reviews saved\n",
      "begining topic ipfjes_case_control_studies analaysis\n",
      "csv of topic ipfjes_case_control_studies saved\n"
     ]
    },
    {
     "data": {
      "text/html": [
       "<div>\n",
       "<table border=\"1\" class=\"dataframe\">\n",
       "  <thead>\n",
       "    <tr style=\"text-align: right;\">\n",
       "      <th></th>\n",
       "      <th>title</th>\n",
       "      <th>firstauthor</th>\n",
       "      <th>lastauthor</th>\n",
       "      <th>pubtype</th>\n",
       "      <th>keywords</th>\n",
       "      <th>citedby</th>\n",
       "    </tr>\n",
       "    <tr>\n",
       "      <th>pubdate</th>\n",
       "      <th></th>\n",
       "      <th></th>\n",
       "      <th></th>\n",
       "      <th></th>\n",
       "      <th></th>\n",
       "      <th></th>\n",
       "    </tr>\n",
       "  </thead>\n",
       "  <tbody>\n",
       "    <tr>\n",
       "      <th>1990</th>\n",
       "      <td>What causes cryptogenic fibrosing alveolitis? A case-control study of environmental exposure to dust.</td>\n",
       "      <td>Scott J</td>\n",
       "      <td>Britton J</td>\n",
       "      <td>['Journal Article']</td>\n",
       "      <td>['Aged', 'Case-Control Studies', 'Confidence Intervals', '*Dust', '*Environmental Exposure', 'Female', 'Humans', 'Male', 'Metals', 'Occupational Exposure', 'Odds Ratio', 'Pulmonary Fibrosis/*etiology', 'Surveys and Questionnaires', 'Wood']</td>\n",
       "      <td>['26443305', '25984423', '25621562', '25478169', '24413348', '24348069', '23322915', '22787370', '21668038', '19740254', '19542480', '14760762', '11923553', '11083888', '11009575', '11006787', '10992540', '10943637', '10906025', '10193340', '8882078', '8553293', '2043787', '1494772']</td>\n",
       "    </tr>\n",
       "    <tr>\n",
       "      <th>1994</th>\n",
       "      <td>Idiopathic pulmonary fibrosis. Epidemiologic approaches to occupational exposure.</td>\n",
       "      <td>Iwai K</td>\n",
       "      <td>Hosoda Y</td>\n",
       "      <td>['Comparative Study', 'Journal Article', \"Research Support, Non-U.S. Gov't\"]</td>\n",
       "      <td>['Adolescent', 'Adult', 'Age Distribution', 'Aged', 'Aged, 80 and over', 'Autopsy/statistics &amp; numerical data', 'Case-Control Studies', 'Chi-Square Distribution', 'Dust/adverse effects', 'Epidemiologic Methods', 'Female', 'Humans', 'Incidence', 'Japan/epidemiology', 'Logistic Models', 'Male', 'M...</td>\n",
       "      <td>['26934369', '26881370', '26779535', '25984423', '25846532', '25621562', '25478169', '25343109', '24746629', '24413348', '24348069', '23692170', '23513242', '22448329', '21668038', '20070197', '19740254', '19542480', '19129758', '18855988', '16738191', '15340372', '15262886', '14595745', '119235...</td>\n",
       "    </tr>\n",
       "    <tr>\n",
       "      <th>1996</th>\n",
       "      <td>Occupational exposure to metal or wood dust and aetiology of cryptogenic fibrosing alveolitis.</td>\n",
       "      <td>Hubbard R</td>\n",
       "      <td>Britton J</td>\n",
       "      <td>['Journal Article']</td>\n",
       "      <td>['Autoantibodies/blood', 'Case-Control Studies', 'Dust/*adverse effects', 'Female', 'Humans', 'Male', '*Metallurgy', 'Occupational Diseases/*etiology/immunology', '*Occupational Exposure', 'Odds Ratio', 'Pulmonary Fibrosis/*etiology/immunology', 'Surveys and Questionnaires', '*Wood']</td>\n",
       "      <td>['27266705', '26934369', '26594173', '26511746', '26331942', '25797422', '25621562', '25524739', '25343109', '25121989', '25022318', '24746629', '24413348', '24348069', '23322915', '23153608', '22787370', '22448328', '21668038', '20070197', '19542480', '17999627', '16891438', '16844727', '153403...</td>\n",
       "    </tr>\n",
       "    <tr>\n",
       "      <th>1998</th>\n",
       "      <td>Case-control study of idiopathic pulmonary fibrosis and environmental exposures.</td>\n",
       "      <td>Mullen J</td>\n",
       "      <td>Godar T</td>\n",
       "      <td>['Comparative Study', 'Journal Article']</td>\n",
       "      <td>['Aged', 'Case-Control Studies', 'Connecticut/epidemiology', 'Dust/*adverse effects', 'Environmental Exposure/*adverse effects', 'Female', 'Humans', 'Male', 'Pulmonary Fibrosis/*epidemiology/etiology']</td>\n",
       "      <td>['24348069', '21668038', '19542480']</td>\n",
       "    </tr>\n",
       "    <tr>\n",
       "      <th>2000</th>\n",
       "      <td>Risk of cryptogenic fibrosing alveolitis in metal workers.</td>\n",
       "      <td>Hubbard R</td>\n",
       "      <td>Britton J</td>\n",
       "      <td>['Letter', \"Research Support, Non-U.S. Gov't\"]</td>\n",
       "      <td>['Aged', 'Death Certificates', 'Female', 'Humans', 'Male', 'Metals', 'Occupational Diseases/*mortality', 'Pulmonary Fibrosis/*mortality', 'Risk', 'United Kingdom/epidemiology']</td>\n",
       "      <td>['27266705', '26511746', '25927611', '25621562', '24348069', '23166540', '23153608', '15340372']</td>\n",
       "    </tr>\n",
       "    <tr>\n",
       "      <th>2000</th>\n",
       "      <td>Occupational and environmental risk factors for idiopathic pulmonary fibrosis: a multicenter case-control study. Collaborating Centers.</td>\n",
       "      <td>Baumgartner KB</td>\n",
       "      <td>Waldron JA</td>\n",
       "      <td>['Journal Article', 'Multicenter Study', \"Research Support, U.S. Gov't, P.H.S.\"]</td>\n",
       "      <td>['Adult', 'Aged', 'Agriculture', 'Case-Control Studies', 'Dust', '*Environmental Exposure', 'Female', 'Humans', 'Male', 'Middle Aged', 'Multivariate Analysis', '*Occupational Exposure', 'Occupations', 'Pulmonary Fibrosis/*etiology', 'Risk Assessment', 'Smoking/adverse effects']</td>\n",
       "      <td>['27266705', '26893575', '26761627', '25933009', '25927611', '25621562', '25208940', '25022318', '24901704', '24413348', '24348069', '24015331', '23716070', '23153608', '22917154', '22448328', '22429962', '22268124', '22029812', '21850202', '21743030', '21668038', '20070197', '19740254', '195906...</td>\n",
       "    </tr>\n",
       "    <tr>\n",
       "      <th>2005</th>\n",
       "      <td>Occupational and environmental factors and idiopathic pulmonary fibrosis in Japan.</td>\n",
       "      <td>Miyake Y</td>\n",
       "      <td>Tanaka H</td>\n",
       "      <td>['Journal Article', 'Multicenter Study', \"Research Support, Non-U.S. Gov't\"]</td>\n",
       "      <td>['Adult', 'Aged', 'Case-Control Studies', 'Dust', 'Female', 'Humans', 'Male', 'Metals/adverse effects', 'Middle Aged', 'Occupational Diseases/*etiology', 'Odds Ratio', 'Pulmonary Fibrosis/*etiology', 'Regression Analysis', 'Risk Factors', 'Smoking/adverse effects']</td>\n",
       "      <td>['27266705', '26934369', '26893575', '24746629', '24413348', '24348069', '24285090', '21799956', '21668038', '19542480']</td>\n",
       "    </tr>\n",
       "    <tr>\n",
       "      <th>2007</th>\n",
       "      <td>Occupational exposure and severe pulmonary fibrosis.</td>\n",
       "      <td>Gustafson T</td>\n",
       "      <td>Torén K</td>\n",
       "      <td>['Journal Article', 'Multicenter Study']</td>\n",
       "      <td>['Case-Control Studies', '*Dust/analysis', 'Female', 'Humans', 'Male', 'Metals/*adverse effects', 'Occupational Diseases/epidemiology/*etiology', 'Occupational Exposure/*adverse effects/statistics &amp; numerical data', 'Pulmonary Fibrosis/epidemiology/*etiology', 'Risk Factors', 'Sex Factors', 'Swe...</td>\n",
       "      <td>['25927611', '25621562', '24413348', '24348069', '23153608', '21668038']</td>\n",
       "    </tr>\n",
       "    <tr>\n",
       "      <th>2008</th>\n",
       "      <td>Occupational risks for idiopathic pulmonary fibrosis mortality in the United States.</td>\n",
       "      <td>Pinheiro GA</td>\n",
       "      <td>Wassell JT</td>\n",
       "      <td>['Journal Article']</td>\n",
       "      <td>['Adolescent', 'Adult', 'Aged', 'Aged, 80 and over', 'Dust', 'Female', 'Humans', 'Industry', 'Male', 'Metals', 'Middle Aged', '*Occupational Exposure', 'Pulmonary Fibrosis/*mortality', 'Risk Factors', 'United States/epidemiology', 'Wood']</td>\n",
       "      <td>['28096793', '27175674', '25927611', '25658684', '25451236', '24754826', '24348069', '21668038']</td>\n",
       "    </tr>\n",
       "    <tr>\n",
       "      <th>2010</th>\n",
       "      <td>Risk factors for idiopathic pulmonary fibrosis in a Mexican population. A case-control study.</td>\n",
       "      <td>García-Sancho Figueroa MC</td>\n",
       "      <td>Selman M</td>\n",
       "      <td>['Journal Article', \"Research Support, Non-U.S. Gov't\"]</td>\n",
       "      <td>['Carcinoma, Squamous Cell/*complications', 'Case-Control Studies', 'Diabetes Mellitus, Type 2/*complications', 'Female', 'Humans', 'Idiopathic Pulmonary Fibrosis/*etiology', 'Lung Neoplasms/*complications', 'Male', 'Mexico', 'Middle Aged', 'Prognosis', 'Retrospective Studies', 'Risk Factors', '...</td>\n",
       "      <td>['24746870', '24559482', '24413348', '23640463', '22787370', '22449190', '22079513', '21668038', '20822991']</td>\n",
       "    </tr>\n",
       "    <tr>\n",
       "      <th>2012</th>\n",
       "      <td>Occupational and environmental risk factors for idiopathic pulmonary fibrosis in Egypt: a multicenter case-control study.</td>\n",
       "      <td>Awadalla NJ</td>\n",
       "      <td>Wahby I</td>\n",
       "      <td>['Journal Article', 'Multicenter Study']</td>\n",
       "      <td>['Adult', \"Agricultural Workers' Diseases/epidemiology\", 'Case-Control Studies', 'Egypt/epidemiology', 'Female', 'Humans', 'Idiopathic Pulmonary Fibrosis/*epidemiology', 'Male', 'Middle Aged', 'Occupational Exposure', 'Risk Factors', 'Wood']</td>\n",
       "      <td>['26761627', '26741177', '25621562', '24746629', '24413348', '24348069']</td>\n",
       "    </tr>\n",
       "    <tr>\n",
       "      <th>2012</th>\n",
       "      <td>Occupational and environmental risk factors for idiopathic pulmonary fibrosis in Egypt: a multicenter case-control study.</td>\n",
       "      <td>Awadalla NJ</td>\n",
       "      <td>Wahby I</td>\n",
       "      <td>['Journal Article', 'Multicenter Study']</td>\n",
       "      <td>['Adult', \"Agricultural Workers' Diseases/epidemiology\", 'Case-Control Studies', 'Egypt/epidemiology', 'Female', 'Humans', 'Idiopathic Pulmonary Fibrosis/*epidemiology', 'Male', 'Middle Aged', 'Occupational Exposure', 'Risk Factors', 'Wood']</td>\n",
       "      <td>['26761627', '26741177', '25621562', '24746629', '24413348', '24348069']</td>\n",
       "    </tr>\n",
       "    <tr>\n",
       "      <th>2014</th>\n",
       "      <td>Effects of smoking, gender and occupational exposure on the risk of severe pulmonary fibrosis: a population-based case-control study.</td>\n",
       "      <td>Ekström M</td>\n",
       "      <td>Torén K</td>\n",
       "      <td>['Journal Article', \"Research Support, Non-U.S. Gov't\"]</td>\n",
       "      <td>['Aged', 'Case-Control Studies', 'Female', 'Humans', 'Male', 'Middle Aged', 'Occupational Exposure/*adverse effects', 'Pulmonary Fibrosis/*etiology', 'Risk Factors', 'Severity of Illness Index', 'Sex Factors', 'Smoking/*adverse effects']</td>\n",
       "      <td>['26285574', '25621562', '25121989', '24847384']</td>\n",
       "    </tr>\n",
       "  </tbody>\n",
       "</table>\n",
       "</div>"
      ],
      "text/plain": [
       "                                                                                                                                           title  \\\n",
       "pubdate                                                                                                                                            \n",
       "1990                                       What causes cryptogenic fibrosing alveolitis? A case-control study of environmental exposure to dust.   \n",
       "1994                                                           Idiopathic pulmonary fibrosis. Epidemiologic approaches to occupational exposure.   \n",
       "1996                                              Occupational exposure to metal or wood dust and aetiology of cryptogenic fibrosing alveolitis.   \n",
       "1998                                                            Case-control study of idiopathic pulmonary fibrosis and environmental exposures.   \n",
       "2000                                                                                  Risk of cryptogenic fibrosing alveolitis in metal workers.   \n",
       "2000     Occupational and environmental risk factors for idiopathic pulmonary fibrosis: a multicenter case-control study. Collaborating Centers.   \n",
       "2005                                                          Occupational and environmental factors and idiopathic pulmonary fibrosis in Japan.   \n",
       "2007                                                                                        Occupational exposure and severe pulmonary fibrosis.   \n",
       "2008                                                        Occupational risks for idiopathic pulmonary fibrosis mortality in the United States.   \n",
       "2010                                               Risk factors for idiopathic pulmonary fibrosis in a Mexican population. A case-control study.   \n",
       "2012                   Occupational and environmental risk factors for idiopathic pulmonary fibrosis in Egypt: a multicenter case-control study.   \n",
       "2012                   Occupational and environmental risk factors for idiopathic pulmonary fibrosis in Egypt: a multicenter case-control study.   \n",
       "2014       Effects of smoking, gender and occupational exposure on the risk of severe pulmonary fibrosis: a population-based case-control study.   \n",
       "\n",
       "                       firstauthor  lastauthor  \\\n",
       "pubdate                                          \n",
       "1990                       Scott J   Britton J   \n",
       "1994                        Iwai K    Hosoda Y   \n",
       "1996                     Hubbard R   Britton J   \n",
       "1998                      Mullen J     Godar T   \n",
       "2000                     Hubbard R   Britton J   \n",
       "2000                Baumgartner KB  Waldron JA   \n",
       "2005                      Miyake Y    Tanaka H   \n",
       "2007                   Gustafson T     Torén K   \n",
       "2008                   Pinheiro GA  Wassell JT   \n",
       "2010     García-Sancho Figueroa MC    Selman M   \n",
       "2012                   Awadalla NJ     Wahby I   \n",
       "2012                   Awadalla NJ     Wahby I   \n",
       "2014                     Ekström M     Torén K   \n",
       "\n",
       "                                                                                  pubtype  \\\n",
       "pubdate                                                                                     \n",
       "1990                                                                  ['Journal Article']   \n",
       "1994         ['Comparative Study', 'Journal Article', \"Research Support, Non-U.S. Gov't\"]   \n",
       "1996                                                                  ['Journal Article']   \n",
       "1998                                             ['Comparative Study', 'Journal Article']   \n",
       "2000                                       ['Letter', \"Research Support, Non-U.S. Gov't\"]   \n",
       "2000     ['Journal Article', 'Multicenter Study', \"Research Support, U.S. Gov't, P.H.S.\"]   \n",
       "2005         ['Journal Article', 'Multicenter Study', \"Research Support, Non-U.S. Gov't\"]   \n",
       "2007                                             ['Journal Article', 'Multicenter Study']   \n",
       "2008                                                                  ['Journal Article']   \n",
       "2010                              ['Journal Article', \"Research Support, Non-U.S. Gov't\"]   \n",
       "2012                                             ['Journal Article', 'Multicenter Study']   \n",
       "2012                                             ['Journal Article', 'Multicenter Study']   \n",
       "2014                              ['Journal Article', \"Research Support, Non-U.S. Gov't\"]   \n",
       "\n",
       "                                                                                                                                                                                                                                                                                                            keywords  \\\n",
       "pubdate                                                                                                                                                                                                                                                                                                                \n",
       "1990                                                                 ['Aged', 'Case-Control Studies', 'Confidence Intervals', '*Dust', '*Environmental Exposure', 'Female', 'Humans', 'Male', 'Metals', 'Occupational Exposure', 'Odds Ratio', 'Pulmonary Fibrosis/*etiology', 'Surveys and Questionnaires', 'Wood']   \n",
       "1994     ['Adolescent', 'Adult', 'Age Distribution', 'Aged', 'Aged, 80 and over', 'Autopsy/statistics & numerical data', 'Case-Control Studies', 'Chi-Square Distribution', 'Dust/adverse effects', 'Epidemiologic Methods', 'Female', 'Humans', 'Incidence', 'Japan/epidemiology', 'Logistic Models', 'Male', 'M...   \n",
       "1996                    ['Autoantibodies/blood', 'Case-Control Studies', 'Dust/*adverse effects', 'Female', 'Humans', 'Male', '*Metallurgy', 'Occupational Diseases/*etiology/immunology', '*Occupational Exposure', 'Odds Ratio', 'Pulmonary Fibrosis/*etiology/immunology', 'Surveys and Questionnaires', '*Wood']   \n",
       "1998                                                                                                       ['Aged', 'Case-Control Studies', 'Connecticut/epidemiology', 'Dust/*adverse effects', 'Environmental Exposure/*adverse effects', 'Female', 'Humans', 'Male', 'Pulmonary Fibrosis/*epidemiology/etiology']   \n",
       "2000                                                                                                                                ['Aged', 'Death Certificates', 'Female', 'Humans', 'Male', 'Metals', 'Occupational Diseases/*mortality', 'Pulmonary Fibrosis/*mortality', 'Risk', 'United Kingdom/epidemiology']   \n",
       "2000                          ['Adult', 'Aged', 'Agriculture', 'Case-Control Studies', 'Dust', '*Environmental Exposure', 'Female', 'Humans', 'Male', 'Middle Aged', 'Multivariate Analysis', '*Occupational Exposure', 'Occupations', 'Pulmonary Fibrosis/*etiology', 'Risk Assessment', 'Smoking/adverse effects']   \n",
       "2005                                       ['Adult', 'Aged', 'Case-Control Studies', 'Dust', 'Female', 'Humans', 'Male', 'Metals/adverse effects', 'Middle Aged', 'Occupational Diseases/*etiology', 'Odds Ratio', 'Pulmonary Fibrosis/*etiology', 'Regression Analysis', 'Risk Factors', 'Smoking/adverse effects']   \n",
       "2007     ['Case-Control Studies', '*Dust/analysis', 'Female', 'Humans', 'Male', 'Metals/*adverse effects', 'Occupational Diseases/epidemiology/*etiology', 'Occupational Exposure/*adverse effects/statistics & numerical data', 'Pulmonary Fibrosis/epidemiology/*etiology', 'Risk Factors', 'Sex Factors', 'Swe...   \n",
       "2008                                                                  ['Adolescent', 'Adult', 'Aged', 'Aged, 80 and over', 'Dust', 'Female', 'Humans', 'Industry', 'Male', 'Metals', 'Middle Aged', '*Occupational Exposure', 'Pulmonary Fibrosis/*mortality', 'Risk Factors', 'United States/epidemiology', 'Wood']   \n",
       "2010     ['Carcinoma, Squamous Cell/*complications', 'Case-Control Studies', 'Diabetes Mellitus, Type 2/*complications', 'Female', 'Humans', 'Idiopathic Pulmonary Fibrosis/*etiology', 'Lung Neoplasms/*complications', 'Male', 'Mexico', 'Middle Aged', 'Prognosis', 'Retrospective Studies', 'Risk Factors', '...   \n",
       "2012                                                               ['Adult', \"Agricultural Workers' Diseases/epidemiology\", 'Case-Control Studies', 'Egypt/epidemiology', 'Female', 'Humans', 'Idiopathic Pulmonary Fibrosis/*epidemiology', 'Male', 'Middle Aged', 'Occupational Exposure', 'Risk Factors', 'Wood']   \n",
       "2012                                                               ['Adult', \"Agricultural Workers' Diseases/epidemiology\", 'Case-Control Studies', 'Egypt/epidemiology', 'Female', 'Humans', 'Idiopathic Pulmonary Fibrosis/*epidemiology', 'Male', 'Middle Aged', 'Occupational Exposure', 'Risk Factors', 'Wood']   \n",
       "2014                                                                   ['Aged', 'Case-Control Studies', 'Female', 'Humans', 'Male', 'Middle Aged', 'Occupational Exposure/*adverse effects', 'Pulmonary Fibrosis/*etiology', 'Risk Factors', 'Severity of Illness Index', 'Sex Factors', 'Smoking/*adverse effects']   \n",
       "\n",
       "                                                                                                                                                                                                                                                                                                             citedby  \n",
       "pubdate                                                                                                                                                                                                                                                                                                               \n",
       "1990                    ['26443305', '25984423', '25621562', '25478169', '24413348', '24348069', '23322915', '22787370', '21668038', '19740254', '19542480', '14760762', '11923553', '11083888', '11009575', '11006787', '10992540', '10943637', '10906025', '10193340', '8882078', '8553293', '2043787', '1494772']  \n",
       "1994     ['26934369', '26881370', '26779535', '25984423', '25846532', '25621562', '25478169', '25343109', '24746629', '24413348', '24348069', '23692170', '23513242', '22448329', '21668038', '20070197', '19740254', '19542480', '19129758', '18855988', '16738191', '15340372', '15262886', '14595745', '119235...  \n",
       "1996     ['27266705', '26934369', '26594173', '26511746', '26331942', '25797422', '25621562', '25524739', '25343109', '25121989', '25022318', '24746629', '24413348', '24348069', '23322915', '23153608', '22787370', '22448328', '21668038', '20070197', '19542480', '17999627', '16891438', '16844727', '153403...  \n",
       "1998                                                                                                                                                                                                                                                                            ['24348069', '21668038', '19542480']  \n",
       "2000                                                                                                                                                                                                                ['27266705', '26511746', '25927611', '25621562', '24348069', '23166540', '23153608', '15340372']  \n",
       "2000     ['27266705', '26893575', '26761627', '25933009', '25927611', '25621562', '25208940', '25022318', '24901704', '24413348', '24348069', '24015331', '23716070', '23153608', '22917154', '22448328', '22429962', '22268124', '22029812', '21850202', '21743030', '21668038', '20070197', '19740254', '195906...  \n",
       "2005                                                                                                                                                                                        ['27266705', '26934369', '26893575', '24746629', '24413348', '24348069', '24285090', '21799956', '21668038', '19542480']  \n",
       "2007                                                                                                                                                                                                                                        ['25927611', '25621562', '24413348', '24348069', '23153608', '21668038']  \n",
       "2008                                                                                                                                                                                                                ['28096793', '27175674', '25927611', '25658684', '25451236', '24754826', '24348069', '21668038']  \n",
       "2010                                                                                                                                                                                                    ['24746870', '24559482', '24413348', '23640463', '22787370', '22449190', '22079513', '21668038', '20822991']  \n",
       "2012                                                                                                                                                                                                                                        ['26761627', '26741177', '25621562', '24746629', '24413348', '24348069']  \n",
       "2012                                                                                                                                                                                                                                        ['26761627', '26741177', '25621562', '24746629', '24413348', '24348069']  \n",
       "2014                                                                                                                                                                                                                                                                ['26285574', '25621562', '25121989', '24847384']  "
      ]
     },
     "execution_count": 186,
     "metadata": {},
     "output_type": "execute_result"
    }
   ],
   "source": [
    "litsearch_topics(topic_collection)\n",
    "\n",
    "df = pd.read_csv('ipfjes_case_control_studies.csv', usecols=['pmid','title','firstauthor','lastauthor',\n",
    "                                                             'journal','pubdate','pubtype',\n",
    "                                                             'abstract', 'keywords', 'rcr', 'citedby'])\n",
    "pd.set_option('max_colwidth',300)\n",
    "\n",
    "df.pubdate = pd.to_datetime(df.pubdate)\n",
    "df.index = df.pubdate.map(lambda x: x.year)\n",
    "df = df.sort_values(by = 'pubdate', ascending=True)\n",
    "df = df[['title','firstauthor', 'lastauthor', 'pubtype', 'keywords', 'citedby']]\n",
    "df"
   ]
  },
  {
   "cell_type": "code",
   "execution_count": 188,
   "metadata": {
    "collapsed": false
   },
   "outputs": [],
   "source": [
    "df = pd.read_csv('ipfjes_case_control_studies.csv', usecols=['pmid','title','firstauthor','lastauthor',\n",
    "                                                             'journal','pubdate','pubtype',\n",
    "                                                             'abstract', 'keywords', 'rcr', 'citedby'])"
   ]
  },
  {
   "cell_type": "code",
   "execution_count": 187,
   "metadata": {
    "collapsed": true
   },
   "outputs": [],
   "source": [
    "df1 = pd.read_csv('idiopathic-pulmonary-fibrosis.csv', usecols=['pmid','title','firstauthor','lastauthor',\n",
    "                                                             'journal','pubdate','pubtype',\n",
    "                                                             'abstract', 'keywords', 'rcr', 'citedby'])"
   ]
  },
  {
   "cell_type": "code",
   "execution_count": 56,
   "metadata": {
    "collapsed": false
   },
   "outputs": [
    {
     "data": {
      "text/html": [
       "<div>\n",
       "<table border=\"1\" class=\"dataframe\">\n",
       "  <thead>\n",
       "    <tr style=\"text-align: right;\">\n",
       "      <th></th>\n",
       "      <th>pmid</th>\n",
       "      <th>title</th>\n",
       "      <th>firstauthor</th>\n",
       "      <th>lastauthor</th>\n",
       "      <th>journal</th>\n",
       "      <th>pubdate</th>\n",
       "      <th>pubtype</th>\n",
       "      <th>abstract</th>\n",
       "      <th>keywords</th>\n",
       "      <th>rcr</th>\n",
       "    </tr>\n",
       "  </thead>\n",
       "  <tbody>\n",
       "    <tr>\n",
       "      <th>4</th>\n",
       "      <td>10841131</td>\n",
       "      <td>Risk of cryptogenic fibrosing alveolitis in metal workers.</td>\n",
       "      <td>Hubbard R</td>\n",
       "      <td>Britton J</td>\n",
       "      <td>Lancet</td>\n",
       "      <td>2000/02/05 00:00</td>\n",
       "      <td>['Letter', \"Research Support, Non-U.S. Gov't\"]</td>\n",
       "      <td>We report increased proportional mortality from cryptogenic fibrosing alveolitis in the workforce of a major UK engineering company. Measures of metal exposure from unbiased historical occupational records showed that among employees who have worked with metal, the risk of death from or with cry...</td>\n",
       "      <td>['Aged', 'Death Certificates', 'Female', 'Humans', 'Male', 'Metals', 'Occupational Diseases/*mortality', 'Pulmonary Fibrosis/*mortality', 'Risk', 'United Kingdom/epidemiology']</td>\n",
       "      <td>1.124711</td>\n",
       "    </tr>\n",
       "    <tr>\n",
       "      <th>5</th>\n",
       "      <td>8569361</td>\n",
       "      <td>Occupational exposure to metal or wood dust and aetiology of cryptogenic fibrosing alveolitis.</td>\n",
       "      <td>Hubbard R</td>\n",
       "      <td>Britton J</td>\n",
       "      <td>Lancet</td>\n",
       "      <td>1996/02/03 00:00</td>\n",
       "      <td>['Journal Article']</td>\n",
       "      <td>BACKGROUND: We have previously suggested that cryptogenic fibrosing alveolitis (CFA) may be caused by occupational exposures, particularly to metal or wood dust. We have specifically investigated this hypothesis in a case-control study of patients with CFA. METHODS: We obtained lifetime occupati...</td>\n",
       "      <td>['Autoantibodies/blood', 'Case-Control Studies', 'Dust/*adverse effects', 'Female', 'Humans', 'Male', '*Metallurgy', 'Occupational Diseases/*etiology/immunology', '*Occupational Exposure', 'Odds Ratio', 'Pulmonary Fibrosis/*etiology/immunology', 'Surveys and Questionnaires', '*Wood']</td>\n",
       "      <td>5.384463</td>\n",
       "    </tr>\n",
       "    <tr>\n",
       "      <th>11</th>\n",
       "      <td>2249047</td>\n",
       "      <td>What causes cryptogenic fibrosing alveolitis? A case-control study of environmental exposure to dust.</td>\n",
       "      <td>Scott J</td>\n",
       "      <td>Britton J</td>\n",
       "      <td>BMJ</td>\n",
       "      <td>1990/11/03 00:00</td>\n",
       "      <td>['Journal Article']</td>\n",
       "      <td>OBJECTIVE: To investigate the role of occupational and domestic exposure to dust in the aetiology of cryptogenic fibrosing alveolitis. DESIGN: Matched case-control study. SUBJECTS: 40 Patients with cryptogenic fibrosing alveolitis and 106 community controls matched for age and sex who responded ...</td>\n",
       "      <td>['Aged', 'Case-Control Studies', 'Confidence Intervals', '*Dust', '*Environmental Exposure', 'Female', 'Humans', 'Male', 'Metals', 'Occupational Exposure', 'Odds Ratio', 'Pulmonary Fibrosis/*etiology', 'Surveys and Questionnaires', 'Wood']</td>\n",
       "      <td>NaN</td>\n",
       "    </tr>\n",
       "  </tbody>\n",
       "</table>\n",
       "</div>"
      ],
      "text/plain": [
       "        pmid  \\\n",
       "4   10841131   \n",
       "5    8569361   \n",
       "11   2249047   \n",
       "\n",
       "                                                                                                    title  \\\n",
       "4                                              Risk of cryptogenic fibrosing alveolitis in metal workers.   \n",
       "5          Occupational exposure to metal or wood dust and aetiology of cryptogenic fibrosing alveolitis.   \n",
       "11  What causes cryptogenic fibrosing alveolitis? A case-control study of environmental exposure to dust.   \n",
       "\n",
       "   firstauthor lastauthor journal           pubdate  \\\n",
       "4    Hubbard R  Britton J  Lancet  2000/02/05 00:00   \n",
       "5    Hubbard R  Britton J  Lancet  1996/02/03 00:00   \n",
       "11     Scott J  Britton J     BMJ  1990/11/03 00:00   \n",
       "\n",
       "                                           pubtype  \\\n",
       "4   ['Letter', \"Research Support, Non-U.S. Gov't\"]   \n",
       "5                              ['Journal Article']   \n",
       "11                             ['Journal Article']   \n",
       "\n",
       "                                                                                                                                                                                                                                                                                                       abstract  \\\n",
       "4   We report increased proportional mortality from cryptogenic fibrosing alveolitis in the workforce of a major UK engineering company. Measures of metal exposure from unbiased historical occupational records showed that among employees who have worked with metal, the risk of death from or with cry...   \n",
       "5   BACKGROUND: We have previously suggested that cryptogenic fibrosing alveolitis (CFA) may be caused by occupational exposures, particularly to metal or wood dust. We have specifically investigated this hypothesis in a case-control study of patients with CFA. METHODS: We obtained lifetime occupati...   \n",
       "11  OBJECTIVE: To investigate the role of occupational and domestic exposure to dust in the aetiology of cryptogenic fibrosing alveolitis. DESIGN: Matched case-control study. SUBJECTS: 40 Patients with cryptogenic fibrosing alveolitis and 106 community controls matched for age and sex who responded ...   \n",
       "\n",
       "                                                                                                                                                                                                                                                                                        keywords  \\\n",
       "4                                                                                                               ['Aged', 'Death Certificates', 'Female', 'Humans', 'Male', 'Metals', 'Occupational Diseases/*mortality', 'Pulmonary Fibrosis/*mortality', 'Risk', 'United Kingdom/epidemiology']   \n",
       "5   ['Autoantibodies/blood', 'Case-Control Studies', 'Dust/*adverse effects', 'Female', 'Humans', 'Male', '*Metallurgy', 'Occupational Diseases/*etiology/immunology', '*Occupational Exposure', 'Odds Ratio', 'Pulmonary Fibrosis/*etiology/immunology', 'Surveys and Questionnaires', '*Wood']   \n",
       "11                                               ['Aged', 'Case-Control Studies', 'Confidence Intervals', '*Dust', '*Environmental Exposure', 'Female', 'Humans', 'Male', 'Metals', 'Occupational Exposure', 'Odds Ratio', 'Pulmonary Fibrosis/*etiology', 'Surveys and Questionnaires', 'Wood']   \n",
       "\n",
       "         rcr  \n",
       "4   1.124711  \n",
       "5   5.384463  \n",
       "11       NaN  "
      ]
     },
     "execution_count": 56,
     "metadata": {},
     "output_type": "execute_result"
    }
   ],
   "source": [
    "# if you doi\n",
    "df[~df.pmid.isin(df1.pmid)]"
   ]
  },
  {
   "cell_type": "code",
   "execution_count": 57,
   "metadata": {
    "collapsed": false
   },
   "outputs": [
    {
     "name": "stdout",
     "output_type": "stream",
     "text": [
      "Top pubmed keywords (mesh headings) for the 12 occupational IPF case-control studies found\n"
     ]
    },
    {
     "data": {
      "text/plain": [
       "[('Male', 12),\n",
       " ('Humans', 12),\n",
       " ('Female', 12),\n",
       " ('Case-Control Studies', 10),\n",
       " ('Aged', 8),\n",
       " ('Middle Aged', 7),\n",
       " ('Risk Factors', 6),\n",
       " ('Adult', 5),\n",
       " ('Pulmonary Fibrosis/*etiology', 4),\n",
       " ('Wood', 3),\n",
       " ('Surveys and Questionnaires', 3),\n",
       " ('Odds Ratio', 3),\n",
       " ('Metals', 3),\n",
       " ('Dust', 3),\n",
       " ('*Occupational Exposure', 3),\n",
       " ('Smoking/adverse effects', 2),\n",
       " ('Smoking/*adverse effects', 2),\n",
       " ('Sex Factors', 2),\n",
       " ('Pulmonary Fibrosis/*mortality', 2),\n",
       " ('Occupational Exposure/*adverse effects/statistics & numerical data', 2),\n",
       " ('Occupational Exposure', 2),\n",
       " ('Dust/*adverse effects', 2),\n",
       " ('Aged, 80 and over', 2),\n",
       " ('Adolescent', 2),\n",
       " ('*Environmental Exposure', 2),\n",
       " ('Wood/*adverse effects', 1),\n",
       " ('United States/epidemiology', 1),\n",
       " ('United Kingdom/epidemiology', 1),\n",
       " ('Time Factors', 1),\n",
       " ('Sweden/epidemiology', 1),\n",
       " ('Sex Distribution', 1),\n",
       " ('Severity of Illness Index', 1),\n",
       " ('Risk Assessment', 1),\n",
       " ('Risk', 1),\n",
       " ('Retrospective Studies', 1),\n",
       " ('Regression Analysis', 1),\n",
       " ('Pulmonary Fibrosis/epidemiology/*etiology', 1),\n",
       " ('Pulmonary Fibrosis/*etiology/immunology', 1),\n",
       " ('Pulmonary Fibrosis/*epidemiology/etiology/pathology', 1),\n",
       " ('Pulmonary Fibrosis/*epidemiology/etiology', 1),\n",
       " ('Prognosis', 1),\n",
       " ('Occupations', 1),\n",
       " ('Occupational Exposure/*adverse effects', 1),\n",
       " ('Occupational Diseases/epidemiology/*etiology', 1),\n",
       " ('Occupational Diseases/*mortality', 1),\n",
       " ('Occupational Diseases/*etiology/immunology', 1),\n",
       " ('Occupational Diseases/*etiology', 1),\n",
       " ('Multivariate Analysis', 1),\n",
       " ('Mexico', 1),\n",
       " ('Metals/adverse effects', 1),\n",
       " ('Metals/*adverse effects', 1),\n",
       " ('Lung Neoplasms/*complications', 1),\n",
       " ('Logistic Models', 1),\n",
       " ('Japan/epidemiology', 1),\n",
       " ('Industry', 1),\n",
       " ('Incidence', 1),\n",
       " ('Idiopathic Pulmonary Fibrosis/*etiology', 1),\n",
       " ('Idiopathic Pulmonary Fibrosis/*epidemiology', 1),\n",
       " ('Epidemiologic Methods', 1),\n",
       " ('Environmental Exposure/*adverse effects', 1),\n",
       " ('Egypt/epidemiology', 1),\n",
       " ('Dust/adverse effects', 1),\n",
       " ('Diabetes Mellitus, Type 2/*complications', 1),\n",
       " ('Death Certificates', 1),\n",
       " ('Connecticut/epidemiology', 1),\n",
       " ('Confidence Intervals', 1),\n",
       " ('Chi-Square Distribution', 1),\n",
       " ('Carcinoma, Squamous Cell/*complications', 1),\n",
       " ('Autopsy/statistics & numerical data', 1),\n",
       " ('Autoantibodies/blood', 1),\n",
       " ('Agriculture', 1),\n",
       " (\"Agricultural Workers' Diseases/epidemiology\", 1),\n",
       " ('Age Distribution', 1),\n",
       " ('*Wood', 1),\n",
       " ('*Metallurgy', 1),\n",
       " ('*Dust/analysis', 1),\n",
       " ('*Dust', 1)]"
      ]
     },
     "execution_count": 57,
     "metadata": {},
     "output_type": "execute_result"
    }
   ],
   "source": [
    "keywords = get_pubmed_keywords(topic_collection['ipfjes_case_control_studies'])\n",
    "\n",
    "print ('Top pubmed keywords (mesh headings)',\n",
    "       'for the {0} occupational IPF case-control studies found'.format(len(keywords)))\n",
    "\n",
    "corpus = []\n",
    "       \n",
    "for record in keywords:\n",
    "    corpus.append(keywords[record])\n",
    "    \n",
    "corpus = [item for sublist in corpus for item in sublist]\n",
    "\n",
    "x = Counter(corpus)\n",
    "\n",
    "[(l,k) for k,l in sorted([(j,i) for i,j in x.items()], reverse=True)]"
   ]
  },
  {
   "cell_type": "code",
   "execution_count": 202,
   "metadata": {
    "collapsed": false
   },
   "outputs": [
    {
     "name": "stdout",
     "output_type": "stream",
     "text": [
      "Top citing papers (from pubmed) for the 12 occupational IPF case-control studies found\n"
     ]
    },
    {
     "data": {
      "text/plain": [
       "[('24348069', 10),\n",
       " ('21668038', 9),\n",
       " ('25621562', 8),\n",
       " ('24413348', 8),\n",
       " ('19542480', 5),\n",
       " ('27266705', 4),\n",
       " ('25927611', 4),\n",
       " ('24746629', 4),\n",
       " ('23153608', 4),\n",
       " ('15340372', 4),\n",
       " ('26934369', 3),\n",
       " ('22787370', 3),\n",
       " ('20070197', 3),\n",
       " ('19740254', 3),\n",
       " ('11923553', 3),\n",
       " ('11009575', 3),\n",
       " ('10992540', 3),\n",
       " ('10193340', 3),\n",
       " ('8882078', 2),\n",
       " ('26893575', 2),\n",
       " ('26761627', 2),\n",
       " ('26511746', 2),\n",
       " ('25984423', 2),\n",
       " ('25478169', 2),\n",
       " ('25343109', 2),\n",
       " ('25121989', 2),\n",
       " ('25022318', 2),\n",
       " ('23322915', 2),\n",
       " ('22448328', 2),\n",
       " ('19129758', 2),\n",
       " ('17999627', 2),\n",
       " ('16844727', 2),\n",
       " ('15262886', 2),\n",
       " ('14760762', 2),\n",
       " ('14595745', 2),\n",
       " ('11686865', 2),\n",
       " ('9039238', 1),\n",
       " ('8553293', 1),\n",
       " ('28096793', 1),\n",
       " ('27175674', 1),\n",
       " ('26881370', 1),\n",
       " ('26779535', 1),\n",
       " ('26741177', 1),\n",
       " ('26594173', 1),\n",
       " ('26443305', 1),\n",
       " ('26331942', 1),\n",
       " ('26285574', 1),\n",
       " ('25933009', 1),\n",
       " ('25846532', 1),\n",
       " ('25797422', 1),\n",
       " ('25658684', 1),\n",
       " ('25524739', 1),\n",
       " ('25451236', 1),\n",
       " ('25208940', 1),\n",
       " ('24901704', 1),\n",
       " ('24847384', 1),\n",
       " ('24754826', 1),\n",
       " ('24746870', 1),\n",
       " ('24559482', 1),\n",
       " ('24285090', 1),\n",
       " ('24015331', 1),\n",
       " ('23716070', 1),\n",
       " ('23692170', 1),\n",
       " ('23640463', 1),\n",
       " ('23513242', 1),\n",
       " ('23166540', 1),\n",
       " ('22917154', 1),\n",
       " ('22449190', 1),\n",
       " ('22448329', 1),\n",
       " ('22429962', 1),\n",
       " ('22268124', 1),\n",
       " ('22079513', 1),\n",
       " ('22029812', 1),\n",
       " ('21850202', 1),\n",
       " ('21799956', 1),\n",
       " ('21743030', 1),\n",
       " ('20822991', 1),\n",
       " ('2043787', 1),\n",
       " ('19590695', 1),\n",
       " ('19223434', 1),\n",
       " ('18855988', 1),\n",
       " ('18366757', 1),\n",
       " ('17897991', 1),\n",
       " ('17710235', 1),\n",
       " ('16928146', 1),\n",
       " ('16891438', 1),\n",
       " ('16738191', 1),\n",
       " ('16324212', 1),\n",
       " ('15286797', 1),\n",
       " ('1494772', 1),\n",
       " ('14508706', 1),\n",
       " ('11359966', 1),\n",
       " ('11254818', 1),\n",
       " ('11122454', 1),\n",
       " ('11083888', 1),\n",
       " ('11006787', 1),\n",
       " ('10943637', 1),\n",
       " ('10931794', 1),\n",
       " ('10906025', 1),\n",
       " ('10639533', 1)]"
      ]
     },
     "execution_count": 202,
     "metadata": {},
     "output_type": "execute_result"
    }
   ],
   "source": [
    "citing = get_citing_pmids(topic_collection['ipfjes_case_control_studies'])\n",
    "\n",
    "print ('Top citing papers (from pubmed)',\n",
    "       'for the {0} occupational IPF case-control studies found'.format(len(citing)))\n",
    "\n",
    "corpus = []\n",
    "       \n",
    "for record in citing:\n",
    "    corpus.append(citing[record])\n",
    "    \n",
    "corpus = [item for sublist in corpus for item in sublist]\n",
    "\n",
    "x = Counter(corpus)\n",
    "\n",
    "[(l,k) for k,l in sorted([(j,i) for i,j in x.items()], reverse=True)]"
   ]
  },
  {
   "cell_type": "code",
   "execution_count": null,
   "metadata": {
    "collapsed": true
   },
   "outputs": [],
   "source": []
  }
 ],
 "metadata": {
  "kernelspec": {
   "display_name": "Python 3",
   "language": "python",
   "name": "python3"
  },
  "language_info": {
   "codemirror_mode": {
    "name": "ipython",
    "version": 3
   },
   "file_extension": ".py",
   "mimetype": "text/x-python",
   "name": "python",
   "nbconvert_exporter": "python",
   "pygments_lexer": "ipython3",
   "version": "3.5.2"
  }
 },
 "nbformat": 4,
 "nbformat_minor": 2
}
