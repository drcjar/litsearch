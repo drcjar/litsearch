{
 "cells": [
  {
   "cell_type": "markdown",
   "metadata": {},
   "source": [
    "### A notebook to support academic question exploration and literature search / what do you do when you search the literature?\n",
    "\n",
    "0. Define a research question e.g Is occupational **asbestos exposure** an underecognised **cause** of IPF? \n",
    "1. Consider the different possible ways of answering the question (methods). Different study designs and ways of measuring asbestos exposure e.g Epidemiological, observational, cross-sectional, cohort, case-control, post-mortem and explant studies, ecological, toxicology, animal models, molecular disease models, exposure assessment, occupational hygeinst measurements, minerologic analysis (tissue, BAL etc)\n",
    "2. Generate search terms e.g \"IPF\", \"case-control\", \"occupational\", \"asbestos\" (? && mesh terms)\n",
    "3. Carry out search using search terms and e.g pubmed, embase, google scholar, scopus, biorxiv, web of science, clinicaltrials.gov, ?google books, prepubmed.org\n",
    "4. Search results == Candidate Papers\n",
    "5. Extract title | journal | author | location | year | abstract | key words | full text && save result (as .bib) (prob want to export to jabref) https://stackoverflow.com/questions/30768745/is-there-a-reliable-python-library-for-taking-a-bibtex-entry-and-outputting-it-i\n",
    "6. Review Candidate Papers to identify Relevant Papers \n",
    "7. Use Relevant Papers to identify more Candidate papers. Search also by author, cited by, cite, [triangle closing](https://en.wikipedia.org/wiki/Triadic_closure) e.g https://github.com/hinnefe2/bibcheck.py and other means (?tensorflow/scikit-learn,nltk), https://en.wikipedia.org/wiki/Jaccard_index, networkx?\n",
    "8. Use the Relevant Papers collected for whatever it is they are relevant for (usually to help compose a written document in which they are cited). Including exporting to a nice table for LaTeX.\n",
    "9. ?django app times\n",
    "\n",
    "general discussion of the problem: 1. http://drugmonkey.scientopia.org/2010/09/28/on-keeping-abreast-of-the-literature-a-highly-loaded-poll-question/ 2. http://www.sciencemag.org/careers/2016/11/how-keep-scientific-literature\n",
    "\n",
    "meta: github/stack exchange etc to check out other peoples search strategies. this is likely to be formulated as a machine learning problem somewhere."
   ]
  },
  {
   "cell_type": "markdown",
   "metadata": {},
   "source": [
    "#### interesting related I found includes: https://www.projectcredo.com/, http://citationexplorer.hoppmann.me/, lict from a previous nhshackday, https://github.com/jvoytek/pubmedbrain/blob/f5170a2e3540e0c2aa665559c86048dfb1583f16/documents/Voytek-brainSCANrPreprint.pdf, https://github.com/graeham/hackathon/blob/master/paperGraph.py"
   ]
  },
  {
   "cell_type": "markdown",
   "metadata": {},
   "source": [
    "### search github for relevant stuff with the following 'webbit' \n",
    "> https://github.com/search?l=Python&q=http%3A%2F%2Feutils.ncbi.nlm.nih.gov%2Fentrez%2Feutils%2Fesearch.fcgi++stars%3A%3E5&ref=advsearch&type=Code&utf8=%E2%9C%93\n",
    "\n",
    "gists and interwebs inc stackoverflow also helpful"
   ]
  },
  {
   "cell_type": "markdown",
   "metadata": {},
   "source": [
    "tempting to dive into django a la https://github.com/afouchet/OpenReview but probably not essential and now is not optimal timing"
   ]
  },
  {
   "cell_type": "markdown",
   "metadata": {},
   "source": [
    "https://github.com/gui11aume looks well documented, poss useful template\n",
    "https://github.com/swcarpentry/2013-08-23-harvard/blob/b2097bc20833e0a58b2e73eecd1227d61bd5a00a/lessons/misc-biopython/eutils.md looks like nice intro to biopython utils and https://gist.github.com/bonzanini/5a4c39e4c02502a8451d, https://gist.github.com/ehazlett/1104507, https://gist.github.com/vtrubets/ef1dabb397ea6a05ce5b4e767ed15af9 (for use of icite), https://gist.github.com/mcfrank/c1ec74df1427278cbe53, http://stackoverflow.com/questions/17409107/obtaining-data-from-pubmed-using-python, https://github.com/bwallace/abstrackr-web/tree/master/abstrackr, http://www.billconnelly.net/?p=44"
   ]
  },
  {
   "cell_type": "markdown",
   "metadata": {},
   "source": [
    "### let's tackle pubmed first"
   ]
  },
  {
   "cell_type": "code",
   "execution_count": null,
   "metadata": {
    "collapsed": false
   },
   "outputs": [],
   "source": [
    "\"\"\"\n",
    "Notebook to support academic question exploration and literature search.\n",
    "\n",
    "Thanks to https://marcobonzanini.wordpress.com/2015/01/12/searching-pubmed-with-python/ and \n",
    "http://www.fredtrotter.com/2014/11/14/hacking-on-the-pubmed-api/ and vtrubets\n",
    "https://gist.github.com/vtrubets/ef1dabb397ea6a05ce5b4e767ed15af9 \n",
    "\n",
    "Pubmed advanced search is helpful for designing search/experimenting \n",
    "https://www.ncbi.nlm.nih.gov/pubmed/advanced\n",
    "\n",
    "Docs for NCBI esearch:\n",
    "https://www.ncbi.nlm.nih.gov/books/NBK25499/#chapter4.ESearch\n",
    "https://www.nlm.nih.gov/bsd/mms/medlineelements.html\n",
    "\"\"\"\n"
   ]
  },
  {
   "cell_type": "code",
   "execution_count": 3,
   "metadata": {
    "collapsed": false
   },
   "outputs": [],
   "source": [
    "from Bio import Entrez\n",
    "from Bio import Medline\n",
    "from tqdm import tqdm\n",
    "from collections import Counter\n",
    "import json\n",
    "import requests\n",
    "import re\n",
    "import pandas as pd\n",
    "import pickle \n",
    "import matplotlib.pyplot as plt\n",
    "import numpy as np\n",
    "%matplotlib inline"
   ]
  },
  {
   "cell_type": "code",
   "execution_count": 4,
   "metadata": {
    "collapsed": false
   },
   "outputs": [],
   "source": [
    "def get_chunked_pmids(term, chunksize=50):\n",
    "    \"\"\"\n",
    "    Return a list of Pubmed ids from pubmed search in chunks\n",
    "    \"\"\"\n",
    "    Entrez.email = \"carl.reynolds@imperial.ac.uk\"\n",
    "    count_handle = Entrez.esearch(db=\"pubmed\",\n",
    "                                  term=term,\n",
    "                                  retmode=\"xml\",\n",
    "                                  rettype=\"count\")\n",
    "    count_results = Entrez.read(count_handle)\n",
    "    count = int(count_results[\"Count\"])\n",
    "\n",
    "    retmax_requests = list(range(chunksize, count, chunksize))\n",
    "    retmax_requests.append(count - retmax_requests[len(retmax_requests) - 1])\n",
    "\n",
    "    for i, retmax in enumerate(retmax_requests):\n",
    "        pmid_handle = Entrez.esearch(db=\"pubmed\",\n",
    "                                     term=term,\n",
    "                                     sort=\"relevance\",\n",
    "                                     retmode=\"xml\",\n",
    "                                     usehistory='y',\n",
    "                                     retstart=retmax,\n",
    "                                     retmax=chunksize)\n",
    "        results = Entrez.read(pmid_handle)\n",
    "        yield results[\"IdList\"]"
   ]
  },
  {
   "cell_type": "code",
   "execution_count": 5,
   "metadata": {
    "collapsed": false
   },
   "outputs": [],
   "source": [
    "def get_pubmed_summaries(pubmed_id):\n",
    "    \"\"\"\n",
    "    Use the Pubmed API to return a json summary of a list of pmid strings \n",
    "    \"\"\"\n",
    "    pubmed_id = ','.join(pubmed_id) # citation api likes to take a single string\n",
    "\n",
    "    Entrez.email = \"carl.reynolds@imperial.ac.uk\"\n",
    "    handle = Entrez.esummary(db='pubmed', \n",
    "                             id=pubmed_id, \n",
    "                             retmode='json',\n",
    "                             rettype='abstract')\n",
    "    return json.loads(handle.read())['result']\n",
    "  "
   ]
  },
  {
   "cell_type": "code",
   "execution_count": 6,
   "metadata": {
    "collapsed": false
   },
   "outputs": [],
   "source": [
    "def get_pubmed_keywords(pubmed_id):\n",
    "    \"\"\"\n",
    "    Use the Pubmed API to return the medline record and extract the key words for each pmid in a\n",
    "    a list of pmid strings. Returns {pmid:[list of keywords]}.\n",
    "    \"\"\"\n",
    "    Entrez.email = \"carl.reynolds@imperial.ac.uk\"\n",
    "    handle = Entrez.efetch(db='pubmed',\n",
    "                           id=pubmed_id,\n",
    "                           rettype='medline',\n",
    "                           retmode='text')\n",
    "    records = Medline.parse(handle)\n",
    "    keywords = {}\n",
    "    for record in records:\n",
    "        pmid = record.get('PMID','?')\n",
    "        mh = record.get('MH','?')\n",
    "        keywords[pmid] = mh\n",
    "    return keywords"
   ]
  },
  {
   "cell_type": "code",
   "execution_count": 7,
   "metadata": {
    "collapsed": true
   },
   "outputs": [],
   "source": [
    "def get_pubmed_abstracts(pubmed_id):\n",
    "    \"\"\"\n",
    "    Use the Pubmed API to return the medline record and extract the abstract for each pmid in a list\n",
    "    of pmid strings. Return {pmid:abstract}.\n",
    "    \"\"\"\n",
    "    Entrez.email = \"carl.reynolds@imperial.ac.uk\"\n",
    "    handle = Entrez.efetch(db='pubmed',\n",
    "                           id=pubmed_id,\n",
    "                           rettype='medline',\n",
    "                           retmode='text')\n",
    "    records = Medline.parse(handle)\n",
    "    abstracts = {}\n",
    "    for record in records:\n",
    "        pmid = record.get('PMID','?')\n",
    "        ab = record.get('AB','?')\n",
    "        abstracts[pmid] = ab\n",
    "    return abstracts"
   ]
  },
  {
   "cell_type": "code",
   "execution_count": 8,
   "metadata": {
    "collapsed": true
   },
   "outputs": [],
   "source": [
    "def get_pubmed_pubtypes(pubmed_id):\n",
    "    \"\"\"\n",
    "    Use the Pubmed API to return the medline record and extract the publication type for each pmid\n",
    "    in a list of pmid strings. Return {pmid:pubtype}.\n",
    "    \"\"\"\n",
    "    Entrez.email = \"carl.reynolds@imperial.ac.uk\"\n",
    "    handle = Entrez.efetch(db='pubmed',\n",
    "                           id=pubmed_id,\n",
    "                           rettype='medline',\n",
    "                           retmode='text')\n",
    "    records = Medline.parse(handle)\n",
    "    pubtypes = {}\n",
    "    for record in records:\n",
    "        pmid = record.get('PMID','?')\n",
    "        pt = record.get('PT','?')\n",
    "        pubtypes[pmid] = pt\n",
    "    return pubtypes"
   ]
  },
  {
   "cell_type": "code",
   "execution_count": 9,
   "metadata": {
    "collapsed": false
   },
   "outputs": [],
   "source": [
    "def get_citation_information(pubmed_id):\n",
    "    \"\"\"\n",
    "    Use the special citation api to return relative citation ratios\n",
    "    Takes a list of pmid strings. Returns {pmid:rcr}\n",
    "    \"\"\"\n",
    "    pubmed_id = ','.join(pubmed_id) # citation api likes to take a single string\n",
    "    citation_search = 'https://icite.od.nih.gov/api/pubs?pmids={0}'.format(pubmed_id)\n",
    "    response = requests.get(citation_search).content\n",
    "    str_response = response.decode('utf-8')\n",
    "    \n",
    "    try:\n",
    "        data = json.loads(str_response)['data']\n",
    "    except KeyError:\n",
    "        data = False\n",
    "         \n",
    "    citations = {}\n",
    "    \n",
    "    if data:\n",
    "        for record in data:\n",
    "            pmid = record.get('pmid')\n",
    "            rcr = record.get('relative_citation_ratio')\n",
    "            citations[pmid] = rcr\n",
    "    return citations\n",
    "        "
   ]
  },
  {
   "cell_type": "code",
   "execution_count": 10,
   "metadata": {
    "collapsed": false
   },
   "outputs": [],
   "source": [
    "def get_pmids_for_papers_citing(pubmed_id):\n",
    "    \"\"\"\n",
    "    Use the Pubmed API to return a list of pmids for a paper citing a *single pmid*\n",
    "    Return list of citing pmids.\n",
    "    see also https://www.ncbi.nlm.nih.gov/pmc/tools/cites-citedby/\n",
    "    \"\"\"\n",
    "    Entrez.email = \"carl.reynolds@imperial.ac.uk\"\n",
    "    handle = Entrez.elink(dbfrom=\"pubmed\",\n",
    "                          id=pubmed_id,\n",
    "                          linkname=\"pubmed_pubmed_citedin\")\n",
    "    records = Entrez.read(handle)\n",
    "    list_of_pmids_citing = []\n",
    "    \n",
    "    if records[0][\"LinkSetDb\"]:\n",
    "        for link in records[0][\"LinkSetDb\"][0][\"Link\"]:\n",
    "            list_of_pmids_citing.append(link[\"Id\"]) \n",
    "  \n",
    "    return list_of_pmids_citing "
   ]
  },
  {
   "cell_type": "code",
   "execution_count": 11,
   "metadata": {
    "collapsed": true
   },
   "outputs": [],
   "source": [
    "def get_pmids_for_papers_cited(pubmed_id):\n",
    "    \"\"\"\n",
    "    Use the Pubmed API to return a list of pmids for papers cited by a particular pmid\n",
    "    Return list of pmids. *only works for papers in pubmed central*\n",
    "    see also https://www.ncbi.nlm.nih.gov/pmc/tools/cites-citedby/\n",
    "    \"\"\"\n",
    "    Entrez.email = \"carl.reynolds@imperial.ac.uk\"\n",
    "    handle = Entrez.elink(dbfrom=\"pubmed\",\n",
    "                          id=pubmed_id,\n",
    "                          linkname=\"pubmed_pubmed_refs\")\n",
    "    records = Entrez.read(handle)\n",
    "    list_of_pmids_cited = []\n",
    "    \n",
    "    if records[0][\"LinkSetDb\"]:\n",
    "        for link in records[0][\"LinkSetDb\"][0][\"Link\"]:\n",
    "            list_of_pmids_cited.append(link[\"Id\"]) \n",
    "    return list_of_pmids_cited"
   ]
  },
  {
   "cell_type": "code",
   "execution_count": 12,
   "metadata": {
    "collapsed": true
   },
   "outputs": [],
   "source": [
    "def get_cited_pmids(pubmed_id):\n",
    "    \"\"\"\n",
    "    Use the Pubmed API to return a list of pmids for a paper cited by pmid\n",
    "    in a list of pmids. Return {pmid:list_of_citing_pmids}\n",
    "    Only works for papers in PMC\n",
    "    \"\"\"\n",
    "    cited = {}\n",
    "    for pmid in pubmed_id:\n",
    "        cited[pmid] = get_pmids_for_papers_cited(pmid)\n",
    "    return cited"
   ]
  },
  {
   "cell_type": "code",
   "execution_count": 13,
   "metadata": {
    "collapsed": true
   },
   "outputs": [],
   "source": [
    "def get_citing_pmids(pubmed_id):\n",
    "    \"\"\"\n",
    "    Use the Pubmed API to return a list of pmids for a paper citing a pmid\n",
    "    in a list of pmids\n",
    "    Return {pmid:list_of_citing_pmids}\n",
    "    \"\"\"\n",
    "    citing = {}\n",
    "    for pmid in pubmed_id:\n",
    "        citing[pmid] = get_pmids_for_papers_citing(pmid)\n",
    "  \n",
    "    return citing"
   ]
  },
  {
   "cell_type": "code",
   "execution_count": 14,
   "metadata": {
    "collapsed": false
   },
   "outputs": [],
   "source": [
    "def lit_fetch(pubmed_id):\n",
    "    \"\"\"\n",
    "    Search pubmed for a list of pmid strings and return information about the results\n",
    "    \"\"\"\n",
    "    result = {}\n",
    "    result['summaries'] = get_pubmed_summaries(pubmed_id)\n",
    "    result['pubtypes'] = get_pubmed_pubtypes(pubmed_id)\n",
    "    result['abstracts'] = get_pubmed_abstracts(pubmed_id)\n",
    "    result['keywords'] = get_pubmed_keywords(pubmed_id)\n",
    "    result['rcrs'] = get_citation_information(pubmed_id)\n",
    "    result['citing'] = get_citing_pmids(pubmed_id)\n",
    "    result['cited'] = get_cited_pmids(pubmed_id)\n",
    "    return result\n",
    "        "
   ]
  },
  {
   "cell_type": "code",
   "execution_count": 15,
   "metadata": {
    "collapsed": true
   },
   "outputs": [],
   "source": [
    "def resultdf(r):\n",
    "    df = pd.DataFrame(r['summaries']['uids'], columns=['pmid'])\n",
    "    df['title'] = df['pmid'].map(lambda x: r['summaries'].get(x)['title'])\n",
    "    df['firstauthor'] = df['pmid'].map(lambda x: r['summaries'].get(x)['sortfirstauthor'])\n",
    "    df['lastauthor'] = df['pmid'].map(lambda x: r['summaries'].get(x)['lastauthor'])\n",
    "    df['journal'] = df['pmid'].map(lambda x: r['summaries'].get(x)['source'])\n",
    "    df['pubdate'] = df['pmid'].map(lambda x: r['summaries'].get(x)['sortpubdate'])\n",
    "    df['pubtype'] = df['pmid'].map(lambda x: r['pubtypes'].get(x))\n",
    "    df['abstract'] = df['pmid'].map(lambda x: r['abstracts'].get(x))\n",
    "    df['keywords'] = df['pmid'].map(lambda x: r['keywords'].get(x))\n",
    "    df['rcr'] = df['pmid'].astype(int).map(lambda x: r['rcrs'].get(x))\n",
    "    df['citedby'] =  df['pmid'].map(lambda x: r['citing'].get(x))\n",
    "    df['cites'] = df['pmid'].map(lambda x: r['cited'].get(x))\n",
    "    pd.set_option('max_colwidth',300)\n",
    "    return df"
   ]
  },
  {
   "cell_type": "code",
   "execution_count": 57,
   "metadata": {
    "collapsed": true
   },
   "outputs": [],
   "source": [
    "def save_df_as_csv(term, df):\n",
    "    name = term.replace(\" \", \"-\")\n",
    "    df.to_csv(name+\".csv\")"
   ]
  },
  {
   "cell_type": "code",
   "execution_count": 56,
   "metadata": {
    "collapsed": false
   },
   "outputs": [],
   "source": [
    "def lit_search(term):\n",
    "    \"\"\"\n",
    "    Search pubmed for a term and collect information about the results\n",
    "    \"\"\"\n",
    "    pmid_blocks = get_chunked_pmids(term, chunksize=200)\n",
    "    df_list = []\n",
    "    for i, block in enumerate(pmid_blocks):\n",
    "        if i < 1:\n",
    "            print(\"Beginning block processing\")\n",
    "            result = lit_fetch(block)\n",
    "            df = resultdf(result)\n",
    "            df_list.append(df)\n",
    "            print(\"Processed block {0}\".format(i))\n",
    "    df = pd.concat(df_list)\n",
    "    save_df_as_csv(term, df)\n",
    "    return df\n",
    "        "
   ]
  },
  {
   "cell_type": "code",
   "execution_count": 47,
   "metadata": {
    "collapsed": false
   },
   "outputs": [],
   "source": [
    "def explore_result_dataframe(df):\n",
    "    \"\"\"\n",
    "    Print some simple stats for result dataframe\n",
    "    \"\"\"\n",
    "    print('Top first authors\\n')\n",
    "    print(df.firstauthor.value_counts().head())\n",
    "    print('\\nTop last authors\\n')\n",
    "    print(df.lastauthor.value_counts().head())\n",
    "    print('\\nTop journals\\n')\n",
    "    print(df.journal.value_counts().head())\n",
    "    print('\\nTop publication types\\n')\n",
    "    print(df.pubtype.astype(str).value_counts().head())\n",
    "    print('\\nPublications per year\\n')\n",
    "    df.pubdate = pd.to_datetime(df.pubdate)\n",
    "    df.index = df.pubdate\n",
    "    df.groupby(df.pubdate.map(lambda x: x.year)).pmid.count().plot(kind='bar')\n"
   ]
  },
  {
   "cell_type": "code",
   "execution_count": null,
   "metadata": {
    "collapsed": true
   },
   "outputs": [],
   "source": [
    "df = lit_search('idiopathic pulmonary fibrosis')\n",
    "explore_result_dataframe(df)"
   ]
  },
  {
   "cell_type": "code",
   "execution_count": 63,
   "metadata": {
    "collapsed": false
   },
   "outputs": [],
   "source": [
    "pmid_blocks = get_chunked_pmids('idiopathic pulmonary fibrosis', chunksize=200)\n"
   ]
  },
  {
   "cell_type": "code",
   "execution_count": 55,
   "metadata": {
    "collapsed": false
   },
   "outputs": [],
   "source": [
    "terms = ['idiopathic pulmonary fibrosis', 'cryptogenic fibrosing alveolitis',\n",
    "        'usual interstitial pneumonia', 'asbestosis']\n",
    "\n",
    "#?(idiopathic pulmonary fibrosis) AND (asbestos) \n",
    "\n",
    "def litsearch_terms(terms):\n",
    "    \"\"\"\n",
    "    Search pubmed for the terms and return a df\n",
    "    \"\"\"\n",
    "    df_list = []\n",
    "    for term in terms:\n",
    "        print ('searching for {0}'.format(term))\n",
    "        df = lit_search(term)\n",
    "        df_list.append(df)\n",
    "        save_df_as_csv(term, df)\n",
    "    df = pd.concat(df_list)\n",
    "    return df"
   ]
  },
  {
   "cell_type": "code",
   "execution_count": 99,
   "metadata": {
    "collapsed": false
   },
   "outputs": [],
   "source": [
    "topic_collection = {\"ipfjes_case_control_studies\" : ['23022860', '10968375', '24413348', '19782552', '17628464', \n",
    "                                                     '10841131', '8569361', '8087336', '15640309', '9571528', \n",
    "                                                     '18507288', '23022860', '2249047'], \n",
    "                    \"ipfjes_reviews\" : ['25621562', '24348069', '10193340', '11816818', '15331187', '16733403']}\n",
    "\n",
    "\n",
    "def litfetch_topics(topic_collection):\n",
    "    \"\"\"\n",
    "    fetch info for pmids in a topic collection and save the result as a .csv\n",
    "    \"\"\"\n",
    "    for topic in topic_collection:\n",
    "        print('begining topic {0} analaysis'.format(topic))\n",
    "        result = lit_fetch(topic_collection[topic])\n",
    "        df = resultdf(result)\n",
    "        save_df_as_csv(topic, df)\n",
    "        print('csv of topic {0} saved'.format(topic))"
   ]
  },
  {
   "cell_type": "code",
   "execution_count": null,
   "metadata": {
    "collapsed": false
   },
   "outputs": [],
   "source": [
    "df = pd.read_csv('idiopathic-pulmonary-fibrosis.csv', usecols=['pmid','title','firstauthor','lastauthor',\n",
    "                                                             'journal','pubdate','pubtype',\n",
    "                                                             'abstract', 'keywords', 'rcr'])"
   ]
  },
  {
   "cell_type": "code",
   "execution_count": null,
   "metadata": {
    "collapsed": false
   },
   "outputs": [],
   "source": [
    "df = pd.read_csv('ipfjes_case_control_studies.csv', usecols=['pmid','title','firstauthor','lastauthor',\n",
    "                                                             'journal','pubdate','pubtype',\n",
    "                                                             'abstract', 'keywords', 'rcr', 'citedby', 'cites'])\n"
   ]
  },
  {
   "cell_type": "code",
   "execution_count": null,
   "metadata": {
    "collapsed": true
   },
   "outputs": [],
   "source": [
    "df1 = pd.read_csv('idiopathic-pulmonary-fibrosis.csv', usecols=['pmid','title','firstauthor','lastauthor',\n",
    "                                                             'journal','pubdate','pubtype',\n",
    "                                                             'abstract', 'keywords', 'rcr', 'citedby'])"
   ]
  },
  {
   "cell_type": "code",
   "execution_count": 100,
   "metadata": {
    "collapsed": false
   },
   "outputs": [
    {
     "name": "stdout",
     "output_type": "stream",
     "text": [
      "Top pubmed keywords (mesh headings) for the 12 occupational IPF case-control studies found\n"
     ]
    },
    {
     "data": {
      "text/plain": [
       "[('Male', 12),\n",
       " ('Humans', 12),\n",
       " ('Female', 12),\n",
       " ('Case-Control Studies', 10),\n",
       " ('Aged', 8),\n",
       " ('Middle Aged', 7),\n",
       " ('Risk Factors', 6),\n",
       " ('Adult', 5),\n",
       " ('Pulmonary Fibrosis/*etiology', 4),\n",
       " ('Wood', 3),\n",
       " ('Surveys and Questionnaires', 3),\n",
       " ('Odds Ratio', 3),\n",
       " ('Metals', 3),\n",
       " ('Dust', 3),\n",
       " ('*Occupational Exposure', 3),\n",
       " ('Smoking/adverse effects', 2),\n",
       " ('Smoking/*adverse effects', 2),\n",
       " ('Sex Factors', 2),\n",
       " ('Pulmonary Fibrosis/*mortality', 2),\n",
       " ('Occupational Exposure/*adverse effects/statistics & numerical data', 2),\n",
       " ('Occupational Exposure', 2),\n",
       " ('Dust/*adverse effects', 2),\n",
       " ('Aged, 80 and over', 2),\n",
       " ('Adolescent', 2),\n",
       " ('*Environmental Exposure', 2),\n",
       " ('Wood/*adverse effects', 1),\n",
       " ('United States/epidemiology', 1),\n",
       " ('United Kingdom/epidemiology', 1),\n",
       " ('Time Factors', 1),\n",
       " ('Sweden/epidemiology', 1),\n",
       " ('Sex Distribution', 1),\n",
       " ('Severity of Illness Index', 1),\n",
       " ('Risk Assessment', 1),\n",
       " ('Risk', 1),\n",
       " ('Retrospective Studies', 1),\n",
       " ('Regression Analysis', 1),\n",
       " ('Pulmonary Fibrosis/epidemiology/*etiology', 1),\n",
       " ('Pulmonary Fibrosis/*etiology/immunology', 1),\n",
       " ('Pulmonary Fibrosis/*epidemiology/etiology/pathology', 1),\n",
       " ('Pulmonary Fibrosis/*epidemiology/etiology', 1),\n",
       " ('Prognosis', 1),\n",
       " ('Occupations', 1),\n",
       " ('Occupational Exposure/*adverse effects', 1),\n",
       " ('Occupational Diseases/epidemiology/*etiology', 1),\n",
       " ('Occupational Diseases/*mortality', 1),\n",
       " ('Occupational Diseases/*etiology/immunology', 1),\n",
       " ('Occupational Diseases/*etiology', 1),\n",
       " ('Multivariate Analysis', 1),\n",
       " ('Mexico', 1),\n",
       " ('Metals/adverse effects', 1),\n",
       " ('Metals/*adverse effects', 1),\n",
       " ('Lung Neoplasms/*complications', 1),\n",
       " ('Logistic Models', 1),\n",
       " ('Japan/epidemiology', 1),\n",
       " ('Industry', 1),\n",
       " ('Incidence', 1),\n",
       " ('Idiopathic Pulmonary Fibrosis/*etiology', 1),\n",
       " ('Idiopathic Pulmonary Fibrosis/*epidemiology', 1),\n",
       " ('Epidemiologic Methods', 1),\n",
       " ('Environmental Exposure/*adverse effects', 1),\n",
       " ('Egypt/epidemiology', 1),\n",
       " ('Dust/adverse effects', 1),\n",
       " ('Diabetes Mellitus, Type 2/*complications', 1),\n",
       " ('Death Certificates', 1),\n",
       " ('Connecticut/epidemiology', 1),\n",
       " ('Confidence Intervals', 1),\n",
       " ('Chi-Square Distribution', 1),\n",
       " ('Carcinoma, Squamous Cell/*complications', 1),\n",
       " ('Autopsy/statistics & numerical data', 1),\n",
       " ('Autoantibodies/blood', 1),\n",
       " ('Agriculture', 1),\n",
       " (\"Agricultural Workers' Diseases/epidemiology\", 1),\n",
       " ('Age Distribution', 1),\n",
       " ('*Wood', 1),\n",
       " ('*Metallurgy', 1),\n",
       " ('*Dust/analysis', 1),\n",
       " ('*Dust', 1)]"
      ]
     },
     "execution_count": 100,
     "metadata": {},
     "output_type": "execute_result"
    }
   ],
   "source": [
    "keywords = get_pubmed_keywords(topic_collection['ipfjes_case_control_studies'])\n",
    "\n",
    "print ('Top pubmed keywords (mesh headings)',\n",
    "       'for the {0} occupational IPF case-control studies found'.format(len(keywords)))\n",
    "\n",
    "corpus = []\n",
    "       \n",
    "for record in keywords:\n",
    "    corpus.append(keywords[record])\n",
    "    \n",
    "corpus = [item for sublist in corpus for item in sublist]\n",
    "\n",
    "x = Counter(corpus)\n",
    "\n",
    "top_keywords = [(l,k) for k,l in sorted([(j,i) for i,j in x.items()], reverse=True)]\n",
    "top_keywords[:5]"
   ]
  },
  {
   "cell_type": "code",
   "execution_count": 117,
   "metadata": {
    "collapsed": false
   },
   "outputs": [],
   "source": [
    "def citing_count(pubmed_id):\n",
    "    '''\n",
    "    Looks up papers citing a list of pubmed_id strings and returns a dict\n",
    "    {citing_paper:number_of_times_cites_list}\n",
    "    '''\n",
    "    citing = get_citing_pmids(pubmed_id)\n",
    "    corpus = []\n",
    "    for record in citing:\n",
    "        corpus.append(citing[record])\n",
    "    corpus = [item for sublist in corpus for item in sublist]\n",
    "    x = Counter(corpus)\n",
    "    citingpapers = [(l,k) for k,l in sorted([(j,i) for i,j in x.items()], reverse=True)]\n",
    "    citing_count = dict(citingpapers)\n",
    "    return citing_count"
   ]
  },
  {
   "cell_type": "code",
   "execution_count": 118,
   "metadata": {
    "collapsed": false
   },
   "outputs": [],
   "source": [
    "citing_count = citing_count(topic_collection['ipfjes_case_control_studies'])"
   ]
  },
  {
   "cell_type": "code",
   "execution_count": 126,
   "metadata": {
    "collapsed": false
   },
   "outputs": [
    {
     "ename": "RemoteDisconnected",
     "evalue": "Remote end closed connection without response",
     "output_type": "error",
     "traceback": [
      "\u001b[0;31m---------------------------------------------------------------------------\u001b[0m",
      "\u001b[0;31mRemoteDisconnected\u001b[0m                        Traceback (most recent call last)",
      "\u001b[0;32m<ipython-input-126-44bb2a0bad3d>\u001b[0m in \u001b[0;36m<module>\u001b[0;34m()\u001b[0m\n\u001b[0;32m----> 1\u001b[0;31m \u001b[0mresult\u001b[0m \u001b[0;34m=\u001b[0m \u001b[0mlit_fetch\u001b[0m\u001b[0;34m(\u001b[0m\u001b[0mlist\u001b[0m\u001b[0;34m(\u001b[0m\u001b[0mciting_count\u001b[0m\u001b[0;34m.\u001b[0m\u001b[0mkeys\u001b[0m\u001b[0;34m(\u001b[0m\u001b[0;34m)\u001b[0m\u001b[0;34m)\u001b[0m\u001b[0;34m)\u001b[0m\u001b[0;34m\u001b[0m\u001b[0m\n\u001b[0m",
      "\u001b[0;32m<ipython-input-14-43259aa673c6>\u001b[0m in \u001b[0;36mlit_fetch\u001b[0;34m(pubmed_id)\u001b[0m\n\u001b[1;32m      9\u001b[0m     \u001b[0mresult\u001b[0m\u001b[0;34m[\u001b[0m\u001b[0;34m'keywords'\u001b[0m\u001b[0;34m]\u001b[0m \u001b[0;34m=\u001b[0m \u001b[0mget_pubmed_keywords\u001b[0m\u001b[0;34m(\u001b[0m\u001b[0mpubmed_id\u001b[0m\u001b[0;34m)\u001b[0m\u001b[0;34m\u001b[0m\u001b[0m\n\u001b[1;32m     10\u001b[0m     \u001b[0mresult\u001b[0m\u001b[0;34m[\u001b[0m\u001b[0;34m'rcrs'\u001b[0m\u001b[0;34m]\u001b[0m \u001b[0;34m=\u001b[0m \u001b[0mget_citation_information\u001b[0m\u001b[0;34m(\u001b[0m\u001b[0mpubmed_id\u001b[0m\u001b[0;34m)\u001b[0m\u001b[0;34m\u001b[0m\u001b[0m\n\u001b[0;32m---> 11\u001b[0;31m     \u001b[0mresult\u001b[0m\u001b[0;34m[\u001b[0m\u001b[0;34m'citing'\u001b[0m\u001b[0;34m]\u001b[0m \u001b[0;34m=\u001b[0m \u001b[0mget_citing_pmids\u001b[0m\u001b[0;34m(\u001b[0m\u001b[0mpubmed_id\u001b[0m\u001b[0;34m)\u001b[0m\u001b[0;34m\u001b[0m\u001b[0m\n\u001b[0m\u001b[1;32m     12\u001b[0m     \u001b[0mresult\u001b[0m\u001b[0;34m[\u001b[0m\u001b[0;34m'cited'\u001b[0m\u001b[0;34m]\u001b[0m \u001b[0;34m=\u001b[0m \u001b[0mget_cited_pmids\u001b[0m\u001b[0;34m(\u001b[0m\u001b[0mpubmed_id\u001b[0m\u001b[0;34m)\u001b[0m\u001b[0;34m\u001b[0m\u001b[0m\n\u001b[1;32m     13\u001b[0m     \u001b[0;32mreturn\u001b[0m \u001b[0mresult\u001b[0m\u001b[0;34m\u001b[0m\u001b[0m\n",
      "\u001b[0;32m<ipython-input-13-649c01262c00>\u001b[0m in \u001b[0;36mget_citing_pmids\u001b[0;34m(pubmed_id)\u001b[0m\n\u001b[1;32m      7\u001b[0m     \u001b[0mciting\u001b[0m \u001b[0;34m=\u001b[0m \u001b[0;34m{\u001b[0m\u001b[0;34m}\u001b[0m\u001b[0;34m\u001b[0m\u001b[0m\n\u001b[1;32m      8\u001b[0m     \u001b[0;32mfor\u001b[0m \u001b[0mpmid\u001b[0m \u001b[0;32min\u001b[0m \u001b[0mpubmed_id\u001b[0m\u001b[0;34m:\u001b[0m\u001b[0;34m\u001b[0m\u001b[0m\n\u001b[0;32m----> 9\u001b[0;31m         \u001b[0mciting\u001b[0m\u001b[0;34m[\u001b[0m\u001b[0mpmid\u001b[0m\u001b[0;34m]\u001b[0m \u001b[0;34m=\u001b[0m \u001b[0mget_pmids_for_papers_citing\u001b[0m\u001b[0;34m(\u001b[0m\u001b[0mpmid\u001b[0m\u001b[0;34m)\u001b[0m\u001b[0;34m\u001b[0m\u001b[0m\n\u001b[0m\u001b[1;32m     10\u001b[0m \u001b[0;34m\u001b[0m\u001b[0m\n\u001b[1;32m     11\u001b[0m     \u001b[0;32mreturn\u001b[0m \u001b[0mciting\u001b[0m\u001b[0;34m\u001b[0m\u001b[0m\n",
      "\u001b[0;32m<ipython-input-10-05889e576873>\u001b[0m in \u001b[0;36mget_pmids_for_papers_citing\u001b[0;34m(pubmed_id)\u001b[0m\n\u001b[1;32m      8\u001b[0m     handle = Entrez.elink(dbfrom=\"pubmed\",\n\u001b[1;32m      9\u001b[0m                           \u001b[0mid\u001b[0m\u001b[0;34m=\u001b[0m\u001b[0mpubmed_id\u001b[0m\u001b[0;34m,\u001b[0m\u001b[0;34m\u001b[0m\u001b[0m\n\u001b[0;32m---> 10\u001b[0;31m                           linkname=\"pubmed_pubmed_citedin\")\n\u001b[0m\u001b[1;32m     11\u001b[0m     \u001b[0mrecords\u001b[0m \u001b[0;34m=\u001b[0m \u001b[0mEntrez\u001b[0m\u001b[0;34m.\u001b[0m\u001b[0mread\u001b[0m\u001b[0;34m(\u001b[0m\u001b[0mhandle\u001b[0m\u001b[0;34m)\u001b[0m\u001b[0;34m\u001b[0m\u001b[0m\n\u001b[1;32m     12\u001b[0m     \u001b[0mlist_of_pmids_citing\u001b[0m \u001b[0;34m=\u001b[0m \u001b[0;34m[\u001b[0m\u001b[0;34m]\u001b[0m\u001b[0;34m\u001b[0m\u001b[0m\n",
      "\u001b[0;32m/home/drcjar/.virtualenvs/litsearch2/lib/python3.5/site-packages/Bio/Entrez/__init__.py\u001b[0m in \u001b[0;36melink\u001b[0;34m(**keywds)\u001b[0m\n\u001b[1;32m    253\u001b[0m     \u001b[0mvariables\u001b[0m \u001b[0;34m=\u001b[0m \u001b[0;34m{\u001b[0m\u001b[0;34m}\u001b[0m\u001b[0;34m\u001b[0m\u001b[0m\n\u001b[1;32m    254\u001b[0m     \u001b[0mvariables\u001b[0m\u001b[0;34m.\u001b[0m\u001b[0mupdate\u001b[0m\u001b[0;34m(\u001b[0m\u001b[0mkeywds\u001b[0m\u001b[0;34m)\u001b[0m\u001b[0;34m\u001b[0m\u001b[0m\n\u001b[0;32m--> 255\u001b[0;31m     \u001b[0;32mreturn\u001b[0m \u001b[0m_open\u001b[0m\u001b[0;34m(\u001b[0m\u001b[0mcgi\u001b[0m\u001b[0;34m,\u001b[0m \u001b[0mvariables\u001b[0m\u001b[0;34m)\u001b[0m\u001b[0;34m\u001b[0m\u001b[0m\n\u001b[0m\u001b[1;32m    256\u001b[0m \u001b[0;34m\u001b[0m\u001b[0m\n\u001b[1;32m    257\u001b[0m \u001b[0;34m\u001b[0m\u001b[0m\n",
      "\u001b[0;32m/home/drcjar/.virtualenvs/litsearch2/lib/python3.5/site-packages/Bio/Entrez/__init__.py\u001b[0m in \u001b[0;36m_open\u001b[0;34m(cgi, params, post, ecitmatch)\u001b[0m\n\u001b[1;32m    522\u001b[0m             \u001b[0mhandle\u001b[0m \u001b[0;34m=\u001b[0m \u001b[0m_urlopen\u001b[0m\u001b[0;34m(\u001b[0m\u001b[0mcgi\u001b[0m\u001b[0;34m,\u001b[0m \u001b[0mdata\u001b[0m\u001b[0;34m=\u001b[0m\u001b[0m_as_bytes\u001b[0m\u001b[0;34m(\u001b[0m\u001b[0moptions\u001b[0m\u001b[0;34m)\u001b[0m\u001b[0;34m)\u001b[0m\u001b[0;34m\u001b[0m\u001b[0m\n\u001b[1;32m    523\u001b[0m         \u001b[0;32melse\u001b[0m\u001b[0;34m:\u001b[0m\u001b[0;34m\u001b[0m\u001b[0m\n\u001b[0;32m--> 524\u001b[0;31m             \u001b[0mhandle\u001b[0m \u001b[0;34m=\u001b[0m \u001b[0m_urlopen\u001b[0m\u001b[0;34m(\u001b[0m\u001b[0mcgi\u001b[0m\u001b[0;34m)\u001b[0m\u001b[0;34m\u001b[0m\u001b[0m\n\u001b[0m\u001b[1;32m    525\u001b[0m     \u001b[0;32mexcept\u001b[0m \u001b[0m_HTTPError\u001b[0m \u001b[0;32mas\u001b[0m \u001b[0mexception\u001b[0m\u001b[0;34m:\u001b[0m\u001b[0;34m\u001b[0m\u001b[0m\n\u001b[1;32m    526\u001b[0m         \u001b[0;32mraise\u001b[0m \u001b[0mexception\u001b[0m\u001b[0;34m\u001b[0m\u001b[0m\n",
      "\u001b[0;32m/usr/lib/python3.5/urllib/request.py\u001b[0m in \u001b[0;36murlopen\u001b[0;34m(url, data, timeout, cafile, capath, cadefault, context)\u001b[0m\n\u001b[1;32m    161\u001b[0m     \u001b[0;32melse\u001b[0m\u001b[0;34m:\u001b[0m\u001b[0;34m\u001b[0m\u001b[0m\n\u001b[1;32m    162\u001b[0m         \u001b[0mopener\u001b[0m \u001b[0;34m=\u001b[0m \u001b[0m_opener\u001b[0m\u001b[0;34m\u001b[0m\u001b[0m\n\u001b[0;32m--> 163\u001b[0;31m     \u001b[0;32mreturn\u001b[0m \u001b[0mopener\u001b[0m\u001b[0;34m.\u001b[0m\u001b[0mopen\u001b[0m\u001b[0;34m(\u001b[0m\u001b[0murl\u001b[0m\u001b[0;34m,\u001b[0m \u001b[0mdata\u001b[0m\u001b[0;34m,\u001b[0m \u001b[0mtimeout\u001b[0m\u001b[0;34m)\u001b[0m\u001b[0;34m\u001b[0m\u001b[0m\n\u001b[0m\u001b[1;32m    164\u001b[0m \u001b[0;34m\u001b[0m\u001b[0m\n\u001b[1;32m    165\u001b[0m \u001b[0;32mdef\u001b[0m \u001b[0minstall_opener\u001b[0m\u001b[0;34m(\u001b[0m\u001b[0mopener\u001b[0m\u001b[0;34m)\u001b[0m\u001b[0;34m:\u001b[0m\u001b[0;34m\u001b[0m\u001b[0m\n",
      "\u001b[0;32m/usr/lib/python3.5/urllib/request.py\u001b[0m in \u001b[0;36mopen\u001b[0;34m(self, fullurl, data, timeout)\u001b[0m\n\u001b[1;32m    464\u001b[0m             \u001b[0mreq\u001b[0m \u001b[0;34m=\u001b[0m \u001b[0mmeth\u001b[0m\u001b[0;34m(\u001b[0m\u001b[0mreq\u001b[0m\u001b[0;34m)\u001b[0m\u001b[0;34m\u001b[0m\u001b[0m\n\u001b[1;32m    465\u001b[0m \u001b[0;34m\u001b[0m\u001b[0m\n\u001b[0;32m--> 466\u001b[0;31m         \u001b[0mresponse\u001b[0m \u001b[0;34m=\u001b[0m \u001b[0mself\u001b[0m\u001b[0;34m.\u001b[0m\u001b[0m_open\u001b[0m\u001b[0;34m(\u001b[0m\u001b[0mreq\u001b[0m\u001b[0;34m,\u001b[0m \u001b[0mdata\u001b[0m\u001b[0;34m)\u001b[0m\u001b[0;34m\u001b[0m\u001b[0m\n\u001b[0m\u001b[1;32m    467\u001b[0m \u001b[0;34m\u001b[0m\u001b[0m\n\u001b[1;32m    468\u001b[0m         \u001b[0;31m# post-process response\u001b[0m\u001b[0;34m\u001b[0m\u001b[0;34m\u001b[0m\u001b[0m\n",
      "\u001b[0;32m/usr/lib/python3.5/urllib/request.py\u001b[0m in \u001b[0;36m_open\u001b[0;34m(self, req, data)\u001b[0m\n\u001b[1;32m    482\u001b[0m         \u001b[0mprotocol\u001b[0m \u001b[0;34m=\u001b[0m \u001b[0mreq\u001b[0m\u001b[0;34m.\u001b[0m\u001b[0mtype\u001b[0m\u001b[0;34m\u001b[0m\u001b[0m\n\u001b[1;32m    483\u001b[0m         result = self._call_chain(self.handle_open, protocol, protocol +\n\u001b[0;32m--> 484\u001b[0;31m                                   '_open', req)\n\u001b[0m\u001b[1;32m    485\u001b[0m         \u001b[0;32mif\u001b[0m \u001b[0mresult\u001b[0m\u001b[0;34m:\u001b[0m\u001b[0;34m\u001b[0m\u001b[0m\n\u001b[1;32m    486\u001b[0m             \u001b[0;32mreturn\u001b[0m \u001b[0mresult\u001b[0m\u001b[0;34m\u001b[0m\u001b[0m\n",
      "\u001b[0;32m/usr/lib/python3.5/urllib/request.py\u001b[0m in \u001b[0;36m_call_chain\u001b[0;34m(self, chain, kind, meth_name, *args)\u001b[0m\n\u001b[1;32m    442\u001b[0m         \u001b[0;32mfor\u001b[0m \u001b[0mhandler\u001b[0m \u001b[0;32min\u001b[0m \u001b[0mhandlers\u001b[0m\u001b[0;34m:\u001b[0m\u001b[0;34m\u001b[0m\u001b[0m\n\u001b[1;32m    443\u001b[0m             \u001b[0mfunc\u001b[0m \u001b[0;34m=\u001b[0m \u001b[0mgetattr\u001b[0m\u001b[0;34m(\u001b[0m\u001b[0mhandler\u001b[0m\u001b[0;34m,\u001b[0m \u001b[0mmeth_name\u001b[0m\u001b[0;34m)\u001b[0m\u001b[0;34m\u001b[0m\u001b[0m\n\u001b[0;32m--> 444\u001b[0;31m             \u001b[0mresult\u001b[0m \u001b[0;34m=\u001b[0m \u001b[0mfunc\u001b[0m\u001b[0;34m(\u001b[0m\u001b[0;34m*\u001b[0m\u001b[0margs\u001b[0m\u001b[0;34m)\u001b[0m\u001b[0;34m\u001b[0m\u001b[0m\n\u001b[0m\u001b[1;32m    445\u001b[0m             \u001b[0;32mif\u001b[0m \u001b[0mresult\u001b[0m \u001b[0;32mis\u001b[0m \u001b[0;32mnot\u001b[0m \u001b[0;32mNone\u001b[0m\u001b[0;34m:\u001b[0m\u001b[0;34m\u001b[0m\u001b[0m\n\u001b[1;32m    446\u001b[0m                 \u001b[0;32mreturn\u001b[0m \u001b[0mresult\u001b[0m\u001b[0;34m\u001b[0m\u001b[0m\n",
      "\u001b[0;32m/usr/lib/python3.5/urllib/request.py\u001b[0m in \u001b[0;36mhttps_open\u001b[0;34m(self, req)\u001b[0m\n\u001b[1;32m   1295\u001b[0m         \u001b[0;32mdef\u001b[0m \u001b[0mhttps_open\u001b[0m\u001b[0;34m(\u001b[0m\u001b[0mself\u001b[0m\u001b[0;34m,\u001b[0m \u001b[0mreq\u001b[0m\u001b[0;34m)\u001b[0m\u001b[0;34m:\u001b[0m\u001b[0;34m\u001b[0m\u001b[0m\n\u001b[1;32m   1296\u001b[0m             return self.do_open(http.client.HTTPSConnection, req,\n\u001b[0;32m-> 1297\u001b[0;31m                 context=self._context, check_hostname=self._check_hostname)\n\u001b[0m\u001b[1;32m   1298\u001b[0m \u001b[0;34m\u001b[0m\u001b[0m\n\u001b[1;32m   1299\u001b[0m         \u001b[0mhttps_request\u001b[0m \u001b[0;34m=\u001b[0m \u001b[0mAbstractHTTPHandler\u001b[0m\u001b[0;34m.\u001b[0m\u001b[0mdo_request_\u001b[0m\u001b[0;34m\u001b[0m\u001b[0m\n",
      "\u001b[0;32m/usr/lib/python3.5/urllib/request.py\u001b[0m in \u001b[0;36mdo_open\u001b[0;34m(self, http_class, req, **http_conn_args)\u001b[0m\n\u001b[1;32m   1255\u001b[0m             \u001b[0;32mexcept\u001b[0m \u001b[0mOSError\u001b[0m \u001b[0;32mas\u001b[0m \u001b[0merr\u001b[0m\u001b[0;34m:\u001b[0m \u001b[0;31m# timeout error\u001b[0m\u001b[0;34m\u001b[0m\u001b[0m\n\u001b[1;32m   1256\u001b[0m                 \u001b[0;32mraise\u001b[0m \u001b[0mURLError\u001b[0m\u001b[0;34m(\u001b[0m\u001b[0merr\u001b[0m\u001b[0;34m)\u001b[0m\u001b[0;34m\u001b[0m\u001b[0m\n\u001b[0;32m-> 1257\u001b[0;31m             \u001b[0mr\u001b[0m \u001b[0;34m=\u001b[0m \u001b[0mh\u001b[0m\u001b[0;34m.\u001b[0m\u001b[0mgetresponse\u001b[0m\u001b[0;34m(\u001b[0m\u001b[0;34m)\u001b[0m\u001b[0;34m\u001b[0m\u001b[0m\n\u001b[0m\u001b[1;32m   1258\u001b[0m         \u001b[0;32mexcept\u001b[0m\u001b[0;34m:\u001b[0m\u001b[0;34m\u001b[0m\u001b[0m\n\u001b[1;32m   1259\u001b[0m             \u001b[0mh\u001b[0m\u001b[0;34m.\u001b[0m\u001b[0mclose\u001b[0m\u001b[0;34m(\u001b[0m\u001b[0;34m)\u001b[0m\u001b[0;34m\u001b[0m\u001b[0m\n",
      "\u001b[0;32m/usr/lib/python3.5/http/client.py\u001b[0m in \u001b[0;36mgetresponse\u001b[0;34m(self)\u001b[0m\n\u001b[1;32m   1195\u001b[0m         \u001b[0;32mtry\u001b[0m\u001b[0;34m:\u001b[0m\u001b[0;34m\u001b[0m\u001b[0m\n\u001b[1;32m   1196\u001b[0m             \u001b[0;32mtry\u001b[0m\u001b[0;34m:\u001b[0m\u001b[0;34m\u001b[0m\u001b[0m\n\u001b[0;32m-> 1197\u001b[0;31m                 \u001b[0mresponse\u001b[0m\u001b[0;34m.\u001b[0m\u001b[0mbegin\u001b[0m\u001b[0;34m(\u001b[0m\u001b[0;34m)\u001b[0m\u001b[0;34m\u001b[0m\u001b[0m\n\u001b[0m\u001b[1;32m   1198\u001b[0m             \u001b[0;32mexcept\u001b[0m \u001b[0mConnectionError\u001b[0m\u001b[0;34m:\u001b[0m\u001b[0;34m\u001b[0m\u001b[0m\n\u001b[1;32m   1199\u001b[0m                 \u001b[0mself\u001b[0m\u001b[0;34m.\u001b[0m\u001b[0mclose\u001b[0m\u001b[0;34m(\u001b[0m\u001b[0;34m)\u001b[0m\u001b[0;34m\u001b[0m\u001b[0m\n",
      "\u001b[0;32m/usr/lib/python3.5/http/client.py\u001b[0m in \u001b[0;36mbegin\u001b[0;34m(self)\u001b[0m\n\u001b[1;32m    295\u001b[0m         \u001b[0;31m# read until we get a non-100 response\u001b[0m\u001b[0;34m\u001b[0m\u001b[0;34m\u001b[0m\u001b[0m\n\u001b[1;32m    296\u001b[0m         \u001b[0;32mwhile\u001b[0m \u001b[0;32mTrue\u001b[0m\u001b[0;34m:\u001b[0m\u001b[0;34m\u001b[0m\u001b[0m\n\u001b[0;32m--> 297\u001b[0;31m             \u001b[0mversion\u001b[0m\u001b[0;34m,\u001b[0m \u001b[0mstatus\u001b[0m\u001b[0;34m,\u001b[0m \u001b[0mreason\u001b[0m \u001b[0;34m=\u001b[0m \u001b[0mself\u001b[0m\u001b[0;34m.\u001b[0m\u001b[0m_read_status\u001b[0m\u001b[0;34m(\u001b[0m\u001b[0;34m)\u001b[0m\u001b[0;34m\u001b[0m\u001b[0m\n\u001b[0m\u001b[1;32m    298\u001b[0m             \u001b[0;32mif\u001b[0m \u001b[0mstatus\u001b[0m \u001b[0;34m!=\u001b[0m \u001b[0mCONTINUE\u001b[0m\u001b[0;34m:\u001b[0m\u001b[0;34m\u001b[0m\u001b[0m\n\u001b[1;32m    299\u001b[0m                 \u001b[0;32mbreak\u001b[0m\u001b[0;34m\u001b[0m\u001b[0m\n",
      "\u001b[0;32m/usr/lib/python3.5/http/client.py\u001b[0m in \u001b[0;36m_read_status\u001b[0;34m(self)\u001b[0m\n\u001b[1;32m    264\u001b[0m             \u001b[0;31m# Presumably, the server closed the connection before\u001b[0m\u001b[0;34m\u001b[0m\u001b[0;34m\u001b[0m\u001b[0m\n\u001b[1;32m    265\u001b[0m             \u001b[0;31m# sending a valid response.\u001b[0m\u001b[0;34m\u001b[0m\u001b[0;34m\u001b[0m\u001b[0m\n\u001b[0;32m--> 266\u001b[0;31m             raise RemoteDisconnected(\"Remote end closed connection without\"\n\u001b[0m\u001b[1;32m    267\u001b[0m                                      \" response\")\n\u001b[1;32m    268\u001b[0m         \u001b[0;32mtry\u001b[0m\u001b[0;34m:\u001b[0m\u001b[0;34m\u001b[0m\u001b[0m\n",
      "\u001b[0;31mRemoteDisconnected\u001b[0m: Remote end closed connection without response"
     ]
    }
   ],
   "source": [
    "result = lit_fetch(list(citing_count.keys()))\n"
   ]
  },
  {
   "cell_type": "code",
   "execution_count": null,
   "metadata": {
    "collapsed": true
   },
   "outputs": [],
   "source": [
    "df = resultdf(result)"
   ]
  },
  {
   "cell_type": "code",
   "execution_count": 128,
   "metadata": {
    "collapsed": false
   },
   "outputs": [
    {
     "data": {
      "text/plain": [
       "3"
      ]
     },
     "execution_count": 128,
     "metadata": {},
     "output_type": "execute_result"
    }
   ],
   "source": [
    "citing_count.get('10193340')"
   ]
  },
  {
   "cell_type": "code",
   "execution_count": null,
   "metadata": {
    "collapsed": false
   },
   "outputs": [],
   "source": [
    "def dataframe_from_citingpapers(citingpapers):\n",
    "    \"\"\"\n",
    "    takes our list of tuples showing which pmid cite most of our pmidgrp\n",
    "    makes a dataframe showing info for each pmid\n",
    "    \"\"\"\n",
    "    df = pd.DataFrame(citingpapers)\n",
    "    df.columns = ['pmid', 'citations of pmidgrp']\n",
    "    summaries, pubtypes, abstracts, keywords, rcrs, citing, cited = lit_search_for_topic(list(df.pmid.astype('str')))\n",
    "    df['title'] = df['pmid'].map(lambda x: summaries.get(x)['title'])\n",
    "    df['firstauthor'] = df['pmid'].map(lambda x: summaries.get(x)['sortfirstauthor'])\n",
    "    df['lastauthor'] = df['pmid'].map(lambda x: summaries.get(x)['lastauthor'])\n",
    "    df['journal'] = df['pmid'].map(lambda x: summaries.get(x)['source'])\n",
    "    df['pubdate'] = df['pmid'].map(lambda x: summaries.get(x)['sortpubdate'])\n",
    "    df['pubtype'] = df['pmid'].map(lambda x: pubtypes.get(x))\n",
    "    df['abstract'] = df['pmid'].map(lambda x: abstracts.get(x))\n",
    "    df['keywords'] = df['pmid'].map(lambda x: keywords.get(x))\n",
    "    df['rcr'] = df['pmid'].astype(int).map(lambda x: rcrs.get(x))\n",
    "    return df\n",
    "    "
   ]
  },
  {
   "cell_type": "code",
   "execution_count": null,
   "metadata": {
    "collapsed": false
   },
   "outputs": [],
   "source": [
    "df = dataframe_from_citingpapers(citingpapers)"
   ]
  },
  {
   "cell_type": "code",
   "execution_count": null,
   "metadata": {
    "collapsed": false
   },
   "outputs": [],
   "source": [
    "df.pubdate = pd.to_datetime(df.pubdate)\n",
    "df.index = df.pubdate.map(lambda x: x.year)\n",
    "df = df.sort_values(by = 'pubdate', ascending=True)\n",
    "df = df[['title','firstauthor', 'lastauthor', 'journal', 'pubtype', 'rcr', 'citations of pmidgrp']]\n",
    "df"
   ]
  },
  {
   "cell_type": "code",
   "execution_count": null,
   "metadata": {
    "collapsed": true
   },
   "outputs": [],
   "source": [
    "df.to_csv('papers_citing_ipf_occupational_dust_case_control_studies.csv')"
   ]
  },
  {
   "cell_type": "code",
   "execution_count": null,
   "metadata": {
    "collapsed": false
   },
   "outputs": [],
   "source": [
    "df.sort_values(by='citations of pmidgrp', ascending=False)"
   ]
  },
  {
   "cell_type": "code",
   "execution_count": null,
   "metadata": {
    "collapsed": true
   },
   "outputs": [],
   "source": [
    "# make something to show new things"
   ]
  },
  {
   "cell_type": "code",
   "execution_count": null,
   "metadata": {
    "collapsed": false
   },
   "outputs": [],
   "source": [
    "cited = get_cited_pmids(topic_collection['ipfjes_case_control_studies'])\n",
    "\n",
    "print ('Top cited papers (from pubmed)',\n",
    "       'for the {0} occupational IPF case-control studies found'.format(len(citing)))\n",
    "\n",
    "corpus = []\n",
    "       \n",
    "for record in cited:\n",
    "    corpus.append(cited[record])\n",
    "    \n",
    "corpus = [item for sublist in corpus for item in sublist]\n",
    "\n",
    "x = Counter(corpus)\n",
    "\n",
    "# [(l,k) for k,l in sorted([(j,i) for i,j in x.items()], reverse=True)] not that interesting because most\n",
    "# of our papers aren't in PMC and so citations not available"
   ]
  },
  {
   "cell_type": "code",
   "execution_count": null,
   "metadata": {
    "collapsed": false
   },
   "outputs": [],
   "source": [
    "import networkx as nx\n",
    "import matplotlib.pyplot as plt"
   ]
  },
  {
   "cell_type": "code",
   "execution_count": 106,
   "metadata": {
    "collapsed": false
   },
   "outputs": [
    {
     "data": {
      "text/plain": [
       "{'10841131': ['27630174',\n",
       "  '27266705',\n",
       "  '26511746',\n",
       "  '25927611',\n",
       "  '25621562',\n",
       "  '24348069',\n",
       "  '23166540',\n",
       "  '23153608',\n",
       "  '15340372'],\n",
       " '10968375': ['27630174',\n",
       "  '27266705',\n",
       "  '26893575',\n",
       "  '26761627',\n",
       "  '25933009',\n",
       "  '25927611',\n",
       "  '25621562',\n",
       "  '25208940',\n",
       "  '25022318',\n",
       "  '24901704',\n",
       "  '24413348',\n",
       "  '24348069',\n",
       "  '24015331',\n",
       "  '23716070',\n",
       "  '23153608',\n",
       "  '22917154',\n",
       "  '22448328',\n",
       "  '22429962',\n",
       "  '22268124',\n",
       "  '22029812',\n",
       "  '21850202',\n",
       "  '21743030',\n",
       "  '21668038',\n",
       "  '20070197',\n",
       "  '19740254',\n",
       "  '19590695',\n",
       "  '19223434',\n",
       "  '19129758',\n",
       "  '18366757',\n",
       "  '17999627',\n",
       "  '17897991',\n",
       "  '17710235',\n",
       "  '16928146',\n",
       "  '16844727',\n",
       "  '16324212',\n",
       "  '15340372',\n",
       "  '15262886',\n",
       "  '14508706',\n",
       "  '11686865'],\n",
       " '15640309': ['27630174',\n",
       "  '27266705',\n",
       "  '26934369',\n",
       "  '26893575',\n",
       "  '24746629',\n",
       "  '24413348',\n",
       "  '24348069',\n",
       "  '24285090',\n",
       "  '21799956',\n",
       "  '21668038',\n",
       "  '19542480'],\n",
       " '17628464': ['25927611',\n",
       "  '25621562',\n",
       "  '24413348',\n",
       "  '24348069',\n",
       "  '23153608',\n",
       "  '21668038'],\n",
       " '18507288': ['28096793',\n",
       "  '27175674',\n",
       "  '25927611',\n",
       "  '25658684',\n",
       "  '25451236',\n",
       "  '24754826',\n",
       "  '24348069',\n",
       "  '21668038'],\n",
       " '19782552': ['24746870',\n",
       "  '24559482',\n",
       "  '24413348',\n",
       "  '23640463',\n",
       "  '22787370',\n",
       "  '22449190',\n",
       "  '22079513',\n",
       "  '21668038',\n",
       "  '20822991'],\n",
       " '2249047': ['26443305',\n",
       "  '25984423',\n",
       "  '25621562',\n",
       "  '25478169',\n",
       "  '24413348',\n",
       "  '24348069',\n",
       "  '23322915',\n",
       "  '22787370',\n",
       "  '21668038',\n",
       "  '19740254',\n",
       "  '19542480',\n",
       "  '14760762',\n",
       "  '11923553',\n",
       "  '11083888',\n",
       "  '11009575',\n",
       "  '11006787',\n",
       "  '10992540',\n",
       "  '10943637',\n",
       "  '10906025',\n",
       "  '10193340',\n",
       "  '8882078',\n",
       "  '8553293',\n",
       "  '2043787',\n",
       "  '1494772'],\n",
       " '23022860': ['26761627',\n",
       "  '26741177',\n",
       "  '25621562',\n",
       "  '24746629',\n",
       "  '24413348',\n",
       "  '24348069'],\n",
       " '24413348': ['26285574', '25621562', '25121989', '24847384'],\n",
       " '8087336': ['27630174',\n",
       "  '26934369',\n",
       "  '26881370',\n",
       "  '26779535',\n",
       "  '25984423',\n",
       "  '25846532',\n",
       "  '25621562',\n",
       "  '25478169',\n",
       "  '25343109',\n",
       "  '24746629',\n",
       "  '24413348',\n",
       "  '24348069',\n",
       "  '23692170',\n",
       "  '23513242',\n",
       "  '22448329',\n",
       "  '21668038',\n",
       "  '20070197',\n",
       "  '19740254',\n",
       "  '19542480',\n",
       "  '19129758',\n",
       "  '18855988',\n",
       "  '16738191',\n",
       "  '15340372',\n",
       "  '15262886',\n",
       "  '14595745',\n",
       "  '11923553',\n",
       "  '11009575',\n",
       "  '10992540',\n",
       "  '10193340',\n",
       "  '8882078'],\n",
       " '8569361': ['27630174',\n",
       "  '27266705',\n",
       "  '26934369',\n",
       "  '26594173',\n",
       "  '26511746',\n",
       "  '26331942',\n",
       "  '25797422',\n",
       "  '25621562',\n",
       "  '25524739',\n",
       "  '25343109',\n",
       "  '25121989',\n",
       "  '25022318',\n",
       "  '24746629',\n",
       "  '24413348',\n",
       "  '24348069',\n",
       "  '23322915',\n",
       "  '23153608',\n",
       "  '22787370',\n",
       "  '22448328',\n",
       "  '21668038',\n",
       "  '20070197',\n",
       "  '19542480',\n",
       "  '17999627',\n",
       "  '16891438',\n",
       "  '16844727',\n",
       "  '15340372',\n",
       "  '15286797',\n",
       "  '14760762',\n",
       "  '14595745',\n",
       "  '11923553',\n",
       "  '11686865',\n",
       "  '11359966',\n",
       "  '11254818',\n",
       "  '11122454',\n",
       "  '11009575',\n",
       "  '10992540',\n",
       "  '10931794',\n",
       "  '10639533',\n",
       "  '10193340',\n",
       "  '9039238'],\n",
       " '9571528': ['24348069', '21668038', '19542480']}"
      ]
     },
     "execution_count": 106,
     "metadata": {},
     "output_type": "execute_result"
    }
   ],
   "source": [
    "citing"
   ]
  },
  {
   "cell_type": "code",
   "execution_count": null,
   "metadata": {
    "collapsed": false
   },
   "outputs": [],
   "source": [
    "# G = nx.DiGraph(nx.from_dict_of_lists(citing))\n",
    "\n",
    "G = nx.from_dict_of_lists(citing)\n",
    "\n",
    "pos=nx.spring_layout(G)\n",
    "  \n",
    "nx.draw_networkx_nodes(G,pos,\n",
    "                       nodelist=citing.keys(),\n",
    "                       node_color='r',\n",
    "                       node_size=[len(v) * 50 for v in citing.values()],\n",
    "                       alpha=0.8)\n",
    "\n",
    "nx.draw_networkx_nodes(G,pos,\n",
    "                       nodelist=[item for sublist in citing.values() for item in sublist],\n",
    "                       node_color='b',\n",
    "                       node_size=50,\n",
    "                       alpha=0.8)\n",
    "\n",
    "nx.draw_networkx_edges(G,pos,width=1.0,alpha=0.5)\n",
    "\n",
    "print ('IPF case-control studies and their citing papers\\n')\n",
    "\n",
    "labels = {}\n",
    "\n",
    "for i, item in enumerate(citing):\n",
    "    labels[item] = i\n",
    "    \n",
    "    \n",
    "print ('Key : pubmed id : title author year')\n",
    "for i, item in enumerate(labels):\n",
    "    print(i,':', item, get_pubmed_summaries([item])[item]['title'],\n",
    "          get_pubmed_summaries([item])[item]['sortfirstauthor'], \n",
    "          get_pubmed_summaries([item])[item]['sortpubdate'][:4])\n",
    "    \n",
    "nx.draw_networkx_labels(G,pos,labels,font_size=8)\n",
    "        \n",
    "plt.savefig('PapersThatIPFCaseControlStudies.png')"
   ]
  },
  {
   "cell_type": "code",
   "execution_count": null,
   "metadata": {
    "collapsed": true
   },
   "outputs": [],
   "source": [
    "# need to sort paper (and label order)\n",
    "# consider weighting size of citing papers by RSI\n",
    "# classification\n",
    "# flask app\n",
    "# ?hover over labels in networkx\n",
    "# http://nbviewer.jupyter.org/urls/ep2016.europython.eu/media/conference/slides/networkx-visualization-powered-by-bokeh.ipynb\n",
    "# https://github.com/bokeh/bokeh/blob/master/examples/plotting/file/graphs.py\n",
    "# https://andrewmellor.co.uk/blog/articles/2014/12/14/d3-networks/"
   ]
  },
  {
   "cell_type": "code",
   "execution_count": null,
   "metadata": {
    "collapsed": true
   },
   "outputs": [],
   "source": []
  }
 ],
 "metadata": {
  "kernelspec": {
   "display_name": "Python 3",
   "language": "python",
   "name": "python3"
  },
  "language_info": {
   "codemirror_mode": {
    "name": "ipython",
    "version": 3
   },
   "file_extension": ".py",
   "mimetype": "text/x-python",
   "name": "python",
   "nbconvert_exporter": "python",
   "pygments_lexer": "ipython3",
   "version": "3.5.2"
  }
 },
 "nbformat": 4,
 "nbformat_minor": 2
}
