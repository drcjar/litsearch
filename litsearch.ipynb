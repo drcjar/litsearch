{
 "cells": [
  {
   "cell_type": "markdown",
   "metadata": {},
   "source": [
    "### A notebook to support academic question exploration and literature search / what do you do when you search the literature?\n",
    "\n",
    "0. Define a research question e.g Is occupational **asbestos exposure** an underecognised **cause** of IPF? \n",
    "1. Consider the different possible ways of answering the question (methods). Different study designs and ways of measuring asbestos exposure e.g Epidemiological, observational, cross-sectional, cohort, case-control, post-mortem and explant studies, ecological, toxicology, animal models, molecular disease models, exposure assessment, occupational hygeinst measurements, minerologic analysis (tissue, BAL etc)\n",
    "2. Generate search terms e.g \"IPF\", \"case-control\", \"occupational\", \"asbestos\" (? && mesh terms)\n",
    "3. Carry out search using search terms and e.g pubmed, embase, google scholar, scopus, biorxiv, web of science, clinicaltrials.gov, ?google books\n",
    "4. Search results == Candidate Papers\n",
    "5. Extract title | journal | author | location | year | abstract | key words | full text && save result (as .bib) (prob want to export to jabref)\n",
    "6. Review Candidate Papers to identify Relevant Papers \n",
    "7. Use Relevant Papers to identify more Candidate papers. Search also by author, cited by, cite, [triangle closing](https://en.wikipedia.org/wiki/Triadic_closure) e.g https://github.com/hinnefe2/bibcheck.py and other means (?tensorflow/scikit-learn,nltk)\n",
    "8. Use the Relevant Papers collected for whatever it is they are relevant for (usually to help compose a written document in which they are cited)\n",
    "9. ?django app times\n",
    "\n",
    "meta: github/stack exchange etc to check out other peoples search strategies. this is likely to be formulated as a machine learning problem somewhere."
   ]
  },
  {
   "cell_type": "markdown",
   "metadata": {},
   "source": [
    "#### interesting related I found includes: https://www.projectcredo.com/, http://citationexplorer.hoppmann.me/, lict from a previous nhshackday, https://github.com/jvoytek/pubmedbrain/blob/f5170a2e3540e0c2aa665559c86048dfb1583f16/documents/Voytek-brainSCANrPreprint.pdf, https://github.com/graeham/hackathon/blob/master/paperGraph.py"
   ]
  },
  {
   "cell_type": "markdown",
   "metadata": {},
   "source": [
    "### search github for relevant stuff with the following 'webbit' \n",
    "> https://github.com/search?l=Python&q=http%3A%2F%2Feutils.ncbi.nlm.nih.gov%2Fentrez%2Feutils%2Fesearch.fcgi++stars%3A%3E5&ref=advsearch&type=Code&utf8=%E2%9C%93\n",
    "\n",
    "gists and interwebs inc stackoverflow also helpful"
   ]
  },
  {
   "cell_type": "markdown",
   "metadata": {},
   "source": [
    "tempting to dive into django a la https://github.com/afouchet/OpenReview but probably not essential and now is not optimal timing"
   ]
  },
  {
   "cell_type": "markdown",
   "metadata": {},
   "source": [
    "https://github.com/gui11aume looks well documented, poss useful template\n",
    "https://github.com/swcarpentry/2013-08-23-harvard/blob/b2097bc20833e0a58b2e73eecd1227d61bd5a00a/lessons/misc-biopython/eutils.md looks like nice intro to biopython utils and https://gist.github.com/bonzanini/5a4c39e4c02502a8451d, https://gist.github.com/ehazlett/1104507, https://gist.github.com/vtrubets/ef1dabb397ea6a05ce5b4e767ed15af9 (for use of icite), https://gist.github.com/mcfrank/c1ec74df1427278cbe53, http://stackoverflow.com/questions/17409107/obtaining-data-from-pubmed-using-python, https://github.com/bwallace/abstrackr-web/tree/master/abstrackr, http://www.billconnelly.net/?p=44"
   ]
  },
  {
   "cell_type": "markdown",
   "metadata": {},
   "source": [
    "### let's tackle pubmed first"
   ]
  },
  {
   "cell_type": "code",
   "execution_count": 1,
   "metadata": {
    "collapsed": false
   },
   "outputs": [
    {
     "data": {
      "text/plain": [
       "'\\nNotebook to support academic question exploration and literature search.\\n\\nThanks to https://marcobonzanini.wordpress.com/2015/01/12/searching-pubmed-with-python/ and \\nhttp://www.fredtrotter.com/2014/11/14/hacking-on-the-pubmed-api/ and vtrubets\\nhttps://gist.github.com/vtrubets/ef1dabb397ea6a05ce5b4e767ed15af9 \\n\\nPubmed advanced search is helpful for designing search/experimenting \\nhttps://www.ncbi.nlm.nih.gov/pubmed/advanced\\n\\nDocs for NCBI esearch:\\nhttps://www.ncbi.nlm.nih.gov/books/NBK25499/#chapter4.ESearch\\nhttps://www.nlm.nih.gov/bsd/mms/medlineelements.html\\n'"
      ]
     },
     "execution_count": 1,
     "metadata": {},
     "output_type": "execute_result"
    }
   ],
   "source": [
    "\"\"\"\n",
    "Notebook to support academic question exploration and literature search.\n",
    "\n",
    "Thanks to https://marcobonzanini.wordpress.com/2015/01/12/searching-pubmed-with-python/ and \n",
    "http://www.fredtrotter.com/2014/11/14/hacking-on-the-pubmed-api/ and vtrubets\n",
    "https://gist.github.com/vtrubets/ef1dabb397ea6a05ce5b4e767ed15af9 \n",
    "\n",
    "Pubmed advanced search is helpful for designing search/experimenting \n",
    "https://www.ncbi.nlm.nih.gov/pubmed/advanced\n",
    "\n",
    "Docs for NCBI esearch:\n",
    "https://www.ncbi.nlm.nih.gov/books/NBK25499/#chapter4.ESearch\n",
    "https://www.nlm.nih.gov/bsd/mms/medlineelements.html\n",
    "\"\"\"\n"
   ]
  },
  {
   "cell_type": "code",
   "execution_count": 29,
   "metadata": {
    "collapsed": false
   },
   "outputs": [],
   "source": [
    "from Bio import Entrez\n",
    "from Bio import Medline\n",
    "from tqdm import tqdm\n",
    "from collections import Counter\n",
    "import json\n",
    "import requests\n",
    "import pandas as pd\n",
    "import pickle \n",
    "import matplotlib.pyplot as plt\n",
    "%matplotlib inline"
   ]
  },
  {
   "cell_type": "code",
   "execution_count": 3,
   "metadata": {
    "collapsed": false
   },
   "outputs": [],
   "source": [
    "def get_chunked_pmids(term, chunksize=50):\n",
    "    \"\"\"\n",
    "    Return a list of Pubmed ids from pubmed search in chunks\n",
    "    \"\"\"\n",
    "    Entrez.email = \"carl.reynolds@imperial.ac.uk\"\n",
    "    count_handle = Entrez.esearch(db=\"pubmed\",\n",
    "                                  term=term,\n",
    "                                  retmode=\"xml\",\n",
    "                                  rettype=\"count\")\n",
    "    count_results = Entrez.read(count_handle)\n",
    "    count = int(count_results[\"Count\"])\n",
    "\n",
    "    retmax_requests = list(range(chunksize, count, chunksize))\n",
    "    retmax_requests.append(count - retmax_requests[len(retmax_requests) - 1])\n",
    "\n",
    "    for i, retmax in enumerate(retmax_requests):\n",
    "        pmid_handle = Entrez.esearch(db=\"pubmed\",\n",
    "                                     term=term,\n",
    "                                     sort=\"relevance\",\n",
    "                                     retmode=\"xml\",\n",
    "                                     usehistory='y',\n",
    "                                     retstart=retmax,\n",
    "                                     retmax=chunksize)\n",
    "        results = Entrez.read(pmid_handle)\n",
    "        yield results[\"IdList\"]"
   ]
  },
  {
   "cell_type": "code",
   "execution_count": 4,
   "metadata": {
    "collapsed": false
   },
   "outputs": [],
   "source": [
    "def get_pubmed_summaries(pubmed_id):\n",
    "    \"\"\"\n",
    "    Use the Pubmed API to return the summary of a pubmed article\n",
    "    \"\"\"\n",
    "    Entrez.email = \"carl.reynolds@imperial.ac.uk\"\n",
    "    pubmed_id = ', '.join(map(str, pubmed_id))\n",
    "    handle = Entrez.esummary(db='pubmed', \n",
    "                             id=pubmed_id, \n",
    "                             retmode='json', \n",
    "                             rettype='abstract')\n",
    "    return json.loads(handle.read())['result']\n",
    "  "
   ]
  },
  {
   "cell_type": "code",
   "execution_count": 5,
   "metadata": {
    "collapsed": false
   },
   "outputs": [],
   "source": [
    "def get_pubmed_keywords(pubmed_id):\n",
    "    \"\"\"\n",
    "    Use the Pubmed API to return the medline record and extract the key words of a pubmed article.\n",
    "    Return {pmid:[list of keywords]}.\n",
    "    \"\"\"\n",
    "    Entrez.email = \"carl.reynolds@imperial.ac.uk\"\n",
    "    handle = Entrez.efetch(db='pubmed',\n",
    "                           id=pubmed_id,\n",
    "                           rettype='medline',\n",
    "                           retmode='text')\n",
    "    records = Medline.parse(handle)\n",
    "    keywords = {}\n",
    "    for record in records:\n",
    "        pmid = record.get('PMID','?')\n",
    "        mh = record.get('MH','?')\n",
    "        keywords[pmid] = mh\n",
    "    return keywords"
   ]
  },
  {
   "cell_type": "code",
   "execution_count": 6,
   "metadata": {
    "collapsed": true
   },
   "outputs": [],
   "source": [
    "def get_pubmed_abstracts(pubmed_id):\n",
    "    \"\"\"\n",
    "    Use the Pubmed API to return the medline record and extract the abstract of a pubmed article.\n",
    "    Return {pmid:abstract}.\n",
    "    \"\"\"\n",
    "    Entrez.email = \"carl.reynolds@imperial.ac.uk\"\n",
    "    handle = Entrez.efetch(db='pubmed',\n",
    "                           id=pubmed_id,\n",
    "                           rettype='medline',\n",
    "                           retmode='text')\n",
    "    records = Medline.parse(handle)\n",
    "    abstracts = {}\n",
    "    for record in records:\n",
    "        pmid = record.get('PMID','?')\n",
    "        ab = record.get('AB','?')\n",
    "        abstracts[pmid] = ab\n",
    "    return abstracts"
   ]
  },
  {
   "cell_type": "code",
   "execution_count": 7,
   "metadata": {
    "collapsed": true
   },
   "outputs": [],
   "source": [
    "def get_pubmed_pubtypes(pubmed_id):\n",
    "    \"\"\"\n",
    "    Use the Pubmed API to return the medline record and extract the abstract of a pubmed article.\n",
    "    Return {pmid:pubtype}.\n",
    "    \"\"\"\n",
    "    Entrez.email = \"carl.reynolds@imperial.ac.uk\"\n",
    "    handle = Entrez.efetch(db='pubmed',\n",
    "                           id=pubmed_id,\n",
    "                           rettype='medline',\n",
    "                           retmode='text')\n",
    "    records = Medline.parse(handle)\n",
    "    pubtypes = {}\n",
    "    for record in records:\n",
    "        pmid = record.get('PMID','?')\n",
    "        pt = record.get('PT','?')\n",
    "        pubtypes[pmid] = pt\n",
    "    return pubtypes"
   ]
  },
  {
   "cell_type": "code",
   "execution_count": 8,
   "metadata": {
    "collapsed": false
   },
   "outputs": [],
   "source": [
    "def get_citation_information(pubmed_id):\n",
    "    \"\"\"\n",
    "    Use the special citation api to return relative citation ratios\n",
    "    \"\"\"\n",
    "    pubmed_id = ','.join(pubmed_id)\n",
    "    citation_search = 'https://icite.od.nih.gov/api/pubs?pmids={0}'.format(pubmed_id)\n",
    "    response = requests.get(citation_search).content\n",
    "    str_response = response.decode('utf-8')\n",
    "    \n",
    "    try:\n",
    "        data = json.loads(str_response)['data']\n",
    "    except KeyError:\n",
    "        data = False\n",
    "         \n",
    "    citations = {}\n",
    "    \n",
    "    if data:\n",
    "        for record in data:\n",
    "            pmid = record.get('pmid')\n",
    "            rcr = record.get('relative_citation_ratio')\n",
    "            citations[pmid] = rcr\n",
    "            \n",
    "    return citations\n",
    "        "
   ]
  },
  {
   "cell_type": "code",
   "execution_count": 9,
   "metadata": {
    "collapsed": false
   },
   "outputs": [],
   "source": [
    "def lit_search(term):\n",
    "    \"\"\"\n",
    "    Search pubmed for a term and collect information about the results\n",
    "    \"\"\"\n",
    "    pmid_blocks = get_chunked_pmids(term, chunksize=200)\n",
    "    summaries = []\n",
    "    pubtypes = []\n",
    "    abstracts = []\n",
    "    keywords = []\n",
    "    rcrs = []\n",
    "    litsearch_results = [summaries, pubtypes, abstracts, keywords, rcrs]\n",
    "    for i, block in enumerate(pmid_blocks):\n",
    "        summaries.append(get_pubmed_summaries(block))\n",
    "        pubtypes.append(get_pubmed_pubtypes(block))\n",
    "        abstracts.append(get_pubmed_abstracts(block))\n",
    "        keywords.append(get_pubmed_keywords(block))\n",
    "        rcrs.append(get_citation_information(block))\n",
    "        print(\"Processed block {0}\".format(i))\n",
    "    pickle.dump( litsearch_results, open( \"litsearch_results_{0}.p\".format(term), \"wb\" ) )\n",
    "    return summaries, pubtypes, abstracts, keywords, rcrs\n",
    "        "
   ]
  },
  {
   "cell_type": "code",
   "execution_count": 10,
   "metadata": {
    "collapsed": false
   },
   "outputs": [],
   "source": [
    "def lit_search_for_topic(topic):\n",
    "    \"\"\"\n",
    "    Search pubmed for a term and collect information about the results\n",
    "    \"\"\"\n",
    "\n",
    "    summaries = get_pubmed_summaries(topic)\n",
    "    pubtypes = get_pubmed_pubtypes(topic)\n",
    "    abstracts = get_pubmed_abstracts(topic)\n",
    "    keywords = get_pubmed_keywords(topic)\n",
    "    rcrs = get_citation_information(topic)\n",
    "    #pickle.dump( litsearch_results, open( \"litsearch_results_{0}.p\".format(term), \"wb\" ) )\n",
    "    \n",
    "    return summaries, pubtypes, abstracts, keywords, rcrs\n",
    "        "
   ]
  },
  {
   "cell_type": "code",
   "execution_count": 11,
   "metadata": {
    "collapsed": false
   },
   "outputs": [],
   "source": [
    "def make_result_dataframe( term, summaries, pubtypes, abstracts, keywords, rcrs ):\n",
    "    \n",
    "    pmid_blocks = get_chunked_pmids(term, chunksize=200)\n",
    "    pmids = list(pmid_blocks)\n",
    "\n",
    "    d = {}\n",
    "\n",
    "    #for i, pmid in enumerate(pmids):\n",
    "    for i, summary in enumerate(summaries):\n",
    "        d[i] = pd.DataFrame(pmids[i], columns=['pmid'])\n",
    "        d[i]['title'] = d[i]['pmid'].map(lambda x: summaries[i].get(x)['title'])\n",
    "        d[i]['firstauthor'] = d[i]['pmid'].map(lambda x: summaries[i].get(x)['sortfirstauthor'])\n",
    "        d[i]['lastauthor'] = d[i]['pmid'].map(lambda x: summaries[i].get(x)['lastauthor'])\n",
    "        d[i]['journal'] = d[i]['pmid'].map(lambda x: summaries[i].get(x)['source'])\n",
    "        d[i]['pubdate'] = d[i]['pmid'].map(lambda x: summaries[i].get(x)['sortpubdate'])\n",
    "        d[i]['pubtype'] = d[i]['pmid'].map(lambda x: pubtypes[i].get(x))\n",
    "        d[i]['abstract'] = d[i]['pmid'].map(lambda x: abstracts[i].get(x))\n",
    "        d[i]['keywords'] = d[i]['pmid'].map(lambda x: keywords[i].get(x))\n",
    "        d[i]['rcr'] = d[i]['pmid'].astype(int).map(lambda x: rcrs[i].get(x))\n",
    "            \n",
    "    df = pd.concat(d.values(), ignore_index=True)\n",
    "    pd.set_option('max_colwidth',300)\n",
    "    return df"
   ]
  },
  {
   "cell_type": "code",
   "execution_count": 12,
   "metadata": {
    "collapsed": true
   },
   "outputs": [],
   "source": [
    "def make_result_dataframe_for_topic( topic, summaries, pubtypes, abstracts, keywords, rcrs ):\n",
    "    \n",
    "    df = pd.DataFrame(topic, columns=['pmid'])\n",
    "    df['title'] = df['pmid'].map(lambda x: summaries.get(x)['title'])\n",
    "    df['firstauthor'] = df['pmid'].map(lambda x: summaries.get(x)['sortfirstauthor'])\n",
    "    df['lastauthor'] = df['pmid'].map(lambda x: summaries.get(x)['lastauthor'])\n",
    "    df['journal'] = df['pmid'].map(lambda x: summaries.get(x)['source'])\n",
    "    df['pubdate'] = df['pmid'].map(lambda x: summaries.get(x)['sortpubdate'])\n",
    "    df['pubtype'] = df['pmid'].map(lambda x: pubtypes.get(x))\n",
    "    df['abstract'] = df['pmid'].map(lambda x: abstracts.get(x))\n",
    "    df['keywords'] = df['pmid'].map(lambda x: keywords.get(x))\n",
    "    df['rcr'] = df['pmid'].astype(int).map(lambda x: rcrs.get(x))\n",
    "    pd.set_option('max_colwidth',300)\n",
    "    return df"
   ]
  },
  {
   "cell_type": "code",
   "execution_count": 13,
   "metadata": {
    "collapsed": false
   },
   "outputs": [],
   "source": [
    "def save_results_as_csv(term, df):\n",
    "    name = term.replace(\" \", \"-\")\n",
    "    df.to_csv(name+\".csv\")"
   ]
  },
  {
   "cell_type": "code",
   "execution_count": 14,
   "metadata": {
    "collapsed": true
   },
   "outputs": [],
   "source": [
    "def explore_result_dataframe(df):\n",
    "    df.sort_values(by='rcr', ascending=False).head()\n",
    "    df.firstauthor.value_counts().head()\n",
    "    df.lastauthor.value_counts().head()\n",
    "    df.journal.value_counts().head()\n",
    "    df.pubtype.astype(str).value_counts().head()\n",
    "    df[df.abstract.str.contains('case-control')].head()\n",
    "    df.pubdate = pd.to_datetime(df.pubdate)\n",
    "    df.index = df.pubdate\n",
    "    df.groupby(df.pubdate.map(lambda x: x.year)).pmid.count().plot(kind='bar')"
   ]
  },
  {
   "cell_type": "code",
   "execution_count": 15,
   "metadata": {
    "collapsed": false
   },
   "outputs": [],
   "source": [
    "terms = ['idiopathic pulmonary fibrosis', 'cryptogenic fibrosing alveolitis',\n",
    "        'usual interstitial pneumonia', 'asbestosis']\n",
    "\n",
    "def litsearch_terms(terms):\n",
    "    for term in terms:\n",
    "        summaries, pubtypes, abstracts, keywords, rcrs = lit_search(term)\n",
    "        df = make_result_dataframe( term, summaries, pubtypes, abstracts, keywords, rcrs )\n",
    "        save_results_as_csv(term, df)\n",
    "        print(explore_result_dataframe(df))"
   ]
  },
  {
   "cell_type": "code",
   "execution_count": 16,
   "metadata": {
    "collapsed": false
   },
   "outputs": [],
   "source": [
    "topic_collection = {\"ipfjes_case_control_studies\" : ['23022860', '10968375', '24413348', '19782552', '17628464', \n",
    "                                                     '10841131', '8569361', '8087336', '15640309', '9571528', \n",
    "                                                     '18507288', '23022860', '2249047'], \n",
    "                    \"ipfjes_reviews\" : ['25621562', '24348069', '10193340', '11816818', '15331187', '16733403']}\n",
    "\n",
    "\n",
    "def litsearch_topics(topic_collection):\n",
    "    for topic in topic_collection:\n",
    "        summaries, pubtypes, abstracts, keywords, rcrs = lit_search_for_topic(topic_collection[topic])\n",
    "        df = make_result_dataframe_for_topic( topic_collection[topic], summaries, pubtypes, abstracts, keywords, rcrs )\n",
    "        save_results_as_csv(topic, df)\n",
    "        "
   ]
  },
  {
   "cell_type": "code",
   "execution_count": 17,
   "metadata": {
    "collapsed": false
   },
   "outputs": [],
   "source": [
    "#litsearch_terms(terms)"
   ]
  },
  {
   "cell_type": "code",
   "execution_count": 18,
   "metadata": {
    "collapsed": false
   },
   "outputs": [],
   "source": [
    "df = pd.read_csv('idiopathic-pulmonary-fibrosis.csv', usecols=['pmid','title','firstauthor','lastauthor',\n",
    "                                                             'journal','pubdate','pubtype',\n",
    "                                                             'abstract', 'keywords', 'rcr'])"
   ]
  },
  {
   "cell_type": "code",
   "execution_count": 19,
   "metadata": {
    "collapsed": false
   },
   "outputs": [
    {
     "name": "stdout",
     "output_type": "stream",
     "text": [
      "Number of pubmed IPF papers per year\n"
     ]
    },
    {
     "data": {
      "image/png": "[encoded data removed]",
      "text/plain": [
       "<matplotlib.figure.Figure at 0x7f26150bd7f0>"
      ]
     },
     "metadata": {},
     "output_type": "display_data"
    }
   ],
   "source": [
    "print ('Number of pubmed IPF papers per year')\n",
    "explore_result_dataframe(df)"
   ]
  },
  {
   "cell_type": "code",
   "execution_count": 20,
   "metadata": {
    "collapsed": false
   },
   "outputs": [
    {
     "name": "stdout",
     "output_type": "stream",
     "text": [
      "Top 5 first authors for IPF\n"
     ]
    },
    {
     "data": {
      "text/plain": [
       "Raghu G        44\n",
       "Cottin V       42\n",
       "Selman M       27\n",
       "Behr J         27\n",
       "Antoniou KM    24\n",
       "Name: firstauthor, dtype: int64"
      ]
     },
     "execution_count": 20,
     "metadata": {},
     "output_type": "execute_result"
    }
   ],
   "source": [
    "print ('Top 5 first authors for IPF')\n",
    "df.firstauthor.value_counts().head()\n"
   ]
  },
  {
   "cell_type": "code",
   "execution_count": 21,
   "metadata": {
    "collapsed": false
   },
   "outputs": [
    {
     "name": "stdout",
     "output_type": "stream",
     "text": [
      "Top 5 last authors for IPF\n"
     ]
    },
    {
     "data": {
      "text/plain": [
       "Collard HR    46\n",
       "Wells AU      43\n",
       "Bouros D      42\n",
       "Raghu G       41\n",
       "Crystal RG    39\n",
       "Name: lastauthor, dtype: int64"
      ]
     },
     "execution_count": 21,
     "metadata": {},
     "output_type": "execute_result"
    }
   ],
   "source": [
    "print ('Top 5 last authors for IPF')\n",
    "df.lastauthor.value_counts().head()\n"
   ]
  },
  {
   "cell_type": "code",
   "execution_count": 22,
   "metadata": {
    "collapsed": false
   },
   "outputs": [
    {
     "name": "stdout",
     "output_type": "stream",
     "text": [
      "Top 5 journals for IPF\n"
     ]
    },
    {
     "data": {
      "text/plain": [
       "Am J Respir Crit Care Med    397\n",
       "Chest                        273\n",
       "Eur Respir J                 268\n",
       "Respir Med                   158\n",
       "Thorax                       144\n",
       "Name: journal, dtype: int64"
      ]
     },
     "execution_count": 22,
     "metadata": {},
     "output_type": "execute_result"
    }
   ],
   "source": [
    "print ('Top 5 journals for IPF')\n",
    "df.journal.value_counts().head()\n"
   ]
  },
  {
   "cell_type": "code",
   "execution_count": 23,
   "metadata": {
    "collapsed": false
   },
   "outputs": [
    {
     "data": {
      "text/html": [
       "<div>\n",
       "<table border=\"1\" class=\"dataframe\">\n",
       "  <thead>\n",
       "    <tr style=\"text-align: right;\">\n",
       "      <th></th>\n",
       "      <th>pmid</th>\n",
       "      <th>title</th>\n",
       "      <th>firstauthor</th>\n",
       "      <th>lastauthor</th>\n",
       "      <th>journal</th>\n",
       "      <th>pubdate</th>\n",
       "      <th>pubtype</th>\n",
       "      <th>abstract</th>\n",
       "      <th>keywords</th>\n",
       "      <th>rcr</th>\n",
       "    </tr>\n",
       "    <tr>\n",
       "      <th>pubdate</th>\n",
       "      <th></th>\n",
       "      <th></th>\n",
       "      <th></th>\n",
       "      <th></th>\n",
       "      <th></th>\n",
       "      <th></th>\n",
       "      <th></th>\n",
       "      <th></th>\n",
       "      <th></th>\n",
       "      <th></th>\n",
       "    </tr>\n",
       "  </thead>\n",
       "  <tbody>\n",
       "    <tr>\n",
       "      <th>2011-03-15</th>\n",
       "      <td>21471066</td>\n",
       "      <td>An official ATS/ERS/JRS/ALAT statement: idiopa...</td>\n",
       "      <td>Raghu G</td>\n",
       "      <td>Schünemann HJ</td>\n",
       "      <td>Am J Respir Crit Care Med</td>\n",
       "      <td>2011-03-15</td>\n",
       "      <td>['Journal Article', 'Practice Guideline', \"Res...</td>\n",
       "      <td>This document is an international evidence-bas...</td>\n",
       "      <td>['Europe', '*Evidence-Based Medicine', 'Humans...</td>\n",
       "      <td>102.409113</td>\n",
       "    </tr>\n",
       "    <tr>\n",
       "      <th>2014-05-29</th>\n",
       "      <td>24836310</td>\n",
       "      <td>Efficacy and safety of nintedanib in idiopathi...</td>\n",
       "      <td>Richeldi L</td>\n",
       "      <td>Collard HR</td>\n",
       "      <td>N Engl J Med</td>\n",
       "      <td>2014-05-29</td>\n",
       "      <td>['Clinical Trial, Phase III', 'Journal Article...</td>\n",
       "      <td>BACKGROUND: Nintedanib (formerly known as BIBF...</td>\n",
       "      <td>['Aged', 'Disease Progression', 'Double-Blind ...</td>\n",
       "      <td>62.965059</td>\n",
       "    </tr>\n",
       "    <tr>\n",
       "      <th>2014-05-29</th>\n",
       "      <td>24836310</td>\n",
       "      <td>Efficacy and safety of nintedanib in idiopathi...</td>\n",
       "      <td>Richeldi L</td>\n",
       "      <td>Collard HR</td>\n",
       "      <td>N Engl J Med</td>\n",
       "      <td>2014-05-29</td>\n",
       "      <td>['Clinical Trial, Phase III', 'Journal Article...</td>\n",
       "      <td>BACKGROUND: Nintedanib (formerly known as BIBF...</td>\n",
       "      <td>['Aged', 'Disease Progression', 'Double-Blind ...</td>\n",
       "      <td>62.965059</td>\n",
       "    </tr>\n",
       "    <tr>\n",
       "      <th>2008-01-01</th>\n",
       "      <td>18161745</td>\n",
       "      <td>Cellular and molecular mechanisms of fibrosis.</td>\n",
       "      <td>Wynn TA</td>\n",
       "      <td>Wynn TA</td>\n",
       "      <td>J Pathol</td>\n",
       "      <td>2008-01-01</td>\n",
       "      <td>['Journal Article', 'Research Support, N.I.H.,...</td>\n",
       "      <td>Fibrosis is defined by the overgrowth, hardeni...</td>\n",
       "      <td>['Angiotensin II/physiology', 'Chemokines/immu...</td>\n",
       "      <td>53.192960</td>\n",
       "    </tr>\n",
       "    <tr>\n",
       "      <th>2013-09-15</th>\n",
       "      <td>24032382</td>\n",
       "      <td>An official American Thoracic Society/European...</td>\n",
       "      <td>Travis WD</td>\n",
       "      <td>Valeyre D</td>\n",
       "      <td>Am J Respir Crit Care Med</td>\n",
       "      <td>2013-09-15</td>\n",
       "      <td>['Journal Article', 'Practice Guideline', \"Res...</td>\n",
       "      <td>BACKGROUND: In 2002 the American Thoracic Soci...</td>\n",
       "      <td>['Diagnosis, Differential', 'Europe', 'Humans'...</td>\n",
       "      <td>51.915389</td>\n",
       "    </tr>\n",
       "  </tbody>\n",
       "</table>\n",
       "</div>"
      ],
      "text/plain": [
       "                pmid                                              title  \\\n",
       "pubdate                                                                   \n",
       "2011-03-15  21471066  An official ATS/ERS/JRS/ALAT statement: idiopa...   \n",
       "2014-05-29  24836310  Efficacy and safety of nintedanib in idiopathi...   \n",
       "2014-05-29  24836310  Efficacy and safety of nintedanib in idiopathi...   \n",
       "2008-01-01  18161745     Cellular and molecular mechanisms of fibrosis.   \n",
       "2013-09-15  24032382  An official American Thoracic Society/European...   \n",
       "\n",
       "           firstauthor     lastauthor                    journal    pubdate  \\\n",
       "pubdate                                                                       \n",
       "2011-03-15     Raghu G  Schünemann HJ  Am J Respir Crit Care Med 2011-03-15   \n",
       "2014-05-29  Richeldi L     Collard HR               N Engl J Med 2014-05-29   \n",
       "2014-05-29  Richeldi L     Collard HR               N Engl J Med 2014-05-29   \n",
       "2008-01-01     Wynn TA        Wynn TA                   J Pathol 2008-01-01   \n",
       "2013-09-15   Travis WD      Valeyre D  Am J Respir Crit Care Med 2013-09-15   \n",
       "\n",
       "                                                      pubtype  \\\n",
       "pubdate                                                         \n",
       "2011-03-15  ['Journal Article', 'Practice Guideline', \"Res...   \n",
       "2014-05-29  ['Clinical Trial, Phase III', 'Journal Article...   \n",
       "2014-05-29  ['Clinical Trial, Phase III', 'Journal Article...   \n",
       "2008-01-01  ['Journal Article', 'Research Support, N.I.H.,...   \n",
       "2013-09-15  ['Journal Article', 'Practice Guideline', \"Res...   \n",
       "\n",
       "                                                     abstract  \\\n",
       "pubdate                                                         \n",
       "2011-03-15  This document is an international evidence-bas...   \n",
       "2014-05-29  BACKGROUND: Nintedanib (formerly known as BIBF...   \n",
       "2014-05-29  BACKGROUND: Nintedanib (formerly known as BIBF...   \n",
       "2008-01-01  Fibrosis is defined by the overgrowth, hardeni...   \n",
       "2013-09-15  BACKGROUND: In 2002 the American Thoracic Soci...   \n",
       "\n",
       "                                                     keywords         rcr  \n",
       "pubdate                                                                    \n",
       "2011-03-15  ['Europe', '*Evidence-Based Medicine', 'Humans...  102.409113  \n",
       "2014-05-29  ['Aged', 'Disease Progression', 'Double-Blind ...   62.965059  \n",
       "2014-05-29  ['Aged', 'Disease Progression', 'Double-Blind ...   62.965059  \n",
       "2008-01-01  ['Angiotensin II/physiology', 'Chemokines/immu...   53.192960  \n",
       "2013-09-15  ['Diagnosis, Differential', 'Europe', 'Humans'...   51.915389  "
      ]
     },
     "execution_count": 23,
     "metadata": {},
     "output_type": "execute_result"
    }
   ],
   "source": [
    "df.sort_values(by='rcr', ascending=False).head()\n"
   ]
  },
  {
   "cell_type": "code",
   "execution_count": 24,
   "metadata": {
    "collapsed": false
   },
   "outputs": [
    {
     "data": {
      "text/html": [
       "<div>\n",
       "<table border=\"1\" class=\"dataframe\">\n",
       "  <thead>\n",
       "    <tr style=\"text-align: right;\">\n",
       "      <th></th>\n",
       "      <th>title</th>\n",
       "      <th>firstauthor</th>\n",
       "      <th>lastauthor</th>\n",
       "      <th>pubtype</th>\n",
       "      <th>keywords</th>\n",
       "    </tr>\n",
       "    <tr>\n",
       "      <th>pubdate</th>\n",
       "      <th></th>\n",
       "      <th></th>\n",
       "      <th></th>\n",
       "      <th></th>\n",
       "      <th></th>\n",
       "    </tr>\n",
       "  </thead>\n",
       "  <tbody>\n",
       "    <tr>\n",
       "      <th>1990</th>\n",
       "      <td>What causes cryptogenic fibrosing alveolitis? A case-control study of environmental exposure to dust.</td>\n",
       "      <td>Scott J</td>\n",
       "      <td>Britton J</td>\n",
       "      <td>['Journal Article']</td>\n",
       "      <td>['Aged', 'Case-Control Studies', 'Confidence Intervals', '*Dust', '*Environmental Exposure', 'Female', 'Humans', 'Male', 'Metals', 'Occupational Exposure', 'Odds Ratio', 'Pulmonary Fibrosis/*etiology', 'Surveys and Questionnaires', 'Wood']</td>\n",
       "    </tr>\n",
       "    <tr>\n",
       "      <th>1994</th>\n",
       "      <td>Idiopathic pulmonary fibrosis. Epidemiologic approaches to occupational exposure.</td>\n",
       "      <td>Iwai K</td>\n",
       "      <td>Hosoda Y</td>\n",
       "      <td>['Comparative Study', 'Journal Article', \"Research Support, Non-U.S. Gov't\"]</td>\n",
       "      <td>['Adolescent', 'Adult', 'Age Distribution', 'Aged', 'Aged, 80 and over', 'Autopsy/statistics &amp; numerical data', 'Case-Control Studies', 'Chi-Square Distribution', 'Dust/adverse effects', 'Epidemiologic Methods', 'Female', 'Humans', 'Incidence', 'Japan/epidemiology', 'Logistic Models', 'Male', 'M...</td>\n",
       "    </tr>\n",
       "    <tr>\n",
       "      <th>1996</th>\n",
       "      <td>Occupational exposure to metal or wood dust and aetiology of cryptogenic fibrosing alveolitis.</td>\n",
       "      <td>Hubbard R</td>\n",
       "      <td>Britton J</td>\n",
       "      <td>['Journal Article']</td>\n",
       "      <td>['Autoantibodies/blood', 'Case-Control Studies', 'Dust/*adverse effects', 'Female', 'Humans', 'Male', '*Metallurgy', 'Occupational Diseases/*etiology/immunology', '*Occupational Exposure', 'Odds Ratio', 'Pulmonary Fibrosis/*etiology/immunology', 'Surveys and Questionnaires', '*Wood']</td>\n",
       "    </tr>\n",
       "    <tr>\n",
       "      <th>1998</th>\n",
       "      <td>Case-control study of idiopathic pulmonary fibrosis and environmental exposures.</td>\n",
       "      <td>Mullen J</td>\n",
       "      <td>Godar T</td>\n",
       "      <td>['Comparative Study', 'Journal Article']</td>\n",
       "      <td>['Aged', 'Case-Control Studies', 'Connecticut/epidemiology', 'Dust/*adverse effects', 'Environmental Exposure/*adverse effects', 'Female', 'Humans', 'Male', 'Pulmonary Fibrosis/*epidemiology/etiology']</td>\n",
       "    </tr>\n",
       "    <tr>\n",
       "      <th>2000</th>\n",
       "      <td>Risk of cryptogenic fibrosing alveolitis in metal workers.</td>\n",
       "      <td>Hubbard R</td>\n",
       "      <td>Britton J</td>\n",
       "      <td>['Letter', \"Research Support, Non-U.S. Gov't\"]</td>\n",
       "      <td>['Aged', 'Death Certificates', 'Female', 'Humans', 'Male', 'Metals', 'Occupational Diseases/*mortality', 'Pulmonary Fibrosis/*mortality', 'Risk', 'United Kingdom/epidemiology']</td>\n",
       "    </tr>\n",
       "    <tr>\n",
       "      <th>2000</th>\n",
       "      <td>Occupational and environmental risk factors for idiopathic pulmonary fibrosis: a multicenter case-control study. Collaborating Centers.</td>\n",
       "      <td>Baumgartner KB</td>\n",
       "      <td>Waldron JA</td>\n",
       "      <td>['Journal Article', 'Multicenter Study', \"Research Support, U.S. Gov't, P.H.S.\"]</td>\n",
       "      <td>['Adult', 'Aged', 'Agriculture', 'Case-Control Studies', 'Dust', '*Environmental Exposure', 'Female', 'Humans', 'Male', 'Middle Aged', 'Multivariate Analysis', '*Occupational Exposure', 'Occupations', 'Pulmonary Fibrosis/*etiology', 'Risk Assessment', 'Smoking/adverse effects']</td>\n",
       "    </tr>\n",
       "    <tr>\n",
       "      <th>2005</th>\n",
       "      <td>Occupational and environmental factors and idiopathic pulmonary fibrosis in Japan.</td>\n",
       "      <td>Miyake Y</td>\n",
       "      <td>Tanaka H</td>\n",
       "      <td>['Journal Article', 'Multicenter Study', \"Research Support, Non-U.S. Gov't\"]</td>\n",
       "      <td>['Adult', 'Aged', 'Case-Control Studies', 'Dust', 'Female', 'Humans', 'Male', 'Metals/adverse effects', 'Middle Aged', 'Occupational Diseases/*etiology', 'Odds Ratio', 'Pulmonary Fibrosis/*etiology', 'Regression Analysis', 'Risk Factors', 'Smoking/adverse effects']</td>\n",
       "    </tr>\n",
       "    <tr>\n",
       "      <th>2007</th>\n",
       "      <td>Occupational exposure and severe pulmonary fibrosis.</td>\n",
       "      <td>Gustafson T</td>\n",
       "      <td>Torén K</td>\n",
       "      <td>['Journal Article', 'Multicenter Study']</td>\n",
       "      <td>['Case-Control Studies', '*Dust/analysis', 'Female', 'Humans', 'Male', 'Metals/*adverse effects', 'Occupational Diseases/epidemiology/*etiology', 'Occupational Exposure/*adverse effects/statistics &amp; numerical data', 'Pulmonary Fibrosis/epidemiology/*etiology', 'Risk Factors', 'Sex Factors', 'Swe...</td>\n",
       "    </tr>\n",
       "    <tr>\n",
       "      <th>2008</th>\n",
       "      <td>Occupational risks for idiopathic pulmonary fibrosis mortality in the United States.</td>\n",
       "      <td>Pinheiro GA</td>\n",
       "      <td>Wassell JT</td>\n",
       "      <td>['Journal Article']</td>\n",
       "      <td>['Adolescent', 'Adult', 'Aged', 'Aged, 80 and over', 'Dust', 'Female', 'Humans', 'Industry', 'Male', 'Metals', 'Middle Aged', '*Occupational Exposure', 'Pulmonary Fibrosis/*mortality', 'Risk Factors', 'United States/epidemiology', 'Wood']</td>\n",
       "    </tr>\n",
       "    <tr>\n",
       "      <th>2010</th>\n",
       "      <td>Risk factors for idiopathic pulmonary fibrosis in a Mexican population. A case-control study.</td>\n",
       "      <td>García-Sancho Figueroa MC</td>\n",
       "      <td>Selman M</td>\n",
       "      <td>['Journal Article', \"Research Support, Non-U.S. Gov't\"]</td>\n",
       "      <td>['Carcinoma, Squamous Cell/*complications', 'Case-Control Studies', 'Diabetes Mellitus, Type 2/*complications', 'Female', 'Humans', 'Idiopathic Pulmonary Fibrosis/*etiology', 'Lung Neoplasms/*complications', 'Male', 'Mexico', 'Middle Aged', 'Prognosis', 'Retrospective Studies', 'Risk Factors', '...</td>\n",
       "    </tr>\n",
       "    <tr>\n",
       "      <th>2012</th>\n",
       "      <td>Occupational and environmental risk factors for idiopathic pulmonary fibrosis in Egypt: a multicenter case-control study.</td>\n",
       "      <td>Awadalla NJ</td>\n",
       "      <td>Wahby I</td>\n",
       "      <td>['Journal Article', 'Multicenter Study']</td>\n",
       "      <td>['Adult', \"Agricultural Workers' Diseases/epidemiology\", 'Case-Control Studies', 'Egypt/epidemiology', 'Female', 'Humans', 'Idiopathic Pulmonary Fibrosis/*epidemiology', 'Male', 'Middle Aged', 'Occupational Exposure', 'Risk Factors', 'Wood']</td>\n",
       "    </tr>\n",
       "    <tr>\n",
       "      <th>2012</th>\n",
       "      <td>Occupational and environmental risk factors for idiopathic pulmonary fibrosis in Egypt: a multicenter case-control study.</td>\n",
       "      <td>Awadalla NJ</td>\n",
       "      <td>Wahby I</td>\n",
       "      <td>['Journal Article', 'Multicenter Study']</td>\n",
       "      <td>['Adult', \"Agricultural Workers' Diseases/epidemiology\", 'Case-Control Studies', 'Egypt/epidemiology', 'Female', 'Humans', 'Idiopathic Pulmonary Fibrosis/*epidemiology', 'Male', 'Middle Aged', 'Occupational Exposure', 'Risk Factors', 'Wood']</td>\n",
       "    </tr>\n",
       "    <tr>\n",
       "      <th>2014</th>\n",
       "      <td>Effects of smoking, gender and occupational exposure on the risk of severe pulmonary fibrosis: a population-based case-control study.</td>\n",
       "      <td>Ekström M</td>\n",
       "      <td>Torén K</td>\n",
       "      <td>['Journal Article', \"Research Support, Non-U.S. Gov't\"]</td>\n",
       "      <td>['Aged', 'Case-Control Studies', 'Female', 'Humans', 'Male', 'Middle Aged', 'Occupational Exposure/*adverse effects', 'Pulmonary Fibrosis/*etiology', 'Risk Factors', 'Severity of Illness Index', 'Sex Factors', 'Smoking/*adverse effects']</td>\n",
       "    </tr>\n",
       "  </tbody>\n",
       "</table>\n",
       "</div>"
      ],
      "text/plain": [
       "                                                                                                                                           title  \\\n",
       "pubdate                                                                                                                                            \n",
       "1990                                       What causes cryptogenic fibrosing alveolitis? A case-control study of environmental exposure to dust.   \n",
       "1994                                                           Idiopathic pulmonary fibrosis. Epidemiologic approaches to occupational exposure.   \n",
       "1996                                              Occupational exposure to metal or wood dust and aetiology of cryptogenic fibrosing alveolitis.   \n",
       "1998                                                            Case-control study of idiopathic pulmonary fibrosis and environmental exposures.   \n",
       "2000                                                                                  Risk of cryptogenic fibrosing alveolitis in metal workers.   \n",
       "2000     Occupational and environmental risk factors for idiopathic pulmonary fibrosis: a multicenter case-control study. Collaborating Centers.   \n",
       "2005                                                          Occupational and environmental factors and idiopathic pulmonary fibrosis in Japan.   \n",
       "2007                                                                                        Occupational exposure and severe pulmonary fibrosis.   \n",
       "2008                                                        Occupational risks for idiopathic pulmonary fibrosis mortality in the United States.   \n",
       "2010                                               Risk factors for idiopathic pulmonary fibrosis in a Mexican population. A case-control study.   \n",
       "2012                   Occupational and environmental risk factors for idiopathic pulmonary fibrosis in Egypt: a multicenter case-control study.   \n",
       "2012                   Occupational and environmental risk factors for idiopathic pulmonary fibrosis in Egypt: a multicenter case-control study.   \n",
       "2014       Effects of smoking, gender and occupational exposure on the risk of severe pulmonary fibrosis: a population-based case-control study.   \n",
       "\n",
       "                       firstauthor  lastauthor  \\\n",
       "pubdate                                          \n",
       "1990                       Scott J   Britton J   \n",
       "1994                        Iwai K    Hosoda Y   \n",
       "1996                     Hubbard R   Britton J   \n",
       "1998                      Mullen J     Godar T   \n",
       "2000                     Hubbard R   Britton J   \n",
       "2000                Baumgartner KB  Waldron JA   \n",
       "2005                      Miyake Y    Tanaka H   \n",
       "2007                   Gustafson T     Torén K   \n",
       "2008                   Pinheiro GA  Wassell JT   \n",
       "2010     García-Sancho Figueroa MC    Selman M   \n",
       "2012                   Awadalla NJ     Wahby I   \n",
       "2012                   Awadalla NJ     Wahby I   \n",
       "2014                     Ekström M     Torén K   \n",
       "\n",
       "                                                                                  pubtype  \\\n",
       "pubdate                                                                                     \n",
       "1990                                                                  ['Journal Article']   \n",
       "1994         ['Comparative Study', 'Journal Article', \"Research Support, Non-U.S. Gov't\"]   \n",
       "1996                                                                  ['Journal Article']   \n",
       "1998                                             ['Comparative Study', 'Journal Article']   \n",
       "2000                                       ['Letter', \"Research Support, Non-U.S. Gov't\"]   \n",
       "2000     ['Journal Article', 'Multicenter Study', \"Research Support, U.S. Gov't, P.H.S.\"]   \n",
       "2005         ['Journal Article', 'Multicenter Study', \"Research Support, Non-U.S. Gov't\"]   \n",
       "2007                                             ['Journal Article', 'Multicenter Study']   \n",
       "2008                                                                  ['Journal Article']   \n",
       "2010                              ['Journal Article', \"Research Support, Non-U.S. Gov't\"]   \n",
       "2012                                             ['Journal Article', 'Multicenter Study']   \n",
       "2012                                             ['Journal Article', 'Multicenter Study']   \n",
       "2014                              ['Journal Article', \"Research Support, Non-U.S. Gov't\"]   \n",
       "\n",
       "                                                                                                                                                                                                                                                                                                            keywords  \n",
       "pubdate                                                                                                                                                                                                                                                                                                               \n",
       "1990                                                                 ['Aged', 'Case-Control Studies', 'Confidence Intervals', '*Dust', '*Environmental Exposure', 'Female', 'Humans', 'Male', 'Metals', 'Occupational Exposure', 'Odds Ratio', 'Pulmonary Fibrosis/*etiology', 'Surveys and Questionnaires', 'Wood']  \n",
       "1994     ['Adolescent', 'Adult', 'Age Distribution', 'Aged', 'Aged, 80 and over', 'Autopsy/statistics & numerical data', 'Case-Control Studies', 'Chi-Square Distribution', 'Dust/adverse effects', 'Epidemiologic Methods', 'Female', 'Humans', 'Incidence', 'Japan/epidemiology', 'Logistic Models', 'Male', 'M...  \n",
       "1996                    ['Autoantibodies/blood', 'Case-Control Studies', 'Dust/*adverse effects', 'Female', 'Humans', 'Male', '*Metallurgy', 'Occupational Diseases/*etiology/immunology', '*Occupational Exposure', 'Odds Ratio', 'Pulmonary Fibrosis/*etiology/immunology', 'Surveys and Questionnaires', '*Wood']  \n",
       "1998                                                                                                       ['Aged', 'Case-Control Studies', 'Connecticut/epidemiology', 'Dust/*adverse effects', 'Environmental Exposure/*adverse effects', 'Female', 'Humans', 'Male', 'Pulmonary Fibrosis/*epidemiology/etiology']  \n",
       "2000                                                                                                                                ['Aged', 'Death Certificates', 'Female', 'Humans', 'Male', 'Metals', 'Occupational Diseases/*mortality', 'Pulmonary Fibrosis/*mortality', 'Risk', 'United Kingdom/epidemiology']  \n",
       "2000                          ['Adult', 'Aged', 'Agriculture', 'Case-Control Studies', 'Dust', '*Environmental Exposure', 'Female', 'Humans', 'Male', 'Middle Aged', 'Multivariate Analysis', '*Occupational Exposure', 'Occupations', 'Pulmonary Fibrosis/*etiology', 'Risk Assessment', 'Smoking/adverse effects']  \n",
       "2005                                       ['Adult', 'Aged', 'Case-Control Studies', 'Dust', 'Female', 'Humans', 'Male', 'Metals/adverse effects', 'Middle Aged', 'Occupational Diseases/*etiology', 'Odds Ratio', 'Pulmonary Fibrosis/*etiology', 'Regression Analysis', 'Risk Factors', 'Smoking/adverse effects']  \n",
       "2007     ['Case-Control Studies', '*Dust/analysis', 'Female', 'Humans', 'Male', 'Metals/*adverse effects', 'Occupational Diseases/epidemiology/*etiology', 'Occupational Exposure/*adverse effects/statistics & numerical data', 'Pulmonary Fibrosis/epidemiology/*etiology', 'Risk Factors', 'Sex Factors', 'Swe...  \n",
       "2008                                                                  ['Adolescent', 'Adult', 'Aged', 'Aged, 80 and over', 'Dust', 'Female', 'Humans', 'Industry', 'Male', 'Metals', 'Middle Aged', '*Occupational Exposure', 'Pulmonary Fibrosis/*mortality', 'Risk Factors', 'United States/epidemiology', 'Wood']  \n",
       "2010     ['Carcinoma, Squamous Cell/*complications', 'Case-Control Studies', 'Diabetes Mellitus, Type 2/*complications', 'Female', 'Humans', 'Idiopathic Pulmonary Fibrosis/*etiology', 'Lung Neoplasms/*complications', 'Male', 'Mexico', 'Middle Aged', 'Prognosis', 'Retrospective Studies', 'Risk Factors', '...  \n",
       "2012                                                               ['Adult', \"Agricultural Workers' Diseases/epidemiology\", 'Case-Control Studies', 'Egypt/epidemiology', 'Female', 'Humans', 'Idiopathic Pulmonary Fibrosis/*epidemiology', 'Male', 'Middle Aged', 'Occupational Exposure', 'Risk Factors', 'Wood']  \n",
       "2012                                                               ['Adult', \"Agricultural Workers' Diseases/epidemiology\", 'Case-Control Studies', 'Egypt/epidemiology', 'Female', 'Humans', 'Idiopathic Pulmonary Fibrosis/*epidemiology', 'Male', 'Middle Aged', 'Occupational Exposure', 'Risk Factors', 'Wood']  \n",
       "2014                                                                   ['Aged', 'Case-Control Studies', 'Female', 'Humans', 'Male', 'Middle Aged', 'Occupational Exposure/*adverse effects', 'Pulmonary Fibrosis/*etiology', 'Risk Factors', 'Severity of Illness Index', 'Sex Factors', 'Smoking/*adverse effects']  "
      ]
     },
     "execution_count": 24,
     "metadata": {},
     "output_type": "execute_result"
    }
   ],
   "source": [
    "#litsearch_topics(topic_collection)\n",
    "\n",
    "df = pd.read_csv('ipfjes_case_control_studies.csv', usecols=['pmid','title','firstauthor','lastauthor',\n",
    "                                                             'journal','pubdate','pubtype',\n",
    "                                                             'abstract', 'keywords', 'rcr'])\n",
    "pd.set_option('max_colwidth',300)\n",
    "\n",
    "df.pubdate = pd.to_datetime(df.pubdate)\n",
    "df.index = df.pubdate.map(lambda x: x.year)\n",
    "df = df.sort_values(by = 'pubdate', ascending=True)\n",
    "df = df[['title','firstauthor', 'lastauthor', 'pubtype', 'keywords']]\n",
    "df"
   ]
  },
  {
   "cell_type": "code",
   "execution_count": 25,
   "metadata": {
    "collapsed": false
   },
   "outputs": [],
   "source": [
    "df = pd.read_csv('ipfjes_case_control_studies.csv', usecols=['pmid','title','firstauthor','lastauthor',\n",
    "                                                             'journal','pubdate','pubtype',\n",
    "                                                             'abstract', 'keywords', 'rcr'])"
   ]
  },
  {
   "cell_type": "code",
   "execution_count": 26,
   "metadata": {
    "collapsed": true
   },
   "outputs": [],
   "source": [
    "df1 = pd.read_csv('idiopathic-pulmonary-fibrosis.csv', usecols=['pmid','title','firstauthor','lastauthor',\n",
    "                                                             'journal','pubdate','pubtype',\n",
    "                                                             'abstract', 'keywords', 'rcr'])"
   ]
  },
  {
   "cell_type": "code",
   "execution_count": 27,
   "metadata": {
    "collapsed": false
   },
   "outputs": [
    {
     "data": {
      "text/html": [
       "<div>\n",
       "<table border=\"1\" class=\"dataframe\">\n",
       "  <thead>\n",
       "    <tr style=\"text-align: right;\">\n",
       "      <th></th>\n",
       "      <th>pmid</th>\n",
       "      <th>title</th>\n",
       "      <th>firstauthor</th>\n",
       "      <th>lastauthor</th>\n",
       "      <th>journal</th>\n",
       "      <th>pubdate</th>\n",
       "      <th>pubtype</th>\n",
       "      <th>abstract</th>\n",
       "      <th>keywords</th>\n",
       "      <th>rcr</th>\n",
       "    </tr>\n",
       "  </thead>\n",
       "  <tbody>\n",
       "    <tr>\n",
       "      <th>5</th>\n",
       "      <td>10841131</td>\n",
       "      <td>Risk of cryptogenic fibrosing alveolitis in metal workers.</td>\n",
       "      <td>Hubbard R</td>\n",
       "      <td>Britton J</td>\n",
       "      <td>Lancet</td>\n",
       "      <td>2000/02/05 00:00</td>\n",
       "      <td>['Letter', \"Research Support, Non-U.S. Gov't\"]</td>\n",
       "      <td>We report increased proportional mortality from cryptogenic fibrosing alveolitis in the workforce of a major UK engineering company. Measures of metal exposure from unbiased historical occupational records showed that among employees who have worked with metal, the risk of death from or with cry...</td>\n",
       "      <td>['Aged', 'Death Certificates', 'Female', 'Humans', 'Male', 'Metals', 'Occupational Diseases/*mortality', 'Pulmonary Fibrosis/*mortality', 'Risk', 'United Kingdom/epidemiology']</td>\n",
       "      <td>1.124711</td>\n",
       "    </tr>\n",
       "    <tr>\n",
       "      <th>6</th>\n",
       "      <td>8569361</td>\n",
       "      <td>Occupational exposure to metal or wood dust and aetiology of cryptogenic fibrosing alveolitis.</td>\n",
       "      <td>Hubbard R</td>\n",
       "      <td>Britton J</td>\n",
       "      <td>Lancet</td>\n",
       "      <td>1996/02/03 00:00</td>\n",
       "      <td>['Journal Article']</td>\n",
       "      <td>BACKGROUND: We have previously suggested that cryptogenic fibrosing alveolitis (CFA) may be caused by occupational exposures, particularly to metal or wood dust. We have specifically investigated this hypothesis in a case-control study of patients with CFA. METHODS: We obtained lifetime occupati...</td>\n",
       "      <td>['Autoantibodies/blood', 'Case-Control Studies', 'Dust/*adverse effects', 'Female', 'Humans', 'Male', '*Metallurgy', 'Occupational Diseases/*etiology/immunology', '*Occupational Exposure', 'Odds Ratio', 'Pulmonary Fibrosis/*etiology/immunology', 'Surveys and Questionnaires', '*Wood']</td>\n",
       "      <td>5.384463</td>\n",
       "    </tr>\n",
       "    <tr>\n",
       "      <th>12</th>\n",
       "      <td>2249047</td>\n",
       "      <td>What causes cryptogenic fibrosing alveolitis? A case-control study of environmental exposure to dust.</td>\n",
       "      <td>Scott J</td>\n",
       "      <td>Britton J</td>\n",
       "      <td>BMJ</td>\n",
       "      <td>1990/11/03 00:00</td>\n",
       "      <td>['Journal Article']</td>\n",
       "      <td>OBJECTIVE: To investigate the role of occupational and domestic exposure to dust in the aetiology of cryptogenic fibrosing alveolitis. DESIGN: Matched case-control study. SUBJECTS: 40 Patients with cryptogenic fibrosing alveolitis and 106 community controls matched for age and sex who responded ...</td>\n",
       "      <td>['Aged', 'Case-Control Studies', 'Confidence Intervals', '*Dust', '*Environmental Exposure', 'Female', 'Humans', 'Male', 'Metals', 'Occupational Exposure', 'Odds Ratio', 'Pulmonary Fibrosis/*etiology', 'Surveys and Questionnaires', 'Wood']</td>\n",
       "      <td>NaN</td>\n",
       "    </tr>\n",
       "  </tbody>\n",
       "</table>\n",
       "</div>"
      ],
      "text/plain": [
       "        pmid  \\\n",
       "5   10841131   \n",
       "6    8569361   \n",
       "12   2249047   \n",
       "\n",
       "                                                                                                    title  \\\n",
       "5                                              Risk of cryptogenic fibrosing alveolitis in metal workers.   \n",
       "6          Occupational exposure to metal or wood dust and aetiology of cryptogenic fibrosing alveolitis.   \n",
       "12  What causes cryptogenic fibrosing alveolitis? A case-control study of environmental exposure to dust.   \n",
       "\n",
       "   firstauthor lastauthor journal           pubdate  \\\n",
       "5    Hubbard R  Britton J  Lancet  2000/02/05 00:00   \n",
       "6    Hubbard R  Britton J  Lancet  1996/02/03 00:00   \n",
       "12     Scott J  Britton J     BMJ  1990/11/03 00:00   \n",
       "\n",
       "                                           pubtype  \\\n",
       "5   ['Letter', \"Research Support, Non-U.S. Gov't\"]   \n",
       "6                              ['Journal Article']   \n",
       "12                             ['Journal Article']   \n",
       "\n",
       "                                                                                                                                                                                                                                                                                                       abstract  \\\n",
       "5   We report increased proportional mortality from cryptogenic fibrosing alveolitis in the workforce of a major UK engineering company. Measures of metal exposure from unbiased historical occupational records showed that among employees who have worked with metal, the risk of death from or with cry...   \n",
       "6   BACKGROUND: We have previously suggested that cryptogenic fibrosing alveolitis (CFA) may be caused by occupational exposures, particularly to metal or wood dust. We have specifically investigated this hypothesis in a case-control study of patients with CFA. METHODS: We obtained lifetime occupati...   \n",
       "12  OBJECTIVE: To investigate the role of occupational and domestic exposure to dust in the aetiology of cryptogenic fibrosing alveolitis. DESIGN: Matched case-control study. SUBJECTS: 40 Patients with cryptogenic fibrosing alveolitis and 106 community controls matched for age and sex who responded ...   \n",
       "\n",
       "                                                                                                                                                                                                                                                                                        keywords  \\\n",
       "5                                                                                                               ['Aged', 'Death Certificates', 'Female', 'Humans', 'Male', 'Metals', 'Occupational Diseases/*mortality', 'Pulmonary Fibrosis/*mortality', 'Risk', 'United Kingdom/epidemiology']   \n",
       "6   ['Autoantibodies/blood', 'Case-Control Studies', 'Dust/*adverse effects', 'Female', 'Humans', 'Male', '*Metallurgy', 'Occupational Diseases/*etiology/immunology', '*Occupational Exposure', 'Odds Ratio', 'Pulmonary Fibrosis/*etiology/immunology', 'Surveys and Questionnaires', '*Wood']   \n",
       "12                                               ['Aged', 'Case-Control Studies', 'Confidence Intervals', '*Dust', '*Environmental Exposure', 'Female', 'Humans', 'Male', 'Metals', 'Occupational Exposure', 'Odds Ratio', 'Pulmonary Fibrosis/*etiology', 'Surveys and Questionnaires', 'Wood']   \n",
       "\n",
       "         rcr  \n",
       "5   1.124711  \n",
       "6   5.384463  \n",
       "12       NaN  "
      ]
     },
     "execution_count": 27,
     "metadata": {},
     "output_type": "execute_result"
    }
   ],
   "source": [
    "# if you doi\n",
    "df[~df.pmid.isin(df1.pmid)]"
   ]
  },
  {
   "cell_type": "code",
   "execution_count": 28,
   "metadata": {
    "collapsed": false
   },
   "outputs": [
    {
     "name": "stdout",
     "output_type": "stream",
     "text": [
      "Top pubmed keywords (mesh headings) for the 12 occupational IPF case-control studies found\n"
     ]
    },
    {
     "ename": "NameError",
     "evalue": "name 'Counter' is not defined",
     "output_type": "error",
     "traceback": [
      "\u001b[0;31m---------------------------------------------------------------------------\u001b[0m",
      "\u001b[0;31mNameError\u001b[0m                                 Traceback (most recent call last)",
      "\u001b[0;32m<ipython-input-28-cdfb6a746ae4>\u001b[0m in \u001b[0;36m<module>\u001b[0;34m()\u001b[0m\n\u001b[1;32m     11\u001b[0m \u001b[0mcorpus\u001b[0m \u001b[0;34m=\u001b[0m \u001b[0;34m[\u001b[0m\u001b[0mitem\u001b[0m \u001b[0;32mfor\u001b[0m \u001b[0msublist\u001b[0m \u001b[0;32min\u001b[0m \u001b[0mcorpus\u001b[0m \u001b[0;32mfor\u001b[0m \u001b[0mitem\u001b[0m \u001b[0;32min\u001b[0m \u001b[0msublist\u001b[0m\u001b[0;34m]\u001b[0m\u001b[0;34m\u001b[0m\u001b[0m\n\u001b[1;32m     12\u001b[0m \u001b[0;34m\u001b[0m\u001b[0m\n\u001b[0;32m---> 13\u001b[0;31m \u001b[0mx\u001b[0m \u001b[0;34m=\u001b[0m \u001b[0mCounter\u001b[0m\u001b[0;34m(\u001b[0m\u001b[0mcorpus\u001b[0m\u001b[0;34m)\u001b[0m\u001b[0;34m\u001b[0m\u001b[0m\n\u001b[0m\u001b[1;32m     14\u001b[0m \u001b[0;34m\u001b[0m\u001b[0m\n\u001b[1;32m     15\u001b[0m \u001b[0;34m[\u001b[0m\u001b[0;34m(\u001b[0m\u001b[0ml\u001b[0m\u001b[0;34m,\u001b[0m\u001b[0mk\u001b[0m\u001b[0;34m)\u001b[0m \u001b[0;32mfor\u001b[0m \u001b[0mk\u001b[0m\u001b[0;34m,\u001b[0m\u001b[0ml\u001b[0m \u001b[0;32min\u001b[0m \u001b[0msorted\u001b[0m\u001b[0;34m(\u001b[0m\u001b[0;34m[\u001b[0m\u001b[0;34m(\u001b[0m\u001b[0mj\u001b[0m\u001b[0;34m,\u001b[0m\u001b[0mi\u001b[0m\u001b[0;34m)\u001b[0m \u001b[0;32mfor\u001b[0m \u001b[0mi\u001b[0m\u001b[0;34m,\u001b[0m\u001b[0mj\u001b[0m \u001b[0;32min\u001b[0m \u001b[0mx\u001b[0m\u001b[0;34m.\u001b[0m\u001b[0mitems\u001b[0m\u001b[0;34m(\u001b[0m\u001b[0;34m)\u001b[0m\u001b[0;34m]\u001b[0m\u001b[0;34m,\u001b[0m \u001b[0mreverse\u001b[0m\u001b[0;34m=\u001b[0m\u001b[0;32mTrue\u001b[0m\u001b[0;34m)\u001b[0m\u001b[0;34m]\u001b[0m\u001b[0;34m\u001b[0m\u001b[0m\n",
      "\u001b[0;31mNameError\u001b[0m: name 'Counter' is not defined"
     ]
    }
   ],
   "source": [
    "keywords = get_pubmed_keywords(topic_collection['ipfjes_case_control_studies'])\n",
    "\n",
    "print ('Top pubmed keywords (mesh headings)',\n",
    "       'for the {0} occupational IPF case-control studies found'.format(len(keywords)))\n",
    "\n",
    "corpus = []\n",
    "       \n",
    "for record in keywords:\n",
    "    corpus.append(keywords[record])\n",
    "    \n",
    "corpus = [item for sublist in corpus for item in sublist]\n",
    "\n",
    "x = Counter(corpus)\n",
    "\n",
    "[(l,k) for k,l in sorted([(j,i) for i,j in x.items()], reverse=True)]"
   ]
  },
  {
   "cell_type": "code",
   "execution_count": null,
   "metadata": {
    "collapsed": true
   },
   "outputs": [],
   "source": []
  }
 ],
 "metadata": {
  "kernelspec": {
   "display_name": "Python 3",
   "language": "python",
   "name": "python3"
  },
  "language_info": {
   "codemirror_mode": {
    "name": "ipython",
    "version": 3
   },
   "file_extension": ".py",
   "mimetype": "text/x-python",
   "name": "python",
   "nbconvert_exporter": "python",
   "pygments_lexer": "ipython3",
   "version": "3.5.2"
  }
 },
 "nbformat": 4,
 "nbformat_minor": 2
}
