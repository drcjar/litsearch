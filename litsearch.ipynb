{
 "cells": [
  {
   "cell_type": "markdown",
   "metadata": {},
   "source": [
    "### A notebook to support academic question exploration and literature search / what do you do when you search the literature?\n",
    "\n",
    "0. Define a research question e.g Is occupational **asbestos exposure** an underecognised **cause** of IPF? \n",
    "1. Consider the different possible ways of answering the question (methods). Different study designs and ways of measuring asbestos exposure e.g Epidemiological, observational, cross-sectional, cohort, case-control, post-mortem and explant studies, ecological, toxicology, animal models, molecular disease models, exposure assessment, occupational hygeinst measurements, minerologic analysis (tissue, BAL etc)\n",
    "2. Generate search terms e.g \"IPF\", \"case-control\", \"occupational\", \"asbestos\" (? && mesh terms)\n",
    "3. Carry out search using search terms and e.g pubmed, google scholar, scopus, biorxiv, web of science, clinicaltrials.gov, ?google books\n",
    "4. Search results == Candidate Papers\n",
    "5. Extract title | journal | author | location | year | abstract | key words | full text && save result (as .bib) (prob want to export to jabref)\n",
    "6. Review Candidate Papers to identify Relevant Papers \n",
    "7. Use Relevant Papers to identify more Candidate papers. Search also by author, cited by, cite, [triangle closing](https://en.wikipedia.org/wiki/Triadic_closure) e.g https://github.com/hinnefe2/bibcheck.py and other means (?tensorflow)\n",
    "8. Use the Relevant Papers collected for whatever it is they are relevant for (usually to help compose a written document in which they are cited)\n",
    "\n",
    "meta: github/stack exchange etc to check out other peoples search strategies. this is likely to be formulated as a machine learning problem somewhere."
   ]
  },
  {
   "cell_type": "markdown",
   "metadata": {},
   "source": [
    "#### interesting related I found includes: https://www.projectcredo.com/, http://citationexplorer.hoppmann.me/, lict from a previous nhshackday, https://github.com/jvoytek/pubmedbrain/blob/f5170a2e3540e0c2aa665559c86048dfb1583f16/documents/Voytek-brainSCANrPreprint.pdf, https://github.com/graeham/hackathon/blob/master/paperGraph.py"
   ]
  },
  {
   "cell_type": "markdown",
   "metadata": {},
   "source": [
    "### search github for relevant stuff with the following 'webbit' \n",
    "> https://github.com/search?l=Python&q=http%3A%2F%2Feutils.ncbi.nlm.nih.gov%2Fentrez%2Feutils%2Fesearch.fcgi++stars%3A%3E5&ref=advsearch&type=Code&utf8=%E2%9C%93\n",
    "\n",
    "gists and interwebs inc stackoverflow also helpful"
   ]
  },
  {
   "cell_type": "markdown",
   "metadata": {},
   "source": [
    "tempting to dive into django a la https://github.com/afouchet/OpenReview but probably not essential and now is not optimal timing"
   ]
  },
  {
   "cell_type": "markdown",
   "metadata": {},
   "source": [
    "https://github.com/gui11aume looks well documented, poss useful template\n",
    "https://github.com/swcarpentry/2013-08-23-harvard/blob/b2097bc20833e0a58b2e73eecd1227d61bd5a00a/lessons/misc-biopython/eutils.md looks like nice intro to biopython utils and https://gist.github.com/bonzanini/5a4c39e4c02502a8451d, https://gist.github.com/ehazlett/1104507, https://gist.github.com/vtrubets/ef1dabb397ea6a05ce5b4e767ed15af9 (for use of icite), https://gist.github.com/mcfrank/c1ec74df1427278cbe53, http://stackoverflow.com/questions/17409107/obtaining-data-from-pubmed-using-python, https://github.com/bwallace/abstrackr-web/tree/master/abstrackr"
   ]
  },
  {
   "cell_type": "markdown",
   "metadata": {},
   "source": [
    "### let's tackle pubmed first"
   ]
  },
  {
   "cell_type": "code",
   "execution_count": 1,
   "metadata": {
    "collapsed": false
   },
   "outputs": [
    {
     "data": {
      "text/plain": [
       "'\\nNotebook to support academic question exploration and literature search.\\n\\nThanks to https://marcobonzanini.wordpress.com/2015/01/12/searching-pubmed-with-python/ and \\nhttp://www.fredtrotter.com/2014/11/14/hacking-on-the-pubmed-api/\\n\\nPubmed advanced search is helpful for designing search/experimenting https://www.ncbi.nlm.nih.gov/pubmed/advanced\\n\\nDocs for NCBI esearch:\\nhttps://www.ncbi.nlm.nih.gov/books/NBK25499/#chapter4.ESearch\\nhttps://www.nlm.nih.gov/bsd/mms/medlineelements.html\\n'"
      ]
     },
     "execution_count": 1,
     "metadata": {},
     "output_type": "execute_result"
    }
   ],
   "source": [
    "\"\"\"\n",
    "Notebook to support academic question exploration and literature search.\n",
    "\n",
    "Thanks to https://marcobonzanini.wordpress.com/2015/01/12/searching-pubmed-with-python/ and \n",
    "http://www.fredtrotter.com/2014/11/14/hacking-on-the-pubmed-api/\n",
    "\n",
    "Pubmed advanced search is helpful for designing search/experimenting https://www.ncbi.nlm.nih.gov/pubmed/advanced\n",
    "\n",
    "Docs for NCBI esearch:\n",
    "https://www.ncbi.nlm.nih.gov/books/NBK25499/#chapter4.ESearch\n",
    "https://www.nlm.nih.gov/bsd/mms/medlineelements.html\n",
    "\"\"\"\n"
   ]
  },
  {
   "cell_type": "code",
   "execution_count": 80,
   "metadata": {
    "collapsed": false
   },
   "outputs": [],
   "source": [
    "from Bio import Entrez\n",
    "from Bio import Medline\n",
    "from tqdm import tqdm\n",
    "import json\n",
    "import requests\n",
    "import pandas as pd\n",
    "import pickle \n",
    "import matplotlib.pyplot as plt\n",
    "%matplotlib inline"
   ]
  },
  {
   "cell_type": "code",
   "execution_count": 3,
   "metadata": {
    "collapsed": false
   },
   "outputs": [],
   "source": [
    "def get_chunked_pmids(term, chunksize=50):\n",
    "    \"\"\"\n",
    "    Return a list of Pubmed ids from pubmed search in chunks\n",
    "    \"\"\"\n",
    "    Entrez.email = \"carl.reynolds@imperial.ac.uk\"\n",
    "    count_handle = Entrez.esearch(db=\"pubmed\",\n",
    "                                  term=term,\n",
    "                                  retmode=\"xml\",\n",
    "                                  rettype=\"count\")\n",
    "    count_results = Entrez.read(count_handle)\n",
    "    count = int(count_results[\"Count\"])\n",
    "\n",
    "    retmax_requests = list(range(chunksize, count, chunksize))\n",
    "    retmax_requests.append(count - retmax_requests[len(retmax_requests) - 1])\n",
    "\n",
    "    for i, retmax in enumerate(retmax_requests):\n",
    "        pmid_handle = Entrez.esearch(db=\"pubmed\",\n",
    "                                     term=term,\n",
    "                                     sort=\"relevance\",\n",
    "                                     retmode=\"xml\",\n",
    "                                     usehistory='y',\n",
    "                                     retstart=retmax,\n",
    "                                     retmax=chunksize)\n",
    "        results = Entrez.read(pmid_handle)\n",
    "        yield results[\"IdList\"]"
   ]
  },
  {
   "cell_type": "code",
   "execution_count": 4,
   "metadata": {
    "collapsed": false
   },
   "outputs": [],
   "source": [
    "def get_pubmed_summaries(pubmed_id):\n",
    "    \"\"\"\n",
    "    Use the Pubmed API to return the summary of a pubmed article\n",
    "    \"\"\"\n",
    "    Entrez.email = \"carl.reynolds@imperial.ac.uk\"\n",
    "    pubmed_id = ', '.join(map(str, pubmed_id))\n",
    "    handle = Entrez.esummary(db='pubmed', \n",
    "                             id=pubmed_id, \n",
    "                             retmode='json', \n",
    "                             rettype='abstract')\n",
    "    return json.loads(handle.read())['result']\n",
    "  "
   ]
  },
  {
   "cell_type": "code",
   "execution_count": 5,
   "metadata": {
    "collapsed": true
   },
   "outputs": [],
   "source": [
    "def get_pubmed_keywords(pubmed_id):\n",
    "    \"\"\"\n",
    "    Use the Pubmed API to return the medline record and extract the key words of a pubmed article.\n",
    "    Return {pmid:[list of keywords]}.\n",
    "    \"\"\"\n",
    "    Entrez.email = \"carl.reynolds@imperial.ac.uk\"\n",
    "    handle = Entrez.efetch(db='pubmed',\n",
    "                           id=pubmed_id,\n",
    "                           rettype='medline',\n",
    "                           retmode='text')\n",
    "    records = Medline.parse(handle)\n",
    "    kw = []\n",
    "    keywords = {}\n",
    "\n",
    "    for record in records:\n",
    "        pmid = record.get('PMID','?')\n",
    "        mh = record.get('MH','?')\n",
    "        for w in mh: \n",
    "            if w not in kw:\n",
    "                kw.append(w)\n",
    "        kw.sort()\n",
    "        keywords[pmid] = kw\n",
    "    return keywords"
   ]
  },
  {
   "cell_type": "code",
   "execution_count": 6,
   "metadata": {
    "collapsed": true
   },
   "outputs": [],
   "source": [
    "def get_pubmed_abstracts(pubmed_id):\n",
    "    \"\"\"\n",
    "    Use the Pubmed API to return the medline record and extract the abstract of a pubmed article.\n",
    "    Return {pmid:abstract}.\n",
    "    \"\"\"\n",
    "    Entrez.email = \"carl.reynolds@imperial.ac.uk\"\n",
    "    handle = Entrez.efetch(db='pubmed',\n",
    "                           id=pubmed_id,\n",
    "                           rettype='medline',\n",
    "                           retmode='text')\n",
    "    records = Medline.parse(handle)\n",
    "    abstracts = {}\n",
    "\n",
    "    for record in records:\n",
    "        pmid = record.get('PMID','?')\n",
    "        ab = record.get('AB','?')\n",
    "        abstracts[pmid] = ab\n",
    "    return abstracts"
   ]
  },
  {
   "cell_type": "code",
   "execution_count": 7,
   "metadata": {
    "collapsed": true
   },
   "outputs": [],
   "source": [
    "def get_pubmed_pubtypes(pubmed_id):\n",
    "    \"\"\"\n",
    "    Use the Pubmed API to return the medline record and extract the abstract of a pubmed article.\n",
    "    Return {pmid:pubtype}.\n",
    "    \"\"\"\n",
    "    Entrez.email = \"carl.reynolds@imperial.ac.uk\"\n",
    "    handle = Entrez.efetch(db='pubmed',\n",
    "                           id=pubmed_id,\n",
    "                           rettype='medline',\n",
    "                           retmode='text')\n",
    "    records = Medline.parse(handle)\n",
    "    pubtypes = {}\n",
    "\n",
    "    for record in records:\n",
    "        pmid = record.get('PMID','?')\n",
    "        pt = record.get('PT','?')\n",
    "        pubtypes[pmid] = pt\n",
    "    return pubtypes"
   ]
  },
  {
   "cell_type": "code",
   "execution_count": 8,
   "metadata": {
    "collapsed": false
   },
   "outputs": [],
   "source": [
    "def get_citation_information(pubmed_id):\n",
    "    \"\"\"\n",
    "    Use the special citation api to return relative citation ratios\n",
    "    \"\"\"\n",
    "    pubmed_id = ','.join(pubmed_id)\n",
    "    citation_search = 'https://icite.od.nih.gov/api/pubs?pmids={0}'.format(pubmed_id)\n",
    "    response = requests.get(citation_search).content\n",
    "    str_response = response.decode('utf-8')\n",
    "    data = json.loads(str_response)['data']\n",
    "    citations = {}\n",
    "    for record in data:\n",
    "        pmid = record.get('pmid')\n",
    "        rcr = record.get('relative_citation_ratio')\n",
    "        citations[pmid] = rcr\n",
    "    return citations\n",
    "        "
   ]
  },
  {
   "cell_type": "code",
   "execution_count": 9,
   "metadata": {
    "collapsed": false
   },
   "outputs": [],
   "source": [
    "def lit_search(term):\n",
    "    \"\"\"\n",
    "    Search pubmed for a term and collect information about the results\n",
    "    \"\"\"\n",
    "    pmid_blocks = get_chunked_pmids(term, chunksize=200)\n",
    "    summaries = []\n",
    "    pubtypes = []\n",
    "    abstracts = []\n",
    "    keywords = []\n",
    "    rcrs = []\n",
    "    litsearch_results = [summaries, pubtypes, abstracts, keywords, rcrs]\n",
    "    for i, block in enumerate(pmid_blocks):\n",
    "        summaries.append(get_pubmed_summaries(block))\n",
    "        pubtypes.append(get_pubmed_pubtypes(block))\n",
    "        abstracts.append(get_pubmed_abstracts(block))\n",
    "        keywords.append(get_pubmed_keywords(block))\n",
    "        rcrs.append(get_citation_information(block))\n",
    "        print(\"Processed block {0}\".format(i))\n",
    "        if i > 1:\n",
    "            break\n",
    "    pickle.dump( litsearch_results, open( \"litsearch_results_{0}.p\".format(term), \"wb\" ) )\n",
    "    return summaries, pubtypes, abstracts, keywords, rcrs\n",
    "        "
   ]
  },
  {
   "cell_type": "code",
   "execution_count": 10,
   "metadata": {
    "collapsed": false
   },
   "outputs": [
    {
     "name": "stdout",
     "output_type": "stream",
     "text": [
      "Processed block 0\n",
      "Processed block 1\n",
      "Processed block 2\n"
     ]
    }
   ],
   "source": [
    "term = 'idiopathic pulmonary fibrosis'\n",
    "summaries, pubtypes, abstracts, keywords, rcrs = lit_search(term)\n",
    "litsearch_results = pickle.load(open(\"litsearch_results_{0}.p\".format(term), \"rb\"))\n"
   ]
  },
  {
   "cell_type": "code",
   "execution_count": 11,
   "metadata": {
    "collapsed": false
   },
   "outputs": [
    {
     "data": {
      "text/html": [
       "<div>\n",
       "<table border=\"1\" class=\"dataframe\">\n",
       "  <thead>\n",
       "    <tr style=\"text-align: right;\">\n",
       "      <th></th>\n",
       "      <th>pmid</th>\n",
       "      <th>title</th>\n",
       "      <th>firstauthor</th>\n",
       "      <th>lastauthor</th>\n",
       "      <th>journal</th>\n",
       "      <th>pubdate</th>\n",
       "      <th>pubtype</th>\n",
       "      <th>abstract</th>\n",
       "      <th>keywords</th>\n",
       "      <th>rcr</th>\n",
       "    </tr>\n",
       "  </thead>\n",
       "  <tbody>\n",
       "    <tr>\n",
       "      <th>0</th>\n",
       "      <td>21719092</td>\n",
       "      <td>Idiopathic pulmonary fibrosis.</td>\n",
       "      <td>King TE Jr</td>\n",
       "      <td>Selman M</td>\n",
       "      <td>Lancet</td>\n",
       "      <td>2011/12/03 00:00</td>\n",
       "      <td>[Journal Article, Review]</td>\n",
       "      <td>Idiopathic pulmonary fibrosis is a devastating, age-related lung disease of unknown cause that has few treatment options. This disease was once thought to be a chronic inflammatory process, but current evidence indicates that the fibrotic response is driven by abnormally activated alveolar epith...</td>\n",
       "      <td>[*Aging, *Apoptosis, *Attitude to Health, *Blood Gas Analysis/methods, *Capnography, *Cell Aging, *Cell Differentiation/immunology, *Cell Transformation, Neoplastic, *Clinical Trials as Topic, *Communication, *Consensus, *Cooperative Behavior, *DNA Methylation, *DNA, Bacterial, *Disease Manageme...</td>\n",
       "      <td>21.568686</td>\n",
       "    </tr>\n",
       "    <tr>\n",
       "      <th>1</th>\n",
       "      <td>24582190</td>\n",
       "      <td>Frequency and implication of autoimmune serologies in idiopathic pulmonary fibrosis.</td>\n",
       "      <td>Moua T</td>\n",
       "      <td>Ryu JH</td>\n",
       "      <td>Mayo Clin Proc</td>\n",
       "      <td>2014/03/01 00:00</td>\n",
       "      <td>[Evaluation Studies, Journal Article]</td>\n",
       "      <td>OBJECTIVE: To assess the frequency and clinical implications of positive autoimmune serologies in patients with biopsy-confirmed idiopathic pulmonary fibrosis (IPF). PATIENTS AND METHODS: We reviewed the records of patients at our institution with biopsy-confirmed usual interstitial pneumonia (U...</td>\n",
       "      <td>[*Aging, *Apoptosis, *Attitude to Health, *Blood Gas Analysis/methods, *Capnography, *Cell Aging, *Cell Differentiation/immunology, *Cell Transformation, Neoplastic, *Clinical Trials as Topic, *Communication, *Consensus, *Cooperative Behavior, *DNA Methylation, *DNA, Bacterial, *Disease Manageme...</td>\n",
       "      <td>1.128043</td>\n",
       "    </tr>\n",
       "    <tr>\n",
       "      <th>2</th>\n",
       "      <td>24251797</td>\n",
       "      <td>Pulmonary vascular limitation to exercise and survival in idiopathic pulmonary fibrosis.</td>\n",
       "      <td>van der Plas MN</td>\n",
       "      <td>Bresser P</td>\n",
       "      <td>Respirology</td>\n",
       "      <td>2014/02/01 00:00</td>\n",
       "      <td>[Journal Article, Research Support, Non-U.S. Gov't]</td>\n",
       "      <td>BACKGROUND AND OBJECTIVE: Pulmonary hypertension is frequently observed in advanced idiopathic pulmonary fibrosis (IPF) and is associated with poor prognosis. Cardiopulmonary exercise testing (CPET) can be used to detect less advanced pulmonary vascular impairment, and therefore may be of progno...</td>\n",
       "      <td>[*Aging, *Apoptosis, *Attitude to Health, *Blood Gas Analysis/methods, *Capnography, *Cell Aging, *Cell Differentiation/immunology, *Cell Transformation, Neoplastic, *Clinical Trials as Topic, *Communication, *Consensus, *Cooperative Behavior, *DNA Methylation, *DNA, Bacterial, *Disease Manageme...</td>\n",
       "      <td>1.293934</td>\n",
       "    </tr>\n",
       "    <tr>\n",
       "      <th>3</th>\n",
       "      <td>24140943</td>\n",
       "      <td>Pathogenesis pathways of idiopathic pulmonary fibrosis in bleomycin-induced lung injury model in mice.</td>\n",
       "      <td>Shi K</td>\n",
       "      <td>Zheng J</td>\n",
       "      <td>Respir Physiol Neurobiol</td>\n",
       "      <td>2014/01/01 00:00</td>\n",
       "      <td>[Journal Article, Research Support, Non-U.S. Gov't]</td>\n",
       "      <td>Our objective was to investigate the pathogenesis pathways of idiopathic pulmonary fibrosis (IPF). Bleomycin (BLM) induced animal models of experimental lung fibrosis were used. CHIP assay was executed to find the link between Smad3 and IL-31, and the expressions of TGF-beta1, Smad3, IL-31 and S...</td>\n",
       "      <td>[*Aging, *Apoptosis, *Attitude to Health, *Blood Gas Analysis/methods, *Capnography, *Cell Aging, *Cell Differentiation/immunology, *Cell Transformation, Neoplastic, *Clinical Trials as Topic, *Communication, *Consensus, *Cooperative Behavior, *DNA Methylation, *DNA, Bacterial, *Disease Manageme...</td>\n",
       "      <td>1.480776</td>\n",
       "    </tr>\n",
       "    <tr>\n",
       "      <th>4</th>\n",
       "      <td>25202034</td>\n",
       "      <td>Recent evidence for pharmacological treatment of idiopathic pulmonary fibrosis.</td>\n",
       "      <td>Covvey JR</td>\n",
       "      <td>Mancl EE</td>\n",
       "      <td>Ann Pharmacother</td>\n",
       "      <td>2014/12/01 00:00</td>\n",
       "      <td>[Journal Article, Review]</td>\n",
       "      <td>OBJECTIVE: To describe emerging evidence for the pharmacological treatment of idiopathic pulmonary fibrosis (IPF). DATA SOURCES: A search of PubMed (1966 to July 2014) was performed using the terms idiopathic pulmonary fibrosis and treatment. STUDY SELECTION AND DATA EXTRACTION: Review of articl...</td>\n",
       "      <td>[*Aging, *Apoptosis, *Attitude to Health, *Blood Gas Analysis/methods, *Capnography, *Cell Aging, *Cell Differentiation/immunology, *Cell Transformation, Neoplastic, *Clinical Trials as Topic, *Communication, *Consensus, *Cooperative Behavior, *DNA Methylation, *DNA, Bacterial, *Disease Manageme...</td>\n",
       "      <td>1.220404</td>\n",
       "    </tr>\n",
       "  </tbody>\n",
       "</table>\n",
       "</div>"
      ],
      "text/plain": [
       "       pmid  \\\n",
       "0  21719092   \n",
       "1  24582190   \n",
       "2  24251797   \n",
       "3  24140943   \n",
       "4  25202034   \n",
       "\n",
       "                                                                                                    title  \\\n",
       "0                                                                          Idiopathic pulmonary fibrosis.   \n",
       "1                    Frequency and implication of autoimmune serologies in idiopathic pulmonary fibrosis.   \n",
       "2                Pulmonary vascular limitation to exercise and survival in idiopathic pulmonary fibrosis.   \n",
       "3  Pathogenesis pathways of idiopathic pulmonary fibrosis in bleomycin-induced lung injury model in mice.   \n",
       "4                         Recent evidence for pharmacological treatment of idiopathic pulmonary fibrosis.   \n",
       "\n",
       "       firstauthor lastauthor                   journal           pubdate  \\\n",
       "0       King TE Jr   Selman M                    Lancet  2011/12/03 00:00   \n",
       "1           Moua T     Ryu JH            Mayo Clin Proc  2014/03/01 00:00   \n",
       "2  van der Plas MN  Bresser P               Respirology  2014/02/01 00:00   \n",
       "3            Shi K    Zheng J  Respir Physiol Neurobiol  2014/01/01 00:00   \n",
       "4        Covvey JR   Mancl EE          Ann Pharmacother  2014/12/01 00:00   \n",
       "\n",
       "                                               pubtype  \\\n",
       "0                            [Journal Article, Review]   \n",
       "1                [Evaluation Studies, Journal Article]   \n",
       "2  [Journal Article, Research Support, Non-U.S. Gov't]   \n",
       "3  [Journal Article, Research Support, Non-U.S. Gov't]   \n",
       "4                            [Journal Article, Review]   \n",
       "\n",
       "                                                                                                                                                                                                                                                                                                      abstract  \\\n",
       "0  Idiopathic pulmonary fibrosis is a devastating, age-related lung disease of unknown cause that has few treatment options. This disease was once thought to be a chronic inflammatory process, but current evidence indicates that the fibrotic response is driven by abnormally activated alveolar epith...   \n",
       "1  OBJECTIVE: To assess the frequency and clinical implications of positive autoimmune serologies in patients with biopsy-confirmed idiopathic pulmonary fibrosis (IPF). PATIENTS AND METHODS: We reviewed the records of patients at our institution with biopsy-confirmed usual interstitial pneumonia (U...   \n",
       "2  BACKGROUND AND OBJECTIVE: Pulmonary hypertension is frequently observed in advanced idiopathic pulmonary fibrosis (IPF) and is associated with poor prognosis. Cardiopulmonary exercise testing (CPET) can be used to detect less advanced pulmonary vascular impairment, and therefore may be of progno...   \n",
       "3  Our objective was to investigate the pathogenesis pathways of idiopathic pulmonary fibrosis (IPF). Bleomycin (BLM) induced animal models of experimental lung fibrosis were used. CHIP assay was executed to find the link between Smad3 and IL-31, and the expressions of TGF-beta1, Smad3, IL-31 and S...   \n",
       "4  OBJECTIVE: To describe emerging evidence for the pharmacological treatment of idiopathic pulmonary fibrosis (IPF). DATA SOURCES: A search of PubMed (1966 to July 2014) was performed using the terms idiopathic pulmonary fibrosis and treatment. STUDY SELECTION AND DATA EXTRACTION: Review of articl...   \n",
       "\n",
       "                                                                                                                                                                                                                                                                                                      keywords  \\\n",
       "0  [*Aging, *Apoptosis, *Attitude to Health, *Blood Gas Analysis/methods, *Capnography, *Cell Aging, *Cell Differentiation/immunology, *Cell Transformation, Neoplastic, *Clinical Trials as Topic, *Communication, *Consensus, *Cooperative Behavior, *DNA Methylation, *DNA, Bacterial, *Disease Manageme...   \n",
       "1  [*Aging, *Apoptosis, *Attitude to Health, *Blood Gas Analysis/methods, *Capnography, *Cell Aging, *Cell Differentiation/immunology, *Cell Transformation, Neoplastic, *Clinical Trials as Topic, *Communication, *Consensus, *Cooperative Behavior, *DNA Methylation, *DNA, Bacterial, *Disease Manageme...   \n",
       "2  [*Aging, *Apoptosis, *Attitude to Health, *Blood Gas Analysis/methods, *Capnography, *Cell Aging, *Cell Differentiation/immunology, *Cell Transformation, Neoplastic, *Clinical Trials as Topic, *Communication, *Consensus, *Cooperative Behavior, *DNA Methylation, *DNA, Bacterial, *Disease Manageme...   \n",
       "3  [*Aging, *Apoptosis, *Attitude to Health, *Blood Gas Analysis/methods, *Capnography, *Cell Aging, *Cell Differentiation/immunology, *Cell Transformation, Neoplastic, *Clinical Trials as Topic, *Communication, *Consensus, *Cooperative Behavior, *DNA Methylation, *DNA, Bacterial, *Disease Manageme...   \n",
       "4  [*Aging, *Apoptosis, *Attitude to Health, *Blood Gas Analysis/methods, *Capnography, *Cell Aging, *Cell Differentiation/immunology, *Cell Transformation, Neoplastic, *Clinical Trials as Topic, *Communication, *Consensus, *Cooperative Behavior, *DNA Methylation, *DNA, Bacterial, *Disease Manageme...   \n",
       "\n",
       "         rcr  \n",
       "0  21.568686  \n",
       "1   1.128043  \n",
       "2   1.293934  \n",
       "3   1.480776  \n",
       "4   1.220404  "
      ]
     },
     "execution_count": 11,
     "metadata": {},
     "output_type": "execute_result"
    }
   ],
   "source": [
    "pmid_blocks = get_chunked_pmids(term, chunksize=200)\n",
    "pmids = list(pmid_blocks)\n",
    "\n",
    "d = {}\n",
    "\n",
    "#for i, pmid in enumerate(pmids):\n",
    "for i, summary in enumerate(summaries):\n",
    "    d[i] = pd.DataFrame(pmids[i], columns=['pmid'])\n",
    "    d[i]['title'] = d[i]['pmid'].map(lambda x: summaries[i].get(x)['title'])\n",
    "    d[i]['firstauthor'] = d[i]['pmid'].map(lambda x: summaries[i].get(x)['sortfirstauthor'])\n",
    "    d[i]['lastauthor'] = d[i]['pmid'].map(lambda x: summaries[i].get(x)['lastauthor'])\n",
    "    d[i]['journal'] = d[i]['pmid'].map(lambda x: summaries[i].get(x)['source'])\n",
    "    d[i]['pubdate'] = d[i]['pmid'].map(lambda x: summaries[i].get(x)['sortpubdate'])\n",
    "    d[i]['pubtype'] = d[i]['pmid'].map(lambda x: pubtypes[i].get(x))\n",
    "    d[i]['abstract'] = d[i]['pmid'].map(lambda x: abstracts[i].get(x))\n",
    "    d[i]['keywords'] = d[i]['pmid'].map(lambda x: keywords[i].get(x))\n",
    "    d[i]['rcr'] = d[i]['pmid'].astype(int).map(lambda x: rcrs[i].get(x))\n",
    "            \n",
    "df = pd.concat(d.values(), ignore_index=True)\n",
    "pd.set_option('max_colwidth',300)\n",
    "df.head()"
   ]
  },
  {
   "cell_type": "code",
   "execution_count": 33,
   "metadata": {
    "collapsed": false
   },
   "outputs": [
    {
     "data": {
      "text/html": [
       "<div>\n",
       "<table border=\"1\" class=\"dataframe\">\n",
       "  <thead>\n",
       "    <tr style=\"text-align: right;\">\n",
       "      <th></th>\n",
       "      <th>pmid</th>\n",
       "      <th>title</th>\n",
       "      <th>firstauthor</th>\n",
       "      <th>lastauthor</th>\n",
       "      <th>journal</th>\n",
       "      <th>pubdate</th>\n",
       "      <th>pubtype</th>\n",
       "      <th>abstract</th>\n",
       "      <th>keywords</th>\n",
       "      <th>rcr</th>\n",
       "    </tr>\n",
       "  </thead>\n",
       "  <tbody>\n",
       "    <tr>\n",
       "      <th>264</th>\n",
       "      <td>21471066</td>\n",
       "      <td>An official ATS/ERS/JRS/ALAT statement: idiopathic pulmonary fibrosis: evidence-based guidelines for diagnosis and management.</td>\n",
       "      <td>Raghu G</td>\n",
       "      <td>Schünemann HJ</td>\n",
       "      <td>Am J Respir Crit Care Med</td>\n",
       "      <td>2011/03/15 00:00</td>\n",
       "      <td>[Journal Article, Practice Guideline, Research Support, Non-U.S. Gov't]</td>\n",
       "      <td>This document is an international evidence-based guideline on the diagnosis and management of idiopathic pulmonary fibrosis, and is a collaborative effort of the American Thoracic Society, the European Respiratory Society, the Japanese Respiratory Society, and the Latin American Thoracic Associa...</td>\n",
       "      <td>[*Activities of Daily Living, *Airway Remodeling, *Anti-Inflammatory Agents, Non-Steroidal/administration &amp; dosage/adverse effects, *Bronchoalveolar Lavage Fluid, *Cell Cycle, *Cell Differentiation/drug effects/genetics, *Cell Movement, *Decision Support Techniques, *Diagnostic Techniques, Respi...</td>\n",
       "      <td>102.409113</td>\n",
       "    </tr>\n",
       "    <tr>\n",
       "      <th>247</th>\n",
       "      <td>26177183</td>\n",
       "      <td>An Official ATS/ERS/JRS/ALAT Clinical Practice Guideline: Treatment of Idiopathic Pulmonary Fibrosis. An Update of the 2011 Clinical Practice Guideline.</td>\n",
       "      <td>Raghu G</td>\n",
       "      <td>Schünemann HJ</td>\n",
       "      <td>Am J Respir Crit Care Med</td>\n",
       "      <td>2015/07/15 00:00</td>\n",
       "      <td>[Journal Article, Practice Guideline]</td>\n",
       "      <td>BACKGROUND: This document updates the American Thoracic Society/European Respiratory Society/Japanese Respiratory Society/Latin American Thoracic Association guideline on idiopathic pulmonary fibrosis treatment. METHODS: Systematic reviews and, when appropriate, meta-analyses were performed to s...</td>\n",
       "      <td>[*Activities of Daily Living, *Airway Remodeling, *Anti-Inflammatory Agents, Non-Steroidal/administration &amp; dosage/adverse effects, *Bronchoalveolar Lavage Fluid, *Cell Cycle, *Cell Differentiation/drug effects/genetics, *Cell Movement, *Decision Support Techniques, *Diagnostic Techniques, Respi...</td>\n",
       "      <td>32.391134</td>\n",
       "    </tr>\n",
       "    <tr>\n",
       "      <th>56</th>\n",
       "      <td>21571362</td>\n",
       "      <td>Pirfenidone in patients with idiopathic pulmonary fibrosis (CAPACITY): two randomised trials.</td>\n",
       "      <td>Noble PW</td>\n",
       "      <td>du Bois RM</td>\n",
       "      <td>Lancet</td>\n",
       "      <td>2011/05/21 00:00</td>\n",
       "      <td>[Comparative Study, Journal Article, Multicenter Study, Randomized Controlled Trial, Research Support, Non-U.S. Gov't]</td>\n",
       "      <td>BACKGROUND: Idiopathic pulmonary fibrosis is a progressive and fatal lung disease with inevitable loss of lung function. The CAPACITY programme (studies 004 and 006) was designed to confirm the results of a phase 2 study that suggested that pirfenidone, a novel antifibrotic and anti-inflammatory...</td>\n",
       "      <td>[*Aging, *Apoptosis, *Attitude to Health, *Blood Gas Analysis/methods, *Capnography, *Cell Aging, *Cell Differentiation/immunology, *Cell Transformation, Neoplastic, *Clinical Trials as Topic, *Communication, *Consensus, *Cooperative Behavior, *DNA Methylation, *DNA, Bacterial, *Disease Manageme...</td>\n",
       "      <td>26.685945</td>\n",
       "    </tr>\n",
       "    <tr>\n",
       "      <th>0</th>\n",
       "      <td>21719092</td>\n",
       "      <td>Idiopathic pulmonary fibrosis.</td>\n",
       "      <td>King TE Jr</td>\n",
       "      <td>Selman M</td>\n",
       "      <td>Lancet</td>\n",
       "      <td>2011/12/03 00:00</td>\n",
       "      <td>[Journal Article, Review]</td>\n",
       "      <td>Idiopathic pulmonary fibrosis is a devastating, age-related lung disease of unknown cause that has few treatment options. This disease was once thought to be a chronic inflammatory process, but current evidence indicates that the fibrotic response is driven by abnormally activated alveolar epith...</td>\n",
       "      <td>[*Aging, *Apoptosis, *Attitude to Health, *Blood Gas Analysis/methods, *Capnography, *Cell Aging, *Cell Differentiation/immunology, *Cell Transformation, Neoplastic, *Clinical Trials as Topic, *Communication, *Consensus, *Cooperative Behavior, *DNA Methylation, *DNA, Bacterial, *Disease Manageme...</td>\n",
       "      <td>21.568686</td>\n",
       "    </tr>\n",
       "    <tr>\n",
       "      <th>105</th>\n",
       "      <td>21992121</td>\n",
       "      <td>Efficacy of a tyrosine kinase inhibitor in idiopathic pulmonary fibrosis.</td>\n",
       "      <td>Richeldi L</td>\n",
       "      <td>du Bois RM</td>\n",
       "      <td>N Engl J Med</td>\n",
       "      <td>2011/09/22 00:00</td>\n",
       "      <td>[Clinical Trial, Phase II, Journal Article, Multicenter Study, Randomized Controlled Trial, Research Support, Non-U.S. Gov't]</td>\n",
       "      <td>BACKGROUND: Idiopathic pulmonary fibrosis is a progressive lung disease with a high mortality rate. Because the signaling pathways activated by several tyrosine kinase receptors have been shown to be involved in lung fibrosis, it has been suggested that the inhibition of these receptors may slow...</td>\n",
       "      <td>[*Aging, *Apoptosis, *Attitude to Health, *Blood Gas Analysis/methods, *Capnography, *Cell Aging, *Cell Differentiation/immunology, *Cell Transformation, Neoplastic, *Clinical Trials as Topic, *Communication, *Consensus, *Cooperative Behavior, *DNA Methylation, *DNA, Bacterial, *Disease Manageme...</td>\n",
       "      <td>15.876036</td>\n",
       "    </tr>\n",
       "  </tbody>\n",
       "</table>\n",
       "</div>"
      ],
      "text/plain": [
       "         pmid  \\\n",
       "264  21471066   \n",
       "247  26177183   \n",
       "56   21571362   \n",
       "0    21719092   \n",
       "105  21992121   \n",
       "\n",
       "                                                                                                                                                        title  \\\n",
       "264                            An official ATS/ERS/JRS/ALAT statement: idiopathic pulmonary fibrosis: evidence-based guidelines for diagnosis and management.   \n",
       "247  An Official ATS/ERS/JRS/ALAT Clinical Practice Guideline: Treatment of Idiopathic Pulmonary Fibrosis. An Update of the 2011 Clinical Practice Guideline.   \n",
       "56                                                              Pirfenidone in patients with idiopathic pulmonary fibrosis (CAPACITY): two randomised trials.   \n",
       "0                                                                                                                              Idiopathic pulmonary fibrosis.   \n",
       "105                                                                                 Efficacy of a tyrosine kinase inhibitor in idiopathic pulmonary fibrosis.   \n",
       "\n",
       "    firstauthor     lastauthor                    journal           pubdate  \\\n",
       "264     Raghu G  Schünemann HJ  Am J Respir Crit Care Med  2011/03/15 00:00   \n",
       "247     Raghu G  Schünemann HJ  Am J Respir Crit Care Med  2015/07/15 00:00   \n",
       "56     Noble PW     du Bois RM                     Lancet  2011/05/21 00:00   \n",
       "0    King TE Jr       Selman M                     Lancet  2011/12/03 00:00   \n",
       "105  Richeldi L     du Bois RM               N Engl J Med  2011/09/22 00:00   \n",
       "\n",
       "                                                                                                                           pubtype  \\\n",
       "264                                                        [Journal Article, Practice Guideline, Research Support, Non-U.S. Gov't]   \n",
       "247                                                                                          [Journal Article, Practice Guideline]   \n",
       "56          [Comparative Study, Journal Article, Multicenter Study, Randomized Controlled Trial, Research Support, Non-U.S. Gov't]   \n",
       "0                                                                                                        [Journal Article, Review]   \n",
       "105  [Clinical Trial, Phase II, Journal Article, Multicenter Study, Randomized Controlled Trial, Research Support, Non-U.S. Gov't]   \n",
       "\n",
       "                                                                                                                                                                                                                                                                                                        abstract  \\\n",
       "264  This document is an international evidence-based guideline on the diagnosis and management of idiopathic pulmonary fibrosis, and is a collaborative effort of the American Thoracic Society, the European Respiratory Society, the Japanese Respiratory Society, and the Latin American Thoracic Associa...   \n",
       "247  BACKGROUND: This document updates the American Thoracic Society/European Respiratory Society/Japanese Respiratory Society/Latin American Thoracic Association guideline on idiopathic pulmonary fibrosis treatment. METHODS: Systematic reviews and, when appropriate, meta-analyses were performed to s...   \n",
       "56   BACKGROUND: Idiopathic pulmonary fibrosis is a progressive and fatal lung disease with inevitable loss of lung function. The CAPACITY programme (studies 004 and 006) was designed to confirm the results of a phase 2 study that suggested that pirfenidone, a novel antifibrotic and anti-inflammatory...   \n",
       "0    Idiopathic pulmonary fibrosis is a devastating, age-related lung disease of unknown cause that has few treatment options. This disease was once thought to be a chronic inflammatory process, but current evidence indicates that the fibrotic response is driven by abnormally activated alveolar epith...   \n",
       "105  BACKGROUND: Idiopathic pulmonary fibrosis is a progressive lung disease with a high mortality rate. Because the signaling pathways activated by several tyrosine kinase receptors have been shown to be involved in lung fibrosis, it has been suggested that the inhibition of these receptors may slow...   \n",
       "\n",
       "                                                                                                                                                                                                                                                                                                        keywords  \\\n",
       "264  [*Activities of Daily Living, *Airway Remodeling, *Anti-Inflammatory Agents, Non-Steroidal/administration & dosage/adverse effects, *Bronchoalveolar Lavage Fluid, *Cell Cycle, *Cell Differentiation/drug effects/genetics, *Cell Movement, *Decision Support Techniques, *Diagnostic Techniques, Respi...   \n",
       "247  [*Activities of Daily Living, *Airway Remodeling, *Anti-Inflammatory Agents, Non-Steroidal/administration & dosage/adverse effects, *Bronchoalveolar Lavage Fluid, *Cell Cycle, *Cell Differentiation/drug effects/genetics, *Cell Movement, *Decision Support Techniques, *Diagnostic Techniques, Respi...   \n",
       "56   [*Aging, *Apoptosis, *Attitude to Health, *Blood Gas Analysis/methods, *Capnography, *Cell Aging, *Cell Differentiation/immunology, *Cell Transformation, Neoplastic, *Clinical Trials as Topic, *Communication, *Consensus, *Cooperative Behavior, *DNA Methylation, *DNA, Bacterial, *Disease Manageme...   \n",
       "0    [*Aging, *Apoptosis, *Attitude to Health, *Blood Gas Analysis/methods, *Capnography, *Cell Aging, *Cell Differentiation/immunology, *Cell Transformation, Neoplastic, *Clinical Trials as Topic, *Communication, *Consensus, *Cooperative Behavior, *DNA Methylation, *DNA, Bacterial, *Disease Manageme...   \n",
       "105  [*Aging, *Apoptosis, *Attitude to Health, *Blood Gas Analysis/methods, *Capnography, *Cell Aging, *Cell Differentiation/immunology, *Cell Transformation, Neoplastic, *Clinical Trials as Topic, *Communication, *Consensus, *Cooperative Behavior, *DNA Methylation, *DNA, Bacterial, *Disease Manageme...   \n",
       "\n",
       "            rcr  \n",
       "264  102.409113  \n",
       "247   32.391134  \n",
       "56    26.685945  \n",
       "0     21.568686  \n",
       "105   15.876036  "
      ]
     },
     "execution_count": 33,
     "metadata": {},
     "output_type": "execute_result"
    }
   ],
   "source": [
    "df.sort_values(by='rcr', ascending=False).head()"
   ]
  },
  {
   "cell_type": "code",
   "execution_count": 26,
   "metadata": {
    "collapsed": false
   },
   "outputs": [
    {
     "data": {
      "text/plain": [
       "Cottin V      10\n",
       "Richeldi L     8\n",
       "Raghu G        7\n",
       "Behr J         6\n",
       "Yang IV        6\n",
       "Name: firstauthor, dtype: int64"
      ]
     },
     "execution_count": 26,
     "metadata": {},
     "output_type": "execute_result"
    }
   ],
   "source": [
    "df.firstauthor.value_counts().head()"
   ]
  },
  {
   "cell_type": "code",
   "execution_count": 27,
   "metadata": {
    "collapsed": false
   },
   "outputs": [
    {
     "data": {
      "text/plain": [
       "Collard HR    17\n",
       "Kaminski N     9\n",
       "Richeldi L     8\n",
       "du Bois RM     8\n",
       "Maher TM       7\n",
       "Name: lastauthor, dtype: int64"
      ]
     },
     "execution_count": 27,
     "metadata": {},
     "output_type": "execute_result"
    }
   ],
   "source": [
    "df.lastauthor.value_counts().head()"
   ]
  },
  {
   "cell_type": "code",
   "execution_count": 34,
   "metadata": {
    "collapsed": false
   },
   "outputs": [
    {
     "data": {
      "text/plain": [
       "Eur Respir J                 36\n",
       "Am J Respir Crit Care Med    33\n",
       "Chest                        28\n",
       "PLoS One                     27\n",
       "BMC Pulm Med                 21\n",
       "Name: journal, dtype: int64"
      ]
     },
     "execution_count": 34,
     "metadata": {},
     "output_type": "execute_result"
    }
   ],
   "source": [
    "df.journal.value_counts().head()"
   ]
  },
  {
   "cell_type": "code",
   "execution_count": 42,
   "metadata": {
    "collapsed": false
   },
   "outputs": [
    {
     "data": {
      "text/plain": [
       "['Journal Article', \"Research Support, Non-U.S. Gov't\"]                                                                                                          112\n",
       "['Journal Article']                                                                                                                                              102\n",
       "['Journal Article', 'Review']                                                                                                                                     68\n",
       "['Journal Article', \"Research Support, Non-U.S. Gov't\", 'Review']                                                                                                 32\n",
       "['Journal Article', 'Research Support, N.I.H., Extramural']                                                                                                       25\n",
       "['Journal Article', 'Research Support, N.I.H., Extramural', \"Research Support, Non-U.S. Gov't\"]                                                                   24\n",
       "['Comparative Study', 'Journal Article']                                                                                                                          12\n",
       "['English Abstract', 'Journal Article']                                                                                                                           11\n",
       "['English Abstract', 'Journal Article', 'Review']                                                                                                                 10\n",
       "['Comment', 'Editorial']                                                                                                                                          10\n",
       "['Editorial']                                                                                                                                                      9\n",
       "['Comparative Study', 'Journal Article', \"Research Support, Non-U.S. Gov't\"]                                                                                       8\n",
       "['Case Reports', 'Journal Article']                                                                                                                                7\n",
       "['Journal Article', 'Research Support, N.I.H., Extramural', \"Research Support, Non-U.S. Gov't\", 'Review']                                                          7\n",
       "['Journal Article', 'Research Support, N.I.H., Extramural', 'Review']                                                                                              6\n",
       "['Comment', 'Letter']                                                                                                                                              6\n",
       "['Journal Article', 'Multicenter Study', 'Randomized Controlled Trial', \"Research Support, Non-U.S. Gov't\"]                                                        6\n",
       "['Journal Article', 'Multicenter Study', \"Research Support, Non-U.S. Gov't\"]                                                                                       5\n",
       "['Journal Article', 'Randomized Controlled Trial']                                                                                                                 4\n",
       "['Journal Article', 'Observational Study']                                                                                                                         4\n",
       "['Clinical Trial, Phase II', 'Journal Article', 'Multicenter Study', 'Randomized Controlled Trial', \"Research Support, Non-U.S. Gov't\"]                            4\n",
       "['Case Reports', 'Journal Article', 'Review']                                                                                                                      4\n",
       "['Journal Article', 'Research Support, N.I.H., Extramural', \"Research Support, Non-U.S. Gov't\", \"Research Support, U.S. Gov't, Non-P.H.S.\"]                        4\n",
       "['Journal Article', 'Multicenter Study']                                                                                                                           3\n",
       "['Journal Article', 'Meta-Analysis', \"Research Support, Non-U.S. Gov't\", 'Review']                                                                                 3\n",
       "['Comparative Study', 'Journal Article', 'Research Support, N.I.H., Extramural']                                                                                   3\n",
       "['Comparative Study', 'English Abstract', 'Journal Article']                                                                                                       3\n",
       "['Case Reports', 'Letter']                                                                                                                                         3\n",
       "['Journal Article', 'Multicenter Study', 'Randomized Controlled Trial', 'Research Support, N.I.H., Extramural', \"Research Support, Non-U.S. Gov't\"]                3\n",
       "['Journal Article', 'Meta-Analysis', 'Review']                                                                                                                     3\n",
       "                                                                                                                                                                ... \n",
       "['Journal Article', 'Randomized Controlled Trial', \"Research Support, U.S. Gov't, Non-P.H.S.\"]                                                                     1\n",
       "['Clinical Trial, Phase III', 'Journal Article', 'Multicenter Study', 'Randomized Controlled Trial', 'Review']                                                     1\n",
       "['Clinical Trial, Phase I', 'Journal Article', 'Multicenter Study', \"Research Support, Non-U.S. Gov't\"]                                                            1\n",
       "['Editorial', 'Research Support, N.I.H., Extramural', \"Research Support, Non-U.S. Gov't\"]                                                                          1\n",
       "['Journal Article', 'Multicenter Study', 'Randomized Controlled Trial', 'Research Support, N.I.H., Extramural']                                                    1\n",
       "['English Abstract', 'Journal Article', 'Meta-Analysis']                                                                                                           1\n",
       "['Consensus Development Conference', 'Journal Article', \"Research Support, Non-U.S. Gov't\"]                                                                        1\n",
       "['Clinical Trial', 'Journal Article', 'Research Support, N.I.H., Extramural', 'Validation Studies']                                                                1\n",
       "['Consensus Development Conference', 'Journal Article', 'Research Support, N.I.H., Intramural']                                                                    1\n",
       "['Evaluation Studies', 'Journal Article', 'Meta-Analysis', \"Research Support, Non-U.S. Gov't\"]                                                                     1\n",
       "['Comparative Study', 'Letter', \"Research Support, Non-U.S. Gov't\"]                                                                                                1\n",
       "['Editorial', 'Introductory Journal Article', \"Research Support, Non-U.S. Gov't\"]                                                                                  1\n",
       "['Journal Article', 'Research Support, N.I.H., Extramural', \"Research Support, U.S. Gov't, Non-P.H.S.\", 'Review']                                                  1\n",
       "['English Abstract', 'Journal Article', \"Research Support, U.S. Gov't, Non-P.H.S.\"]                                                                                1\n",
       "['Journal Article', 'Meta-Analysis']                                                                                                                               1\n",
       "['Journal Article', 'Practice Guideline', \"Research Support, Non-U.S. Gov't\"]                                                                                      1\n",
       "['Journal Article', 'Multicenter Study', 'Observational Study']                                                                                                    1\n",
       "['Clinical Trial, Phase III', 'Journal Article', 'Randomized Controlled Trial', \"Research Support, Non-U.S. Gov't\", 'Validation Studies']                          1\n",
       "['Journal Article', 'Validation Studies']                                                                                                                          1\n",
       "['Journal Article', \"Research Support, Non-U.S. Gov't\", 'Validation Studies']                                                                                      1\n",
       "['Clinical Trial, Phase III', 'Comparative Study', 'Journal Article', 'Multicenter Study', 'Randomized Controlled Trial', \"Research Support, Non-U.S. Gov't\"]      1\n",
       "['Case Reports', 'Journal Article', 'Research Support, N.I.H., Extramural', \"Research Support, Non-U.S. Gov't\"]                                                    1\n",
       "['Comparative Study', 'Journal Article', 'Multicenter Study', 'Randomized Controlled Trial', \"Research Support, Non-U.S. Gov't\"]                                   1\n",
       "['Historical Article', 'Journal Article', 'Review']                                                                                                                1\n",
       "['Journal Article', 'Observational Study', \"Research Support, Non-U.S. Gov't\"]                                                                                     1\n",
       "['Clinical Trial, Phase II', 'Journal Article', 'Randomized Controlled Trial']                                                                                     1\n",
       "['Comparative Study', 'Journal Article', 'Randomized Controlled Trial']                                                                                            1\n",
       "['Personal Narratives']                                                                                                                                            1\n",
       "['Journal Article', 'Randomized Controlled Trial', 'Research Support, N.I.H., Extramural', \"Research Support, Non-U.S. Gov't\"]                                     1\n",
       "['Comparative Study', 'English Abstract', 'Journal Article', 'Multicenter Study']                                                                                  1\n",
       "Name: pubtype, dtype: int64"
      ]
     },
     "execution_count": 42,
     "metadata": {},
     "output_type": "execute_result"
    }
   ],
   "source": [
    "df.pubtype.astype(str).value_counts()"
   ]
  },
  {
   "cell_type": "code",
   "execution_count": 56,
   "metadata": {
    "collapsed": false
   },
   "outputs": [
    {
     "data": {
      "text/html": [
       "<div>\n",
       "<table border=\"1\" class=\"dataframe\">\n",
       "  <thead>\n",
       "    <tr style=\"text-align: right;\">\n",
       "      <th></th>\n",
       "      <th>pmid</th>\n",
       "      <th>title</th>\n",
       "      <th>firstauthor</th>\n",
       "      <th>lastauthor</th>\n",
       "      <th>journal</th>\n",
       "      <th>pubdate</th>\n",
       "      <th>pubtype</th>\n",
       "      <th>abstract</th>\n",
       "      <th>keywords</th>\n",
       "      <th>rcr</th>\n",
       "    </tr>\n",
       "  </thead>\n",
       "  <tbody>\n",
       "    <tr>\n",
       "      <th>19</th>\n",
       "      <td>26401883</td>\n",
       "      <td>MMP-9 1562C&amp;amp;gt;T Gene Polymorphism and Efficacy of Glucocorticoid Therapy in Idiopathic Pulmonary Fibrosis Patients.</td>\n",
       "      <td>Zhang HT</td>\n",
       "      <td>Zhang YM</td>\n",
       "      <td>Genet Test Mol Biomarkers</td>\n",
       "      <td>2015/11/01 00:00</td>\n",
       "      <td>[Journal Article]</td>\n",
       "      <td>OBJECTIVE: To investigate the relationship between matrix metalloproteinase 9 (MMP-9) gene polymorphism and the efficacy of glucocorticoid therapy in idiopathic pulmonary fibrosis (IPF) patients. METHODS: We conducted a case-control study. Between January 2013 and September 2014, 115 patients at...</td>\n",
       "      <td>[*Aging, *Apoptosis, *Attitude to Health, *Blood Gas Analysis/methods, *Capnography, *Cell Aging, *Cell Differentiation/immunology, *Cell Transformation, Neoplastic, *Clinical Trials as Topic, *Communication, *Consensus, *Cooperative Behavior, *DNA Methylation, *DNA, Bacterial, *Disease Manageme...</td>\n",
       "      <td>0.000000</td>\n",
       "    </tr>\n",
       "    <tr>\n",
       "      <th>27</th>\n",
       "      <td>25811599</td>\n",
       "      <td>Thyroid Disease Is Prevalent and Predicts Survival in Patients With Idiopathic Pulmonary Fibrosis.</td>\n",
       "      <td>Oldham JM</td>\n",
       "      <td>Noth I</td>\n",
       "      <td>Chest</td>\n",
       "      <td>2015/09/01 00:00</td>\n",
       "      <td>[Journal Article, Research Support, Non-U.S. Gov't]</td>\n",
       "      <td>BACKGROUND: A significant minority of patients with idiopathic pulmonary fibrosis (IPF) display features of autoimmunity without meeting the criteria for overt connective tissue disease. A link between IPF and other immune-mediated processes, such as hypothyroidism (HT), has not been reported. I...</td>\n",
       "      <td>[*Aging, *Apoptosis, *Attitude to Health, *Blood Gas Analysis/methods, *Capnography, *Cell Aging, *Cell Differentiation/immunology, *Cell Transformation, Neoplastic, *Clinical Trials as Topic, *Communication, *Consensus, *Cooperative Behavior, *DNA Methylation, *DNA, Bacterial, *Disease Manageme...</td>\n",
       "      <td>1.300599</td>\n",
       "    </tr>\n",
       "    <tr>\n",
       "      <th>204</th>\n",
       "      <td>24417616</td>\n",
       "      <td>Long-term outcome and use of 6-minute walk test in West Highland White Terriers with idiopathic pulmonary fibrosis.</td>\n",
       "      <td>Lilja-Maula LI</td>\n",
       "      <td>Rajamäki MM</td>\n",
       "      <td>J Vet Intern Med</td>\n",
       "      <td>2014/01/01 00:00</td>\n",
       "      <td>[Journal Article, Research Support, Non-U.S. Gov't]</td>\n",
       "      <td>BACKGROUND: Idiopathic pulmonary fibrosis (IPF) is an incurable interstitial lung disease occurring mainly in West Highland White Terriers (WHWTs). The effects of IPF on survival and on exercise tolerance in WHWTs are unknown. OBJECTIVES: To evaluate survival, prognostic factors, and exercise to...</td>\n",
       "      <td>[*Activities of Daily Living, *Airway Remodeling, *Anti-Inflammatory Agents, Non-Steroidal/administration &amp; dosage/adverse effects, *Bronchoalveolar Lavage Fluid, *Cell Cycle, *Cell Differentiation/drug effects/genetics, *Cell Movement, *Decision Support Techniques, *Diagnostic Techniques, Respi...</td>\n",
       "      <td>1.017476</td>\n",
       "    </tr>\n",
       "    <tr>\n",
       "      <th>219</th>\n",
       "      <td>21917441</td>\n",
       "      <td>Familial pulmonary fibrosis is the strongest risk factor for idiopathic pulmonary fibrosis.</td>\n",
       "      <td>García-Sancho C</td>\n",
       "      <td>Selman M</td>\n",
       "      <td>Respir Med</td>\n",
       "      <td>2011/12/01 00:00</td>\n",
       "      <td>[Journal Article, Research Support, Non-U.S. Gov't]</td>\n",
       "      <td>Idiopathic pulmonary fibrosis (IPF) is a lethal lung disorder of unknown etiology. The disease is likely the result of complex interactions between genetic and environmental factors. Evidence suggests that certain environmental factors, such as cigarette smoking and metal dust exposures, or como...</td>\n",
       "      <td>[*Activities of Daily Living, *Airway Remodeling, *Anti-Inflammatory Agents, Non-Steroidal/administration &amp; dosage/adverse effects, *Bronchoalveolar Lavage Fluid, *Cell Cycle, *Cell Differentiation/drug effects/genetics, *Cell Movement, *Decision Support Techniques, *Diagnostic Techniques, Respi...</td>\n",
       "      <td>1.983337</td>\n",
       "    </tr>\n",
       "    <tr>\n",
       "      <th>255</th>\n",
       "      <td>22183478</td>\n",
       "      <td>Bronchoalveolar lavage pepsin in acute exacerbation of idiopathic pulmonary fibrosis.</td>\n",
       "      <td>Lee JS</td>\n",
       "      <td>Collard HR</td>\n",
       "      <td>Eur Respir J</td>\n",
       "      <td>2012/02/01 00:00</td>\n",
       "      <td>[Journal Article, Research Support, N.I.H., Extramural]</td>\n",
       "      <td>Some patients with idiopathic pulmonary fibrosis experience acute exacerbations in their respiratory status leading to substantial morbidity and mortality. Occult aspiration of gastric contents has been proposed as one possible mechanism leading to these acute exacerbations. We sought to determi...</td>\n",
       "      <td>[*Activities of Daily Living, *Airway Remodeling, *Anti-Inflammatory Agents, Non-Steroidal/administration &amp; dosage/adverse effects, *Bronchoalveolar Lavage Fluid, *Cell Cycle, *Cell Differentiation/drug effects/genetics, *Cell Movement, *Decision Support Techniques, *Diagnostic Techniques, Respi...</td>\n",
       "      <td>4.959691</td>\n",
       "    </tr>\n",
       "  </tbody>\n",
       "</table>\n",
       "</div>"
      ],
      "text/plain": [
       "         pmid  \\\n",
       "19   26401883   \n",
       "27   25811599   \n",
       "204  24417616   \n",
       "219  21917441   \n",
       "255  22183478   \n",
       "\n",
       "                                                                                                                        title  \\\n",
       "19   MMP-9 1562C&amp;gt;T Gene Polymorphism and Efficacy of Glucocorticoid Therapy in Idiopathic Pulmonary Fibrosis Patients.   \n",
       "27                         Thyroid Disease Is Prevalent and Predicts Survival in Patients With Idiopathic Pulmonary Fibrosis.   \n",
       "204       Long-term outcome and use of 6-minute walk test in West Highland White Terriers with idiopathic pulmonary fibrosis.   \n",
       "219                               Familial pulmonary fibrosis is the strongest risk factor for idiopathic pulmonary fibrosis.   \n",
       "255                                     Bronchoalveolar lavage pepsin in acute exacerbation of idiopathic pulmonary fibrosis.   \n",
       "\n",
       "         firstauthor   lastauthor                    journal  \\\n",
       "19          Zhang HT     Zhang YM  Genet Test Mol Biomarkers   \n",
       "27         Oldham JM       Noth I                      Chest   \n",
       "204   Lilja-Maula LI  Rajamäki MM           J Vet Intern Med   \n",
       "219  García-Sancho C     Selman M                 Respir Med   \n",
       "255           Lee JS   Collard HR               Eur Respir J   \n",
       "\n",
       "              pubdate  \\\n",
       "19   2015/11/01 00:00   \n",
       "27   2015/09/01 00:00   \n",
       "204  2014/01/01 00:00   \n",
       "219  2011/12/01 00:00   \n",
       "255  2012/02/01 00:00   \n",
       "\n",
       "                                                     pubtype  \\\n",
       "19                                         [Journal Article]   \n",
       "27       [Journal Article, Research Support, Non-U.S. Gov't]   \n",
       "204      [Journal Article, Research Support, Non-U.S. Gov't]   \n",
       "219      [Journal Article, Research Support, Non-U.S. Gov't]   \n",
       "255  [Journal Article, Research Support, N.I.H., Extramural]   \n",
       "\n",
       "                                                                                                                                                                                                                                                                                                        abstract  \\\n",
       "19   OBJECTIVE: To investigate the relationship between matrix metalloproteinase 9 (MMP-9) gene polymorphism and the efficacy of glucocorticoid therapy in idiopathic pulmonary fibrosis (IPF) patients. METHODS: We conducted a case-control study. Between January 2013 and September 2014, 115 patients at...   \n",
       "27   BACKGROUND: A significant minority of patients with idiopathic pulmonary fibrosis (IPF) display features of autoimmunity without meeting the criteria for overt connective tissue disease. A link between IPF and other immune-mediated processes, such as hypothyroidism (HT), has not been reported. I...   \n",
       "204  BACKGROUND: Idiopathic pulmonary fibrosis (IPF) is an incurable interstitial lung disease occurring mainly in West Highland White Terriers (WHWTs). The effects of IPF on survival and on exercise tolerance in WHWTs are unknown. OBJECTIVES: To evaluate survival, prognostic factors, and exercise to...   \n",
       "219  Idiopathic pulmonary fibrosis (IPF) is a lethal lung disorder of unknown etiology. The disease is likely the result of complex interactions between genetic and environmental factors. Evidence suggests that certain environmental factors, such as cigarette smoking and metal dust exposures, or como...   \n",
       "255  Some patients with idiopathic pulmonary fibrosis experience acute exacerbations in their respiratory status leading to substantial morbidity and mortality. Occult aspiration of gastric contents has been proposed as one possible mechanism leading to these acute exacerbations. We sought to determi...   \n",
       "\n",
       "                                                                                                                                                                                                                                                                                                        keywords  \\\n",
       "19   [*Aging, *Apoptosis, *Attitude to Health, *Blood Gas Analysis/methods, *Capnography, *Cell Aging, *Cell Differentiation/immunology, *Cell Transformation, Neoplastic, *Clinical Trials as Topic, *Communication, *Consensus, *Cooperative Behavior, *DNA Methylation, *DNA, Bacterial, *Disease Manageme...   \n",
       "27   [*Aging, *Apoptosis, *Attitude to Health, *Blood Gas Analysis/methods, *Capnography, *Cell Aging, *Cell Differentiation/immunology, *Cell Transformation, Neoplastic, *Clinical Trials as Topic, *Communication, *Consensus, *Cooperative Behavior, *DNA Methylation, *DNA, Bacterial, *Disease Manageme...   \n",
       "204  [*Activities of Daily Living, *Airway Remodeling, *Anti-Inflammatory Agents, Non-Steroidal/administration & dosage/adverse effects, *Bronchoalveolar Lavage Fluid, *Cell Cycle, *Cell Differentiation/drug effects/genetics, *Cell Movement, *Decision Support Techniques, *Diagnostic Techniques, Respi...   \n",
       "219  [*Activities of Daily Living, *Airway Remodeling, *Anti-Inflammatory Agents, Non-Steroidal/administration & dosage/adverse effects, *Bronchoalveolar Lavage Fluid, *Cell Cycle, *Cell Differentiation/drug effects/genetics, *Cell Movement, *Decision Support Techniques, *Diagnostic Techniques, Respi...   \n",
       "255  [*Activities of Daily Living, *Airway Remodeling, *Anti-Inflammatory Agents, Non-Steroidal/administration & dosage/adverse effects, *Bronchoalveolar Lavage Fluid, *Cell Cycle, *Cell Differentiation/drug effects/genetics, *Cell Movement, *Decision Support Techniques, *Diagnostic Techniques, Respi...   \n",
       "\n",
       "          rcr  \n",
       "19   0.000000  \n",
       "27   1.300599  \n",
       "204  1.017476  \n",
       "219  1.983337  \n",
       "255  4.959691  "
      ]
     },
     "execution_count": 56,
     "metadata": {},
     "output_type": "execute_result"
    }
   ],
   "source": [
    "df[df.abstract.str.contains('case-control')].head()"
   ]
  },
  {
   "cell_type": "code",
   "execution_count": 61,
   "metadata": {
    "collapsed": false
   },
   "outputs": [],
   "source": [
    "df.pubdate = pd.to_datetime(df.pubdate)\n"
   ]
  },
  {
   "cell_type": "code",
   "execution_count": 62,
   "metadata": {
    "collapsed": false
   },
   "outputs": [
    {
     "data": {
      "text/html": [
       "<div>\n",
       "<table border=\"1\" class=\"dataframe\">\n",
       "  <thead>\n",
       "    <tr style=\"text-align: right;\">\n",
       "      <th></th>\n",
       "      <th>pmid</th>\n",
       "      <th>title</th>\n",
       "      <th>firstauthor</th>\n",
       "      <th>lastauthor</th>\n",
       "      <th>journal</th>\n",
       "      <th>pubdate</th>\n",
       "      <th>pubtype</th>\n",
       "      <th>abstract</th>\n",
       "      <th>keywords</th>\n",
       "      <th>rcr</th>\n",
       "    </tr>\n",
       "  </thead>\n",
       "  <tbody>\n",
       "    <tr>\n",
       "      <th>0</th>\n",
       "      <td>21719092</td>\n",
       "      <td>Idiopathic pulmonary fibrosis.</td>\n",
       "      <td>King TE Jr</td>\n",
       "      <td>Selman M</td>\n",
       "      <td>Lancet</td>\n",
       "      <td>2011-12-03</td>\n",
       "      <td>[Journal Article, Review]</td>\n",
       "      <td>Idiopathic pulmonary fibrosis is a devastating, age-related lung disease of unknown cause that has few treatment options. This disease was once thought to be a chronic inflammatory process, but current evidence indicates that the fibrotic response is driven by abnormally activated alveolar epith...</td>\n",
       "      <td>[*Aging, *Apoptosis, *Attitude to Health, *Blood Gas Analysis/methods, *Capnography, *Cell Aging, *Cell Differentiation/immunology, *Cell Transformation, Neoplastic, *Clinical Trials as Topic, *Communication, *Consensus, *Cooperative Behavior, *DNA Methylation, *DNA, Bacterial, *Disease Manageme...</td>\n",
       "      <td>21.568686</td>\n",
       "    </tr>\n",
       "    <tr>\n",
       "      <th>1</th>\n",
       "      <td>24582190</td>\n",
       "      <td>Frequency and implication of autoimmune serologies in idiopathic pulmonary fibrosis.</td>\n",
       "      <td>Moua T</td>\n",
       "      <td>Ryu JH</td>\n",
       "      <td>Mayo Clin Proc</td>\n",
       "      <td>2014-03-01</td>\n",
       "      <td>[Evaluation Studies, Journal Article]</td>\n",
       "      <td>OBJECTIVE: To assess the frequency and clinical implications of positive autoimmune serologies in patients with biopsy-confirmed idiopathic pulmonary fibrosis (IPF). PATIENTS AND METHODS: We reviewed the records of patients at our institution with biopsy-confirmed usual interstitial pneumonia (U...</td>\n",
       "      <td>[*Aging, *Apoptosis, *Attitude to Health, *Blood Gas Analysis/methods, *Capnography, *Cell Aging, *Cell Differentiation/immunology, *Cell Transformation, Neoplastic, *Clinical Trials as Topic, *Communication, *Consensus, *Cooperative Behavior, *DNA Methylation, *DNA, Bacterial, *Disease Manageme...</td>\n",
       "      <td>1.128043</td>\n",
       "    </tr>\n",
       "    <tr>\n",
       "      <th>2</th>\n",
       "      <td>24251797</td>\n",
       "      <td>Pulmonary vascular limitation to exercise and survival in idiopathic pulmonary fibrosis.</td>\n",
       "      <td>van der Plas MN</td>\n",
       "      <td>Bresser P</td>\n",
       "      <td>Respirology</td>\n",
       "      <td>2014-02-01</td>\n",
       "      <td>[Journal Article, Research Support, Non-U.S. Gov't]</td>\n",
       "      <td>BACKGROUND AND OBJECTIVE: Pulmonary hypertension is frequently observed in advanced idiopathic pulmonary fibrosis (IPF) and is associated with poor prognosis. Cardiopulmonary exercise testing (CPET) can be used to detect less advanced pulmonary vascular impairment, and therefore may be of progno...</td>\n",
       "      <td>[*Aging, *Apoptosis, *Attitude to Health, *Blood Gas Analysis/methods, *Capnography, *Cell Aging, *Cell Differentiation/immunology, *Cell Transformation, Neoplastic, *Clinical Trials as Topic, *Communication, *Consensus, *Cooperative Behavior, *DNA Methylation, *DNA, Bacterial, *Disease Manageme...</td>\n",
       "      <td>1.293934</td>\n",
       "    </tr>\n",
       "    <tr>\n",
       "      <th>3</th>\n",
       "      <td>24140943</td>\n",
       "      <td>Pathogenesis pathways of idiopathic pulmonary fibrosis in bleomycin-induced lung injury model in mice.</td>\n",
       "      <td>Shi K</td>\n",
       "      <td>Zheng J</td>\n",
       "      <td>Respir Physiol Neurobiol</td>\n",
       "      <td>2014-01-01</td>\n",
       "      <td>[Journal Article, Research Support, Non-U.S. Gov't]</td>\n",
       "      <td>Our objective was to investigate the pathogenesis pathways of idiopathic pulmonary fibrosis (IPF). Bleomycin (BLM) induced animal models of experimental lung fibrosis were used. CHIP assay was executed to find the link between Smad3 and IL-31, and the expressions of TGF-beta1, Smad3, IL-31 and S...</td>\n",
       "      <td>[*Aging, *Apoptosis, *Attitude to Health, *Blood Gas Analysis/methods, *Capnography, *Cell Aging, *Cell Differentiation/immunology, *Cell Transformation, Neoplastic, *Clinical Trials as Topic, *Communication, *Consensus, *Cooperative Behavior, *DNA Methylation, *DNA, Bacterial, *Disease Manageme...</td>\n",
       "      <td>1.480776</td>\n",
       "    </tr>\n",
       "    <tr>\n",
       "      <th>4</th>\n",
       "      <td>25202034</td>\n",
       "      <td>Recent evidence for pharmacological treatment of idiopathic pulmonary fibrosis.</td>\n",
       "      <td>Covvey JR</td>\n",
       "      <td>Mancl EE</td>\n",
       "      <td>Ann Pharmacother</td>\n",
       "      <td>2014-12-01</td>\n",
       "      <td>[Journal Article, Review]</td>\n",
       "      <td>OBJECTIVE: To describe emerging evidence for the pharmacological treatment of idiopathic pulmonary fibrosis (IPF). DATA SOURCES: A search of PubMed (1966 to July 2014) was performed using the terms idiopathic pulmonary fibrosis and treatment. STUDY SELECTION AND DATA EXTRACTION: Review of articl...</td>\n",
       "      <td>[*Aging, *Apoptosis, *Attitude to Health, *Blood Gas Analysis/methods, *Capnography, *Cell Aging, *Cell Differentiation/immunology, *Cell Transformation, Neoplastic, *Clinical Trials as Topic, *Communication, *Consensus, *Cooperative Behavior, *DNA Methylation, *DNA, Bacterial, *Disease Manageme...</td>\n",
       "      <td>1.220404</td>\n",
       "    </tr>\n",
       "  </tbody>\n",
       "</table>\n",
       "</div>"
      ],
      "text/plain": [
       "       pmid  \\\n",
       "0  21719092   \n",
       "1  24582190   \n",
       "2  24251797   \n",
       "3  24140943   \n",
       "4  25202034   \n",
       "\n",
       "                                                                                                    title  \\\n",
       "0                                                                          Idiopathic pulmonary fibrosis.   \n",
       "1                    Frequency and implication of autoimmune serologies in idiopathic pulmonary fibrosis.   \n",
       "2                Pulmonary vascular limitation to exercise and survival in idiopathic pulmonary fibrosis.   \n",
       "3  Pathogenesis pathways of idiopathic pulmonary fibrosis in bleomycin-induced lung injury model in mice.   \n",
       "4                         Recent evidence for pharmacological treatment of idiopathic pulmonary fibrosis.   \n",
       "\n",
       "       firstauthor lastauthor                   journal    pubdate  \\\n",
       "0       King TE Jr   Selman M                    Lancet 2011-12-03   \n",
       "1           Moua T     Ryu JH            Mayo Clin Proc 2014-03-01   \n",
       "2  van der Plas MN  Bresser P               Respirology 2014-02-01   \n",
       "3            Shi K    Zheng J  Respir Physiol Neurobiol 2014-01-01   \n",
       "4        Covvey JR   Mancl EE          Ann Pharmacother 2014-12-01   \n",
       "\n",
       "                                               pubtype  \\\n",
       "0                            [Journal Article, Review]   \n",
       "1                [Evaluation Studies, Journal Article]   \n",
       "2  [Journal Article, Research Support, Non-U.S. Gov't]   \n",
       "3  [Journal Article, Research Support, Non-U.S. Gov't]   \n",
       "4                            [Journal Article, Review]   \n",
       "\n",
       "                                                                                                                                                                                                                                                                                                      abstract  \\\n",
       "0  Idiopathic pulmonary fibrosis is a devastating, age-related lung disease of unknown cause that has few treatment options. This disease was once thought to be a chronic inflammatory process, but current evidence indicates that the fibrotic response is driven by abnormally activated alveolar epith...   \n",
       "1  OBJECTIVE: To assess the frequency and clinical implications of positive autoimmune serologies in patients with biopsy-confirmed idiopathic pulmonary fibrosis (IPF). PATIENTS AND METHODS: We reviewed the records of patients at our institution with biopsy-confirmed usual interstitial pneumonia (U...   \n",
       "2  BACKGROUND AND OBJECTIVE: Pulmonary hypertension is frequently observed in advanced idiopathic pulmonary fibrosis (IPF) and is associated with poor prognosis. Cardiopulmonary exercise testing (CPET) can be used to detect less advanced pulmonary vascular impairment, and therefore may be of progno...   \n",
       "3  Our objective was to investigate the pathogenesis pathways of idiopathic pulmonary fibrosis (IPF). Bleomycin (BLM) induced animal models of experimental lung fibrosis were used. CHIP assay was executed to find the link between Smad3 and IL-31, and the expressions of TGF-beta1, Smad3, IL-31 and S...   \n",
       "4  OBJECTIVE: To describe emerging evidence for the pharmacological treatment of idiopathic pulmonary fibrosis (IPF). DATA SOURCES: A search of PubMed (1966 to July 2014) was performed using the terms idiopathic pulmonary fibrosis and treatment. STUDY SELECTION AND DATA EXTRACTION: Review of articl...   \n",
       "\n",
       "                                                                                                                                                                                                                                                                                                      keywords  \\\n",
       "0  [*Aging, *Apoptosis, *Attitude to Health, *Blood Gas Analysis/methods, *Capnography, *Cell Aging, *Cell Differentiation/immunology, *Cell Transformation, Neoplastic, *Clinical Trials as Topic, *Communication, *Consensus, *Cooperative Behavior, *DNA Methylation, *DNA, Bacterial, *Disease Manageme...   \n",
       "1  [*Aging, *Apoptosis, *Attitude to Health, *Blood Gas Analysis/methods, *Capnography, *Cell Aging, *Cell Differentiation/immunology, *Cell Transformation, Neoplastic, *Clinical Trials as Topic, *Communication, *Consensus, *Cooperative Behavior, *DNA Methylation, *DNA, Bacterial, *Disease Manageme...   \n",
       "2  [*Aging, *Apoptosis, *Attitude to Health, *Blood Gas Analysis/methods, *Capnography, *Cell Aging, *Cell Differentiation/immunology, *Cell Transformation, Neoplastic, *Clinical Trials as Topic, *Communication, *Consensus, *Cooperative Behavior, *DNA Methylation, *DNA, Bacterial, *Disease Manageme...   \n",
       "3  [*Aging, *Apoptosis, *Attitude to Health, *Blood Gas Analysis/methods, *Capnography, *Cell Aging, *Cell Differentiation/immunology, *Cell Transformation, Neoplastic, *Clinical Trials as Topic, *Communication, *Consensus, *Cooperative Behavior, *DNA Methylation, *DNA, Bacterial, *Disease Manageme...   \n",
       "4  [*Aging, *Apoptosis, *Attitude to Health, *Blood Gas Analysis/methods, *Capnography, *Cell Aging, *Cell Differentiation/immunology, *Cell Transformation, Neoplastic, *Clinical Trials as Topic, *Communication, *Consensus, *Cooperative Behavior, *DNA Methylation, *DNA, Bacterial, *Disease Manageme...   \n",
       "\n",
       "         rcr  \n",
       "0  21.568686  \n",
       "1   1.128043  \n",
       "2   1.293934  \n",
       "3   1.480776  \n",
       "4   1.220404  "
      ]
     },
     "execution_count": 62,
     "metadata": {},
     "output_type": "execute_result"
    }
   ],
   "source": [
    "df.head()"
   ]
  },
  {
   "cell_type": "code",
   "execution_count": 88,
   "metadata": {
    "collapsed": false
   },
   "outputs": [
    {
     "data": {
      "text/plain": [
       "pubdate\n",
       "2008      1\n",
       "2009      5\n",
       "2010     30\n",
       "2011     48\n",
       "2012     76\n",
       "2013    121\n",
       "2014    122\n",
       "2015    146\n",
       "2016     51\n",
       "Name: pmid, dtype: int64"
      ]
     },
     "execution_count": 88,
     "metadata": {},
     "output_type": "execute_result"
    }
   ],
   "source": [
    "df.groupby(df.pubdate.map(lambda x: x.year)).pmid.count()"
   ]
  },
  {
   "cell_type": "code",
   "execution_count": 90,
   "metadata": {
    "collapsed": false
   },
   "outputs": [],
   "source": [
    "df.index = df.pubdate"
   ]
  },
  {
   "cell_type": "code",
   "execution_count": 93,
   "metadata": {
    "collapsed": false
   },
   "outputs": [
    {
     "data": {
      "text/plain": [
       "<matplotlib.axes._subplots.AxesSubplot at 0x7fed451496a0>"
      ]
     },
     "execution_count": 93,
     "metadata": {},
     "output_type": "execute_result"
    },
    {
     "data": {
      "image/png": "[encoded data removed]",
      "text/plain": [
       "<matplotlib.figure.Figure at 0x7fed45141438>"
      ]
     },
     "metadata": {},
     "output_type": "display_data"
    }
   ],
   "source": [
    "df.groupby('pubdate').pmid.count().plot()"
   ]
  },
  {
   "cell_type": "code",
   "execution_count": null,
   "metadata": {
    "collapsed": true
   },
   "outputs": [],
   "source": []
  }
 ],
 "metadata": {
  "kernelspec": {
   "display_name": "Python 3",
   "language": "python",
   "name": "python3"
  },
  "language_info": {
   "codemirror_mode": {
    "name": "ipython",
    "version": 3
   },
   "file_extension": ".py",
   "mimetype": "text/x-python",
   "name": "python",
   "nbconvert_exporter": "python",
   "pygments_lexer": "ipython3",
   "version": "3.5.2"
  }
 },
 "nbformat": 4,
 "nbformat_minor": 2
}
