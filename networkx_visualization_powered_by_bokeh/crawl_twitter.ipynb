{
 "cells": [
  {
   "cell_type": "code",
   "execution_count": null,
   "metadata": {
    "collapsed": false
   },
   "outputs": [],
   "source": [
    "import tweepy\n",
    "import networkx"
   ]
  },
  {
   "cell_type": "code",
   "execution_count": null,
   "metadata": {
    "collapsed": true
   },
   "outputs": [],
   "source": [
    "europython_id = 15324940"
   ]
  },
  {
   "cell_type": "code",
   "execution_count": null,
   "metadata": {
    "collapsed": true
   },
   "outputs": [],
   "source": [
    "consumer_key = ''\n",
    "consumer_secret = ''\n",
    "access_token = ''\n",
    "access_token_secret = ''"
   ]
  },
  {
   "cell_type": "code",
   "execution_count": null,
   "metadata": {
    "collapsed": false
   },
   "outputs": [],
   "source": [
    "auth = tweepy.OAuthHandler(consumer_key, consumer_secret)\n",
    "auth.set_access_token(access_token, access_token_secret)\n",
    "api = tweepy.API(auth)"
   ]
  },
  {
   "cell_type": "code",
   "execution_count": null,
   "metadata": {
    "collapsed": false,
    "scrolled": true
   },
   "outputs": [],
   "source": [
    "results = []\n",
    "max_id = None\n",
    "while True:\n",
    "    try:\n",
    "        print(\"do a request, currently {} results\".format(len(results)))\n",
    "        statuses = api.search('@europython since:2016-07-17 until:2016-07-22',\n",
    "                              count=100,\n",
    "                              max_id=max_id)\n",
    "        if statuses:\n",
    "            results.extend(statuses)\n",
    "            max_id = min([x.id for x in statuses]) - 1\n",
    "        else:\n",
    "            print(\"done with %d results\" % len(results))\n",
    "            break\n",
    "    except KeyboardInterrupt:\n",
    "        print('stopped by user')\n",
    "        break"
   ]
  },
  {
   "cell_type": "code",
   "execution_count": null,
   "metadata": {
    "collapsed": false
   },
   "outputs": [],
   "source": [
    "network = networkx.Graph()\n",
    "for status in results:\n",
    "    if status.user.id not in network.node:\n",
    "        network.add_node(status.user.screen_name, name=status.user.name)\n",
    "    \n",
    "    for user in status.entities['user_mentions']:\n",
    "        if user['id'] not in network.node:\n",
    "            network.add_node(user['screen_name'], name=user['name'])\n",
    "        try:\n",
    "            network.edge[status.user.screen_name][user['screen_name']]['weight'] += 1\n",
    "        except KeyError:\n",
    "            network.add_edge(status.user.screen_name, user['screen_name'], weight=1)"
   ]
  },
  {
   "cell_type": "code",
   "execution_count": null,
   "metadata": {
    "collapsed": false
   },
   "outputs": [],
   "source": [
    "network.number_of_nodes()"
   ]
  },
  {
   "cell_type": "code",
   "execution_count": null,
   "metadata": {
    "collapsed": false
   },
   "outputs": [],
   "source": [
    "networkx.write_gml(network, \"ep2016-2.gml\")"
   ]
  }
 ],
 "metadata": {
  "kernelspec": {
   "display_name": "Python 3",
   "language": "python",
   "name": "python3"
  },
  "language_info": {
   "codemirror_mode": {
    "name": "ipython",
    "version": 3
   },
   "file_extension": ".py",
   "mimetype": "text/x-python",
   "name": "python",
   "nbconvert_exporter": "python",
   "pygments_lexer": "ipython3",
   "version": "3.5.1"
  }
 },
 "nbformat": 4,
 "nbformat_minor": 0
}
