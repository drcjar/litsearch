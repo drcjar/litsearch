{
 "cells": [
  {
   "cell_type": "code",
   "execution_count": 1,
   "metadata": {},
   "outputs": [],
   "source": [
    "import pandas as pd\n",
    "import sqlite3\n",
    "from IPython.display import HTML\n",
    "%matplotlib inline"
   ]
  },
  {
   "cell_type": "code",
   "execution_count": 2,
   "metadata": {
    "collapsed": true
   },
   "outputs": [],
   "source": [
    "def make_clickable(val):\n",
    "    return '<a href=\"{}\">{}</a>'.format(val,val)"
   ]
  },
  {
   "cell_type": "code",
   "execution_count": 3,
   "metadata": {},
   "outputs": [],
   "source": [
    "conn = sqlite3.connect('papers.db')\n",
    "test = pd.read_sql_query('SELECT * FROM papers', conn)"
   ]
  },
  {
   "cell_type": "code",
   "execution_count": 4,
   "metadata": {
    "collapsed": true
   },
   "outputs": [],
   "source": [
    "target = pd.read_csv('ipfjes-case-control-studies.csv', usecols=['pmid','title','firstauthor','lastauthor',\n",
    "                                                             'journal','pubdate','pubtype',\n",
    "                                                             'abstract', 'keywords', 'rcr', 'citedby', 'cites'])"
   ]
  },
  {
   "cell_type": "code",
   "execution_count": 5,
   "metadata": {},
   "outputs": [],
   "source": [
    "target['target'] = 1\n",
    "\n",
    "test['target'] = 0\n",
    "\n",
    "training = pd.concat([target, test.head(14)])\n",
    "\n",
    "from sklearn.feature_extraction.text import CountVectorizer\n",
    "count_vectorizer = CountVectorizer()\n",
    "counts = count_vectorizer.fit_transform(training['abstract'].values)\n",
    "\n",
    "from sklearn.naive_bayes import MultinomialNB\n",
    "classifier = MultinomialNB()\n",
    "targets = training['target'].values\n",
    "classifier.fit(counts, targets)\n",
    "\n",
    "test_counts = count_vectorizer.transform(test['abstract'].values)\n",
    "predictions = classifier.predict(test_counts)\n",
    "predictions_prob = classifier.predict_proba(test_counts)"
   ]
  },
  {
   "cell_type": "code",
   "execution_count": 6,
   "metadata": {},
   "outputs": [],
   "source": [
    "test['testresult'] = predictions\n",
    "test['testprob'] = pd.DataFrame(predictions_prob)[1]\n",
    "test['link'] = 'https://www.ncbi.nlm.nih.gov/pubmed/' + test['pmid']"
   ]
  },
  {
   "cell_type": "code",
   "execution_count": 7,
   "metadata": {},
   "outputs": [
    {
     "data": {
      "text/html": [
       "<style  type=\"text/css\" >\n",
       "</style>  \n",
       "<table id=\"T_4ca72598_6c08_11e7_8925_a44e31e22020\" > \n",
       "<thead>    <tr> \n",
       "        <th class=\"blank level0\" ></th> \n",
       "        <th class=\"col_heading level0 col0\" >title</th> \n",
       "        <th class=\"col_heading level0 col1\" >link</th> \n",
       "    </tr></thead> \n",
       "<tbody>    <tr> \n",
       "        <th id=\"T_4ca72598_6c08_11e7_8925_a44e31e22020level0_row0\" class=\"row_heading level0 row0\" >1510</th> \n",
       "        <td id=\"T_4ca72598_6c08_11e7_8925_a44e31e22020row0_col0\" class=\"data row0 col0\" ><a href=\"Diffuse Pulmonary Ossification in Fibrosing Interstitial Lung Diseases: Prevalence and Associations.\">Diffuse Pulmonary Ossification in Fibrosing Interstitial Lung Diseases: Prevalence and Associations.</a></td> \n",
       "        <td id=\"T_4ca72598_6c08_11e7_8925_a44e31e22020row0_col1\" class=\"data row0 col1\" ><a href=\"https://www.ncbi.nlm.nih.gov/pubmed/28182861\">https://www.ncbi.nlm.nih.gov/pubmed/28182861</a></td> \n",
       "    </tr>    <tr> \n",
       "        <th id=\"T_4ca72598_6c08_11e7_8925_a44e31e22020level0_row1\" class=\"row_heading level0 row1\" >4560</th> \n",
       "        <td id=\"T_4ca72598_6c08_11e7_8925_a44e31e22020row1_col0\" class=\"data row1 col0\" ><a href=\"The diagnostic importance of the bronchoalveolar lavage in lymphocytic alveolitis.\">The diagnostic importance of the bronchoalveolar lavage in lymphocytic alveolitis.</a></td> \n",
       "        <td id=\"T_4ca72598_6c08_11e7_8925_a44e31e22020row1_col1\" class=\"data row1 col1\" ><a href=\"https://www.ncbi.nlm.nih.gov/pubmed/27471881\">https://www.ncbi.nlm.nih.gov/pubmed/27471881</a></td> \n",
       "    </tr>    <tr> \n",
       "        <th id=\"T_4ca72598_6c08_11e7_8925_a44e31e22020level0_row2\" class=\"row_heading level0 row2\" >3244</th> \n",
       "        <td id=\"T_4ca72598_6c08_11e7_8925_a44e31e22020row2_col0\" class=\"data row2 col0\" ><a href=\"Cholesterol, lipoproteins and subclinical interstitial lung disease: the MESA study.\">Cholesterol, lipoproteins and subclinical interstitial lung disease: the MESA study.</a></td> \n",
       "        <td id=\"T_4ca72598_6c08_11e7_8925_a44e31e22020row2_col1\" class=\"data row2 col1\" ><a href=\"https://www.ncbi.nlm.nih.gov/pubmed/28130491\">https://www.ncbi.nlm.nih.gov/pubmed/28130491</a></td> \n",
       "    </tr>    <tr> \n",
       "        <th id=\"T_4ca72598_6c08_11e7_8925_a44e31e22020level0_row3\" class=\"row_heading level0 row3\" >86</th> \n",
       "        <td id=\"T_4ca72598_6c08_11e7_8925_a44e31e22020row3_col0\" class=\"data row3 col0\" ><a href=\"Effect of statins on disease-related outcomes in patients with idiopathic pulmonary fibrosis.\">Effect of statins on disease-related outcomes in patients with idiopathic pulmonary fibrosis.</a></td> \n",
       "        <td id=\"T_4ca72598_6c08_11e7_8925_a44e31e22020row3_col1\" class=\"data row3 col1\" ><a href=\"https://www.ncbi.nlm.nih.gov/pubmed/27708114\">https://www.ncbi.nlm.nih.gov/pubmed/27708114</a></td> \n",
       "    </tr>    <tr> \n",
       "        <th id=\"T_4ca72598_6c08_11e7_8925_a44e31e22020level0_row4\" class=\"row_heading level0 row4\" >99</th> \n",
       "        <td id=\"T_4ca72598_6c08_11e7_8925_a44e31e22020row4_col0\" class=\"data row4 col0\" ><a href=\"Investigation of viral infection in idiopathic pulmonary fibrosis among Iranian patients in Tehran.\">Investigation of viral infection in idiopathic pulmonary fibrosis among Iranian patients in Tehran.</a></td> \n",
       "        <td id=\"T_4ca72598_6c08_11e7_8925_a44e31e22020row4_col1\" class=\"data row4 col1\" ><a href=\"https://www.ncbi.nlm.nih.gov/pubmed/28115263\">https://www.ncbi.nlm.nih.gov/pubmed/28115263</a></td> \n",
       "    </tr>    <tr> \n",
       "        <th id=\"T_4ca72598_6c08_11e7_8925_a44e31e22020level0_row5\" class=\"row_heading level0 row5\" >3426</th> \n",
       "        <td id=\"T_4ca72598_6c08_11e7_8925_a44e31e22020row5_col0\" class=\"data row5 col0\" ><a href=\"Histologist's original opinion compared with multidisciplinary team in determining diagnosis in interstitial lung disease.\">Histologist's original opinion compared with multidisciplinary team in determining diagnosis in interstitial lung disease.</a></td> \n",
       "        <td id=\"T_4ca72598_6c08_11e7_8925_a44e31e22020row5_col1\" class=\"data row5 col1\" ><a href=\"https://www.ncbi.nlm.nih.gov/pubmed/27815523\">https://www.ncbi.nlm.nih.gov/pubmed/27815523</a></td> \n",
       "    </tr>    <tr> \n",
       "        <th id=\"T_4ca72598_6c08_11e7_8925_a44e31e22020level0_row6\" class=\"row_heading level0 row6\" >3025</th> \n",
       "        <td id=\"T_4ca72598_6c08_11e7_8925_a44e31e22020row6_col0\" class=\"data row6 col0\" ><a href=\"Interstitial Lung Disease in the Elderly.\">Interstitial Lung Disease in the Elderly.</a></td> \n",
       "        <td id=\"T_4ca72598_6c08_11e7_8925_a44e31e22020row6_col1\" class=\"data row6 col1\" ><a href=\"https://www.ncbi.nlm.nih.gov/pubmed/27865876\">https://www.ncbi.nlm.nih.gov/pubmed/27865876</a></td> \n",
       "    </tr></tbody> \n",
       "</table> "
      ],
      "text/plain": [
       "<pandas.io.formats.style.Styler at 0x7fd3d36e8f98>"
      ]
     },
     "execution_count": 7,
     "metadata": {},
     "output_type": "execute_result"
    }
   ],
   "source": [
    "results = test[(test.testresult == 1) & (test.date.str.contains('2017'))].sort_values(by='testprob', ascending=False)\n",
    "results[['title', 'link']].style.format(make_clickable) # clickable results are important"
   ]
  },
  {
   "cell_type": "code",
   "execution_count": 18,
   "metadata": {},
   "outputs": [
    {
     "data": {
      "text/html": [
       "<div>\n",
       "<style>\n",
       "    .dataframe thead tr:only-child th {\n",
       "        text-align: right;\n",
       "    }\n",
       "\n",
       "    .dataframe thead th {\n",
       "        text-align: left;\n",
       "    }\n",
       "\n",
       "    .dataframe tbody tr th {\n",
       "        vertical-align: top;\n",
       "    }\n",
       "</style>\n",
       "<table border=\"1\" class=\"dataframe\">\n",
       "  <thead>\n",
       "    <tr style=\"text-align: right;\">\n",
       "      <th></th>\n",
       "      <th>pmid</th>\n",
       "      <th>date</th>\n",
       "      <th>author</th>\n",
       "      <th>title</th>\n",
       "      <th>journal</th>\n",
       "    </tr>\n",
       "  </thead>\n",
       "  <tbody>\n",
       "    <tr>\n",
       "      <th>22</th>\n",
       "      <td>25165873</td>\n",
       "      <td>2014 Oct</td>\n",
       "      <td>Hutchinson JP, McKeever TM, Fogarty AW, Navaratnam V, Hubbard RB</td>\n",
       "      <td>Increasing global mortality from idiopathic pulmonary fibrosis in the twenty-first century.</td>\n",
       "      <td>Annals of the American Thoracic Society</td>\n",
       "    </tr>\n",
       "    <tr>\n",
       "      <th>86</th>\n",
       "      <td>27708114</td>\n",
       "      <td>2017 Feb</td>\n",
       "      <td>Kreuter M, Bonella F, Maher TM, Costabel U, Spagnolo P, Weycker D, Kirchgaessler KU, Kolb M</td>\n",
       "      <td>Effect of statins on disease-related outcomes in patients with idiopathic pulmonary fibrosis.</td>\n",
       "      <td>Thorax</td>\n",
       "    </tr>\n",
       "    <tr>\n",
       "      <th>89</th>\n",
       "      <td>24002055</td>\n",
       "      <td>2014 Mar</td>\n",
       "      <td>Navaratnam V, Fogarty AW, McKeever T, Thompson N, Jenkins G, Johnson SR, Dolan G, Kumaran M, Pointon K, Hubbard RB</td>\n",
       "      <td>Presence of a prothrombotic state in people with idiopathic pulmonary fibrosis: a population-based case-control study.</td>\n",
       "      <td>Thorax</td>\n",
       "    </tr>\n",
       "    <tr>\n",
       "      <th>90</th>\n",
       "      <td>26176338</td>\n",
       "      <td>2015 Sep</td>\n",
       "      <td>Gavini S, Finn RT, Lo WK, Goldberg HJ, Burakoff R, Feldman N, Chan WW</td>\n",
       "      <td>Idiopathic pulmonary fibrosis is associated with increased impedance measures of reflux compared to non-fibrotic disease among pre-lung transplant patients.</td>\n",
       "      <td>Neurogastroenterology and motility : the official journal of the European Gastrointestinal Motility Society</td>\n",
       "    </tr>\n",
       "    <tr>\n",
       "      <th>99</th>\n",
       "      <td>28115263</td>\n",
       "      <td>2017 Mar</td>\n",
       "      <td>Moradi P, Keyvani H, Javad Mousavi SA, Karbalaie Niya MH, Esghaei M, Bokharaei-Salim F, Ataei-Pirkooh A, Monavari SH</td>\n",
       "      <td>Investigation of viral infection in idiopathic pulmonary fibrosis among Iranian patients in Tehran.</td>\n",
       "      <td>Microbial pathogenesis</td>\n",
       "    </tr>\n",
       "  </tbody>\n",
       "</table>\n",
       "</div>"
      ],
      "text/plain": [
       "        pmid      date  \\\n",
       "22  25165873  2014 Oct   \n",
       "86  27708114  2017 Feb   \n",
       "89  24002055  2014 Mar   \n",
       "90  26176338  2015 Sep   \n",
       "99  28115263  2017 Mar   \n",
       "\n",
       "                                                                                                                  author  \\\n",
       "22                                                      Hutchinson JP, McKeever TM, Fogarty AW, Navaratnam V, Hubbard RB   \n",
       "86                           Kreuter M, Bonella F, Maher TM, Costabel U, Spagnolo P, Weycker D, Kirchgaessler KU, Kolb M   \n",
       "89    Navaratnam V, Fogarty AW, McKeever T, Thompson N, Jenkins G, Johnson SR, Dolan G, Kumaran M, Pointon K, Hubbard RB   \n",
       "90                                                 Gavini S, Finn RT, Lo WK, Goldberg HJ, Burakoff R, Feldman N, Chan WW   \n",
       "99  Moradi P, Keyvani H, Javad Mousavi SA, Karbalaie Niya MH, Esghaei M, Bokharaei-Salim F, Ataei-Pirkooh A, Monavari SH   \n",
       "\n",
       "                                                                                                                                                           title  \\\n",
       "22                                                                   Increasing global mortality from idiopathic pulmonary fibrosis in the twenty-first century.   \n",
       "86                                                                 Effect of statins on disease-related outcomes in patients with idiopathic pulmonary fibrosis.   \n",
       "89                                        Presence of a prothrombotic state in people with idiopathic pulmonary fibrosis: a population-based case-control study.   \n",
       "90  Idiopathic pulmonary fibrosis is associated with increased impedance measures of reflux compared to non-fibrotic disease among pre-lung transplant patients.   \n",
       "99                                                           Investigation of viral infection in idiopathic pulmonary fibrosis among Iranian patients in Tehran.   \n",
       "\n",
       "                                                                                                        journal  \n",
       "22                                                                      Annals of the American Thoracic Society  \n",
       "86                                                                                                       Thorax  \n",
       "89                                                                                                       Thorax  \n",
       "90  Neurogastroenterology and motility : the official journal of the European Gastrointestinal Motility Society  \n",
       "99                                                                                       Microbial pathogenesis  "
      ]
     },
     "execution_count": 18,
     "metadata": {},
     "output_type": "execute_result"
    }
   ],
   "source": [
    "results = test[(test.testresult == 1)].sort_values(by='testprob', ascending=False)\n",
    "pd.set_option('max_colwidth',1000)\n",
    "result[['pmid', 'date', 'author', 'title', 'journal']]\n"
   ]
  },
  {
   "cell_type": "code",
   "execution_count": null,
   "metadata": {
    "collapsed": true
   },
   "outputs": [],
   "source": []
  }
 ],
 "metadata": {
  "kernelspec": {
   "display_name": "Python 3",
   "language": "python",
   "name": "python3"
  },
  "language_info": {
   "codemirror_mode": {
    "name": "ipython",
    "version": 3
   },
   "file_extension": ".py",
   "mimetype": "text/x-python",
   "name": "python",
   "nbconvert_exporter": "python",
   "pygments_lexer": "ipython3",
   "version": "3.5.2"
  }
 },
 "nbformat": 4,
 "nbformat_minor": 2
}
